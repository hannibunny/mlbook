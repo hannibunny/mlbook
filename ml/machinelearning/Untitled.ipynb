{
 "cells": [
  {
   "cell_type": "code",
   "execution_count": 5,
   "id": "blank-sudan",
   "metadata": {},
   "outputs": [
    {
     "name": "stdout",
     "output_type": "stream",
     "text": [
      "\n",
      "k nearest neighbors\n",
      "('1 -->', array([2., 2.]))\n",
      "('2 -->', array([3., 1.]))\n",
      "('3 -->', array([3., 3.]))\n"
     ]
    },
    {
     "data": {
      "image/png": "[encoded data removed]",
      "text/plain": [
       "<Figure size 432x288 with 1 Axes>"
      ]
     },
     "metadata": {
      "needs_background": "light"
     },
     "output_type": "display_data"
    },
    {
     "data": {
      "image/png": "[encoded data removed]",
      "text/plain": [
       "<Figure size 432x288 with 1 Axes>"
      ]
     },
     "metadata": {
      "needs_background": "light"
     },
     "output_type": "display_data"
    }
   ],
   "source": [
    "import numpy as np\n",
    "import matplotlib.pyplot as plt\n",
    "from sklearn.neighbors import NearestNeighbors\n",
    "\n",
    "\n",
    "# Input data\n",
    "X = np.array([[1, 1], [1, 3], [2, 2], [2.5, 5], [3, 1], \n",
    "        [4, 2], [2, 3.5], [3, 3], [3.5, 4]])\n",
    "\n",
    "# Number of neighbors we want to find\n",
    "num_neighbors = 3\n",
    "\n",
    "# Input point\n",
    "input_point = [[2.6, 1.7]]\n",
    "\n",
    "# Plot datapoints\n",
    "plt.figure()\n",
    "plt.scatter(X[:,0], X[:,1], marker='o', s=25, color='k')\n",
    "\n",
    "# Build nearest neighbors model\n",
    "knn = NearestNeighbors(n_neighbors=num_neighbors, algorithm='ball_tree').fit(X)\n",
    "distances, indices = knn.kneighbors(input_point)\n",
    "\n",
    "# Print the 'k' nearest neighbors\n",
    "print(\"\\nk nearest neighbors\")\n",
    "for rank, index in enumerate(indices[0][:num_neighbors]):\n",
    "    print((str(rank+1) + \" -->\", X[index]))\n",
    "\n",
    "# Plot the nearest neighbors \n",
    "plt.figure()\n",
    "plt.scatter(X[:,0], X[:,1], marker='o', s=25, color='k')\n",
    "plt.scatter(X[indices][0][:][:,0], X[indices][0][:][:,1], \n",
    "        marker='o', s=150, color='k', facecolors='none')\n",
    "plt.scatter(input_point[0][0], input_point[0][1],\n",
    "        marker='x', s=150, color='k', facecolors='none')\n",
    "\n",
    "plt.show()"
   ]
  },
  {
   "cell_type": "code",
   "execution_count": null,
   "id": "chubby-brush",
   "metadata": {},
   "outputs": [],
   "source": []
  }
 ],
 "metadata": {
  "kernelspec": {
   "display_name": "Python 3",
   "language": "python",
   "name": "python3"
  },
  "language_info": {
   "codemirror_mode": {
    "name": "ipython",
    "version": 3
   },
   "file_extension": ".py",
   "mimetype": "text/x-python",
   "name": "python",
   "nbconvert_exporter": "python",
   "pygments_lexer": "ipython3",
   "version": "3.8.0"
  },
  "toc": {
   "base_numbering": 1,
   "nav_menu": {},
   "number_sections": true,
   "sideBar": true,
   "skip_h1_title": false,
   "title_cell": "Table of Contents",
   "title_sidebar": "Contents",
   "toc_cell": false,
   "toc_position": {},
   "toc_section_display": true,
   "toc_window_display": false
  }
 },
 "nbformat": 4,
 "nbformat_minor": 5
}
