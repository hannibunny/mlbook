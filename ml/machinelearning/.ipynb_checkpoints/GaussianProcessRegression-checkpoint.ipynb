{
 "cells": [
  {
   "cell_type": "markdown",
   "metadata": {},
   "source": [
    "# Gaussian Process: Implementation in Python \n",
    "\n",
    "In this section Gaussian Processes regression, as described in the [previous section](gp), is implemented in Python. First the case of predefined mean- and covariance-function is implemented. In the second part these functions are learned from data."
   ]
  },
  {
   "cell_type": "code",
   "execution_count": 15,
   "metadata": {},
   "outputs": [],
   "source": [
    "import numpy as np\n",
    "from scipy import r_\n",
    "from matplotlib import pyplot as plt\n",
    "np.set_printoptions(precision=5,suppress=True)"
   ]
  },
  {
   "cell_type": "markdown",
   "metadata": {},
   "source": [
    "## Gaussian Process for Regression"
   ]
  },
  {
   "cell_type": "markdown",
   "metadata": {},
   "source": [
    "Definition of training data. This is the same data as used in the GP regression example in the [previous section](gp)."
   ]
  },
  {
   "cell_type": "code",
   "execution_count": 35,
   "metadata": {},
   "outputs": [],
   "source": [
    "xB=np.array([1,2,3,4])\n",
    "yB=np.array([0.25,0.95,2.3,3.9])"
   ]
  },
  {
   "cell_type": "code",
   "execution_count": 36,
   "metadata": {},
   "outputs": [
    {
     "data": {
      "image/png": "[encoded data removed]",
      "text/plain": [
       "<Figure size 864x720 with 1 Axes>"
      ]
     },
     "metadata": {
      "needs_background": "light"
     },
     "output_type": "display_data"
    }
   ],
   "source": [
    "plt.figure(figsize=(12, 10))\n",
    "plt.plot(xB,yB,\"or\",label=\"Training Data\")\n",
    "plt.legend()\n",
    "plt.show()"
   ]
  },
  {
   "cell_type": "markdown",
   "metadata": {},
   "source": [
    "Define the positions at wich the function values shall be predicted. In contrast to the GP regression in the [previous section](gp), below we predict numeric values not only at the three locations $5,6$ and $7$, but at all locations in the range from 0 to 7 with a resolution of $0.2$: "
   ]
  },
  {
   "cell_type": "code",
   "execution_count": 37,
   "metadata": {},
   "outputs": [],
   "source": [
    "xPred=np.arange(0,7,0.2)"
   ]
  },
  {
   "cell_type": "markdown",
   "metadata": {},
   "source": [
    "Define the hyperparameters for the mean- and covariance function"
   ]
  },
  {
   "cell_type": "code",
   "execution_count": 38,
   "metadata": {},
   "outputs": [],
   "source": [
    "c2=0.25 # constant coefficient of quadratic term in prior mean function\n",
    "ell=1 # horizontal length scale parameter in the squared exponential function\n",
    "sigmaF2=2 #sigmaF2 is the variance of the multivariate gaussian distribution\n",
    "sigmaN2=0.005 #sigmaN2 is the variance of the regression noise-term"
   ]
  },
  {
   "cell_type": "markdown",
   "metadata": {},
   "source": [
    "Definition of mean- and covariance function. Here, the mean function is a quadratic polynomial and the covariance function is the squared exponential."
   ]
  },
  {
   "cell_type": "code",
   "execution_count": 39,
   "metadata": {},
   "outputs": [],
   "source": [
    "def priormean(xin):\n",
    "    return c2*xin**2\n",
    "\n",
    "def corrFunc(xa,xb):\n",
    "    return sigmaF2*np.exp(-((xa-xb)**2)/(2.0*ell**2))"
   ]
  },
  {
   "cell_type": "markdown",
   "metadata": {},
   "source": [
    "Calculate the values *mx* of the mean function in the range from 0 to 7. These values are just used for plotting. The values *mxB* are the mean-function values at the training data x-values, i.e. the **mean-vector**. These values are applied for calculating the prediction. "
   ]
  },
  {
   "cell_type": "code",
   "execution_count": 40,
   "metadata": {},
   "outputs": [],
   "source": [
    "mx=priormean(xPred)\n",
    "mxB=priormean(xB)"
   ]
  },
  {
   "cell_type": "markdown",
   "metadata": {},
   "source": [
    "Calculate the covariance matrix by evaluating the covariance function at the training data x-values."
   ]
  },
  {
   "cell_type": "code",
   "execution_count": 41,
   "metadata": {},
   "outputs": [
    {
     "name": "stdout",
     "output_type": "stream",
     "text": [
      "---------- Matrix KB ----------\n",
      "[[2.005 1.213 0.271 0.022]\n",
      " [1.213 2.005 1.213 0.271]\n",
      " [0.271 1.213 2.005 1.213]\n",
      " [0.022 0.271 1.213 2.005]]\n"
     ]
    }
   ],
   "source": [
    "KB=np.zeros((len(xB),len(xB)))\n",
    "for i in range(len(xB)):\n",
    "    for j in range(i,len(xB)):\n",
    "        noise=(sigmaN2 if i==j else 0)\n",
    "        k=corrFunc(xB[i],xB[j])+noise\n",
    "        KB[i][j]=k\n",
    "        KB[j][i]=k        \n",
    "print('-'*10+' Matrix KB '+'-'*10)\n",
    "print(KB.round(decimals=3))"
   ]
  },
  {
   "cell_type": "markdown",
   "metadata": {},
   "source": [
    "Calculate the inverse of the covariance matrix"
   ]
  },
  {
   "cell_type": "code",
   "execution_count": 42,
   "metadata": {},
   "outputs": [
    {
     "name": "stdout",
     "output_type": "stream",
     "text": [
      "---------- Inverse of Matrix KB ----------\n",
      "[[ 0.953 -0.862  0.519 -0.208]\n",
      " [-0.862  1.688 -1.219  0.519]\n",
      " [ 0.519 -1.219  1.688 -0.862]\n",
      " [-0.208  0.519 -0.862  0.953]]\n"
     ]
    }
   ],
   "source": [
    "KBInv=np.linalg.inv(KB)\n",
    "print('-'*10+' Inverse of Matrix KB '+'-'*10)\n",
    "print(KBInv.round(decimals=3))"
   ]
  },
  {
   "cell_type": "markdown",
   "metadata": {},
   "source": [
    " Calculate the covariance matrix $K_*$ between training x-values and prediction x-values"
   ]
  },
  {
   "cell_type": "code",
   "execution_count": 43,
   "metadata": {},
   "outputs": [
    {
     "name": "stdout",
     "output_type": "stream",
     "text": [
      "---------- Matrix Ks ----------\n",
      "[[1.21306 0.27067 0.02222 0.00067]\n",
      " [1.4523  0.3958  0.03968 0.00146]\n",
      " [1.67054 0.55607 0.06809 0.00307]\n",
      " [1.84623 0.75062 0.11227 0.00618]\n",
      " [1.9604  0.9735  0.17784 0.01195]\n",
      " [2.      1.21306 0.27067 0.02222]\n",
      " [1.9604  1.4523  0.3958  0.03968]\n",
      " [1.84623 1.67054 0.55607 0.06809]\n",
      " [1.67054 1.84623 0.75062 0.11227]\n",
      " [1.4523  1.9604  0.9735  0.17784]\n",
      " [1.21306 2.      1.21306 0.27067]\n",
      " [0.9735  1.9604  1.4523  0.3958 ]\n",
      " [0.75062 1.84623 1.67054 0.55607]\n",
      " [0.55607 1.67054 1.84623 0.75062]\n",
      " [0.3958  1.4523  1.9604  0.9735 ]\n",
      " [0.27067 1.21306 2.      1.21306]\n",
      " [0.17784 0.9735  1.9604  1.4523 ]\n",
      " [0.11227 0.75062 1.84623 1.67054]\n",
      " [0.06809 0.55607 1.67054 1.84623]\n",
      " [0.03968 0.3958  1.4523  1.9604 ]\n",
      " [0.02222 0.27067 1.21306 2.     ]\n",
      " [0.01195 0.17784 0.9735  1.9604 ]\n",
      " [0.00618 0.11227 0.75062 1.84623]\n",
      " [0.00307 0.06809 0.55607 1.67054]\n",
      " [0.00146 0.03968 0.3958  1.4523 ]\n",
      " [0.00067 0.02222 0.27067 1.21306]\n",
      " [0.0003  0.01195 0.17784 0.9735 ]\n",
      " [0.00013 0.00618 0.11227 0.75062]\n",
      " [0.00005 0.00307 0.06809 0.55607]\n",
      " [0.00002 0.00146 0.03968 0.3958 ]\n",
      " [0.00001 0.00067 0.02222 0.27067]\n",
      " [0.      0.0003  0.01195 0.17784]\n",
      " [0.      0.00013 0.00618 0.11227]\n",
      " [0.      0.00005 0.00307 0.06809]\n",
      " [0.      0.00002 0.00146 0.03968]]\n"
     ]
    }
   ],
   "source": [
    "Ks=np.zeros((len(xPred),len(xB)))\n",
    "for i in range(len(xPred)):\n",
    "    for j in range(len(xB)):\n",
    "        k=corrFunc(xPred[i],xB[j])\n",
    "        Ks[i][j]=k\n",
    "print('-'*10+' Matrix Ks '+'-'*10)\n",
    "print(Ks.round(decimals=5))"
   ]
  },
  {
   "cell_type": "markdown",
   "metadata": {},
   "source": [
    "Calculate the covariance matrix $K_{**}$ between prediction x-values"
   ]
  },
  {
   "cell_type": "code",
   "execution_count": 44,
   "metadata": {},
   "outputs": [
    {
     "name": "stdout",
     "output_type": "stream",
     "text": [
      "---------- Matrix Kss ----------\n",
      "[[2.005 1.96  1.846 ... 0.    0.    0.   ]\n",
      " [1.96  2.005 1.96  ... 0.    0.    0.   ]\n",
      " [1.846 1.96  2.005 ... 0.    0.    0.   ]\n",
      " ...\n",
      " [0.    0.    0.    ... 2.005 1.96  1.846]\n",
      " [0.    0.    0.    ... 1.96  2.005 1.96 ]\n",
      " [0.    0.    0.    ... 1.846 1.96  2.005]]\n"
     ]
    }
   ],
   "source": [
    "Kss=np.zeros((len(xPred),len(xPred)))\n",
    "for i in range(len(xPred)):\n",
    "    for j in range(i,len(xPred)):\n",
    "        noise=(sigmaN2 if i==j else 0)\n",
    "        k=corrFunc(xPred[i],xPred[j])+noise\n",
    "        Kss[i][j]=k\n",
    "        Kss[j][i]=k\n",
    "print('-'*10+' Matrix Kss '+'-'*10)\n",
    "print(Kss.round(decimals=3))"
   ]
  },
  {
   "cell_type": "markdown",
   "metadata": {},
   "source": [
    "Calculate the prediction"
   ]
  },
  {
   "cell_type": "code",
   "execution_count": 45,
   "metadata": {},
   "outputs": [
    {
     "name": "stdout",
     "output_type": "stream",
     "text": [
      "Prediction:  [ 0.0607   0.07144  0.09576  0.1329   0.18343  0.24955  0.33491  0.44404\n",
      "  0.58139  0.75009  0.95099  1.1821   1.43878  1.71466  2.0031   2.29884\n",
      "  2.59926  2.90502  3.21986  3.54962  3.90082  4.27924  4.68881  5.13106\n",
      "  5.60528  6.10899  6.63886  7.19143  7.76378  8.35385  8.96053  9.58348\n",
      " 10.22295 10.87951 11.55381]\n"
     ]
    }
   ],
   "source": [
    "mus=priormean(xPred)\n",
    "ypred=mus+np.dot(np.dot(Ks,KBInv),(yB-mxB))\n",
    "print(\"Prediction: \",ypred)"
   ]
  },
  {
   "cell_type": "markdown",
   "metadata": {},
   "source": [
    "Calculate the covariance of the predictions"
   ]
  },
  {
   "cell_type": "code",
   "execution_count": 46,
   "metadata": {},
   "outputs": [
    {
     "name": "stdout",
     "output_type": "stream",
     "text": [
      "Double Standard Deviation:  [2.03145 1.67176 1.25471 0.81683 0.41676 0.19976 0.30632 0.39288 0.36953\n",
      " 0.2698  0.19958 0.25702 0.32803 0.32803 0.25702 0.19958 0.2698  0.36953\n",
      " 0.39288 0.30632 0.19976 0.41676 0.81683 1.25471 1.67176 2.03145 2.31537\n",
      " 2.52119 2.65828 2.74206 2.78897 2.813   2.82426 2.82908 2.83097]\n"
     ]
    }
   ],
   "source": [
    "yvar=np.diag(Kss-np.dot(Ks,np.dot(KBInv,np.transpose(Ks))))\n",
    "stds=np.sqrt(yvar)\n",
    "print(\"Double Standard Deviation: \",2*stds)"
   ]
  },
  {
   "cell_type": "markdown",
   "metadata": {},
   "source": [
    "Plot training data and predicitons:"
   ]
  },
  {
   "cell_type": "code",
   "execution_count": 47,
   "metadata": {},
   "outputs": [
    {
     "data": {
      "image/png": "[encoded data removed]",
      "text/plain": [
       "<Figure size 864x720 with 1 Axes>"
      ]
     },
     "metadata": {
      "needs_background": "light"
     },
     "output_type": "display_data"
    }
   ],
   "source": [
    "plt.figure(figsize=(12, 10))\n",
    "plt.plot(xPred,mx,label=\"mean $m(x)$\")\n",
    "#plt.hold(True)\n",
    "plt.plot(xB,yB,'or',label=\"training data\")\n",
    "plt.plot(xPred,ypred,'--g',label=\"predictions\")\n",
    "plt.text(0.5,8,\"$m(x)=0.25 \\cdot x^2$ \\n$k(x,x')=2 \\cdot \\exp(-0.5\\cdot(x-x')^2)$ \\n $\\sigma_n^2=0.005$\",fontsize=14)\n",
    "plt.legend(loc=2,numpoints=1)\n",
    "plt.title('Gaussian Process Prediction with prior quadratic mean')\n",
    "plt.xlabel('x')\n",
    "plt.ylabel('f(x)')\n",
    "plt.axis([0,8,0,16])\n",
    "# plot 2*standard deviation 95%-confidence interval\n",
    "fillx = r_[xPred, xPred[::-1]]\n",
    "\n",
    "filly = r_[ypred+2*stds, ypred[::-1]-2*stds[::-1]]\n",
    "plt.fill(fillx, filly, facecolor='gray', edgecolor='white', alpha=0.3)\n",
    "plt.show()"
   ]
  },
  {
   "cell_type": "markdown",
   "metadata": {},
   "source": [
    "## Find optimum hyperparameters for mean- and covariance-function"
   ]
  },
  {
   "cell_type": "code",
   "execution_count": 55,
   "metadata": {},
   "outputs": [],
   "source": [
    "import numpy as np\n",
    "from scipy import r_\n",
    "from matplotlib import pyplot as plt\n",
    "import scipy.optimize as opt"
   ]
  },
  {
   "cell_type": "code",
   "execution_count": 56,
   "metadata": {},
   "outputs": [],
   "source": [
    "xB=np.array([1., 3., 5., 6., 7., 8., 9.])\n",
    "yB=xB*np.sin(xB)"
   ]
  },
  {
   "cell_type": "code",
   "execution_count": 57,
   "metadata": {},
   "outputs": [],
   "source": [
    "def objective(x): #Returns Log-Likelihood, which must be optimized\n",
    "    mxB=x[0]*xB**2+x[1]*xB+x[2]+x[6]*xB**3+x[7]*xB**4\n",
    "    KB=np.zeros((len(xB),len(xB)))\n",
    "    for i in range(len(xB)):\n",
    "        for j in range(i,len(xB)):\n",
    "            noise=x[5]**2\n",
    "            k=x[3]**2*np.exp(-((xB[i]-xB[j])**2)/(2.0*x[4]**2))+noise\n",
    "            KB[i][j]=k\n",
    "            KB[j][i]=k\n",
    "    KBinv=np.linalg.inv(KB)\n",
    "    return -1*(-0.5* np.log(np.linalg.det(KB))-0.5 * np.dot(np.transpose(yB-mxB), \\\n",
    "np.dot(KBinv,(yB-mxB)))-2*np.log(2*np.pi))"
   ]
  },
  {
   "cell_type": "code",
   "execution_count": 58,
   "metadata": {},
   "outputs": [],
   "source": [
    "#Define constraints on the hyperparameters\n",
    "def constr1(x):\n",
    "    return x[4]-1 #horizontal length-scale > 1\n",
    "\n",
    "def constr2(x):\n",
    "    return 5-x[4] #horizontal length-scale < 5\n",
    "\n",
    "def constr3(x):\n",
    "    return x[3]-0.8 #vertical length-scale >0.8"
   ]
  },
  {
   "cell_type": "code",
   "execution_count": 59,
   "metadata": {},
   "outputs": [
    {
     "name": "stdout",
     "output_type": "stream",
     "text": [
      "----------Results of optimisation----------\n",
      "[-0.23152 -0.31679 -0.29716  2.66767  1.00007  1.12804  0.00994  0.00263]\n"
     ]
    }
   ],
   "source": [
    "x0=(0.1, 0.01, 0.01, 2.0, 1.0, 0.01,0.01,0.01) #Startvalues for optimization\n",
    "xopt=opt.fmin_cobyla(objective,x0,cons=[constr1,constr2,constr3])\n",
    "print('-'*10+\"Results of optimisation\"+'-'*10)\n",
    "print(xopt)"
   ]
  },
  {
   "cell_type": "code",
   "execution_count": 60,
   "metadata": {},
   "outputs": [],
   "source": [
    "#####################Definition of hyperparameters#############################\n",
    "c4=xopt[7] # constant coefficient of biquadratic term in prior mean function\n",
    "c3=xopt[6] # constant coefficient of cubic term in prior mean function\n",
    "c2=xopt[0] # constant coefficient of quadratic term in prior mean function\n",
    "c1=xopt[1] # constant coefficient of linear term in prior mean function\n",
    "c0=xopt[2] # constant coefficient constant term in prior mean function\n",
    "ell=xopt[4] # horicontal length scale parameter in the squared exponential function\n",
    "sigmaF2=xopt[3]**2 #sigmaF2 is the variance of the multivariate gaussian distribution\n",
    "sigmaN2=xopt[5]**2 #sigmaN2 is the variance of the regression noise-term"
   ]
  },
  {
   "cell_type": "code",
   "execution_count": 61,
   "metadata": {},
   "outputs": [],
   "source": [
    "###################Definition of mean- and covariance function################# \n",
    "def priormean(xin):\n",
    "    return c4*xin**4+c3*xin**3+c2*xin**2+c1*xin+c0\n",
    "\n",
    "def corrFunc(xa,xb):\n",
    "    return sigmaF2*np.exp(-((xa-xb)**2)/(2.0*ell**2))"
   ]
  },
  {
   "cell_type": "code",
   "execution_count": 62,
   "metadata": {},
   "outputs": [],
   "source": [
    "x=np.arange(0,10,0.1)\n",
    "mx=priormean(x)\n",
    "mxB=priormean(xB)"
   ]
  },
  {
   "cell_type": "code",
   "execution_count": 63,
   "metadata": {},
   "outputs": [],
   "source": [
    "xPred=np.arange(0,10,0.2)"
   ]
  },
  {
   "cell_type": "code",
   "execution_count": 64,
   "metadata": {},
   "outputs": [
    {
     "name": "stdout",
     "output_type": "stream",
     "text": [
      "---------- Matrix KB ----------\n",
      "[[8.389 0.963 0.002 0.    0.    0.    0.   ]\n",
      " [0.963 8.389 0.963 0.079 0.002 0.    0.   ]\n",
      " [0.002 0.963 8.389 4.317 0.963 0.079 0.002]\n",
      " [0.    0.079 4.317 8.389 4.317 0.963 0.079]\n",
      " [0.    0.002 0.963 4.317 8.389 4.317 0.963]\n",
      " [0.    0.    0.079 0.963 4.317 8.389 4.317]\n",
      " [0.    0.    0.002 0.079 0.963 4.317 8.389]]\n"
     ]
    }
   ],
   "source": [
    "KB=np.zeros((len(xB),len(xB)))\n",
    "for i in range(len(xB)):\n",
    "    for j in range(i,len(xB)):\n",
    "        noise=(sigmaN2 if i==j else 0)\n",
    "        k=corrFunc(xB[i],xB[j])+noise\n",
    "        KB[i][j]=k\n",
    "        KB[j][i]=k        \n",
    "print('-'*10+' Matrix KB '+'-'*10)\n",
    "print(KB.round(decimals=3))"
   ]
  },
  {
   "cell_type": "code",
   "execution_count": 65,
   "metadata": {},
   "outputs": [
    {
     "name": "stdout",
     "output_type": "stream",
     "text": [
      "---------- Inverse of Matrix KB ----------\n",
      "[[ 0.121 -0.014  0.002 -0.001  0.    -0.     0.   ]\n",
      " [-0.014  0.123 -0.019  0.01  -0.004  0.001 -0.   ]\n",
      " [ 0.002 -0.019  0.173 -0.109  0.042 -0.012  0.002]\n",
      " [-0.001  0.01  -0.109  0.239 -0.134  0.049 -0.012]\n",
      " [ 0.    -0.004  0.042 -0.134  0.247 -0.134  0.042]\n",
      " [-0.     0.001 -0.012  0.049 -0.134  0.238 -0.107]\n",
      " [ 0.    -0.     0.002 -0.012  0.042 -0.107  0.17 ]]\n"
     ]
    }
   ],
   "source": [
    "KBInv=np.linalg.inv(KB)\n",
    "print('-'*10+' Inverse of Matrix KB '+'-'*10)\n",
    "print(KBInv.round(decimals=3))"
   ]
  },
  {
   "cell_type": "code",
   "execution_count": 66,
   "metadata": {},
   "outputs": [
    {
     "name": "stdout",
     "output_type": "stream",
     "text": [
      "---------- Matrix Ks ----------\n",
      "[[4.31663 0.0791  0.00003 0.      0.      0.      0.     ]\n",
      " [5.16783 0.14127 0.00007 0.      0.      0.      0.     ]\n",
      " [5.94431 0.2424  0.00018 0.      0.      0.      0.     ]\n",
      " [6.56939 0.39963 0.00045 0.      0.      0.      0.     ]\n",
      " [6.97556 0.63301 0.00105 0.00001 0.      0.      0.     ]\n",
      " [7.11646 0.96336 0.00239 0.00003 0.      0.      0.     ]\n",
      " [6.97556 1.40864 0.00521 0.00007 0.      0.      0.     ]\n",
      " [6.56939 1.97897 0.01092 0.00018 0.      0.      0.     ]\n",
      " [5.94431 2.67123 0.022   0.00045 0.      0.      0.     ]\n",
      " [5.16783 3.46428 0.04256 0.00105 0.00001 0.      0.     ]\n",
      " [4.31663 4.31663 0.0791  0.00239 0.00003 0.      0.     ]\n",
      " [3.46428 5.16783 0.14127 0.00521 0.00007 0.      0.     ]\n",
      " [2.67123 5.94431 0.2424  0.01092 0.00018 0.      0.     ]\n",
      " [1.97897 6.56939 0.39963 0.022   0.00045 0.      0.     ]\n",
      " [1.40864 6.97556 0.63301 0.04256 0.00105 0.00001 0.     ]\n",
      " [0.96336 7.11646 0.96336 0.0791  0.00239 0.00003 0.     ]\n",
      " [0.63301 6.97556 1.40864 0.14127 0.00521 0.00007 0.     ]\n",
      " [0.39963 6.56939 1.97897 0.2424  0.01092 0.00018 0.     ]\n",
      " [0.2424  5.94431 2.67123 0.39963 0.022   0.00045 0.     ]\n",
      " [0.14127 5.16783 3.46428 0.63301 0.04256 0.00105 0.00001]\n",
      " [0.0791  4.31663 4.31663 0.96336 0.0791  0.00239 0.00003]\n",
      " [0.04256 3.46428 5.16783 1.40864 0.14127 0.00521 0.00007]\n",
      " [0.022   2.67123 5.94431 1.97897 0.2424  0.01092 0.00018]\n",
      " [0.01092 1.97897 6.56939 2.67123 0.39963 0.022   0.00045]\n",
      " [0.00521 1.40864 6.97556 3.46428 0.63301 0.04256 0.00105]\n",
      " [0.00239 0.96336 7.11646 4.31663 0.96336 0.0791  0.00239]\n",
      " [0.00105 0.63301 6.97556 5.16783 1.40864 0.14127 0.00521]\n",
      " [0.00045 0.39963 6.56939 5.94431 1.97897 0.2424  0.01092]\n",
      " [0.00018 0.2424  5.94431 6.56939 2.67123 0.39963 0.022  ]\n",
      " [0.00007 0.14127 5.16783 6.97556 3.46428 0.63301 0.04256]\n",
      " [0.00003 0.0791  4.31663 7.11646 4.31663 0.96336 0.0791 ]\n",
      " [0.00001 0.04256 3.46428 6.97556 5.16783 1.40864 0.14127]\n",
      " [0.      0.022   2.67123 6.56939 5.94431 1.97897 0.2424 ]\n",
      " [0.      0.01092 1.97897 5.94431 6.56939 2.67123 0.39963]\n",
      " [0.      0.00521 1.40864 5.16783 6.97556 3.46428 0.63301]\n",
      " [0.      0.00239 0.96336 4.31663 7.11646 4.31663 0.96336]\n",
      " [0.      0.00105 0.63301 3.46428 6.97556 5.16783 1.40864]\n",
      " [0.      0.00045 0.39963 2.67123 6.56939 5.94431 1.97897]\n",
      " [0.      0.00018 0.2424  1.97897 5.94431 6.56939 2.67123]\n",
      " [0.      0.00007 0.14127 1.40864 5.16783 6.97556 3.46428]\n",
      " [0.      0.00003 0.0791  0.96336 4.31663 7.11646 4.31663]\n",
      " [0.      0.00001 0.04256 0.63301 3.46428 6.97556 5.16783]\n",
      " [0.      0.      0.022   0.39963 2.67123 6.56939 5.94431]\n",
      " [0.      0.      0.01092 0.2424  1.97897 5.94431 6.56939]\n",
      " [0.      0.      0.00521 0.14127 1.40864 5.16783 6.97556]\n",
      " [0.      0.      0.00239 0.0791  0.96336 4.31663 7.11646]\n",
      " [0.      0.      0.00105 0.04256 0.63301 3.46428 6.97556]\n",
      " [0.      0.      0.00045 0.022   0.39963 2.67123 6.56939]\n",
      " [0.      0.      0.00018 0.01092 0.2424  1.97897 5.94431]\n",
      " [0.      0.      0.00007 0.00521 0.14127 1.40864 5.16783]]\n"
     ]
    }
   ],
   "source": [
    "Ks=np.zeros((len(xPred),len(xB)))\n",
    "for i in range(len(xPred)):\n",
    "    for j in range(len(xB)):\n",
    "        k=corrFunc(xPred[i],xB[j])\n",
    "        Ks[i][j]=k\n",
    "print('-'*10+' Matrix Ks '+'-'*10)\n",
    "print(Ks.round(decimals=5))"
   ]
  },
  {
   "cell_type": "code",
   "execution_count": 67,
   "metadata": {},
   "outputs": [
    {
     "name": "stdout",
     "output_type": "stream",
     "text": [
      "---------- Matrix Kss ----------\n",
      "[[8.389 6.976 6.569 ... 0.    0.    0.   ]\n",
      " [6.976 8.389 6.976 ... 0.    0.    0.   ]\n",
      " [6.569 6.976 8.389 ... 0.    0.    0.   ]\n",
      " ...\n",
      " [0.    0.    0.    ... 8.389 6.976 6.569]\n",
      " [0.    0.    0.    ... 6.976 8.389 6.976]\n",
      " [0.    0.    0.    ... 6.569 6.976 8.389]]\n"
     ]
    }
   ],
   "source": [
    "Kss=np.zeros((len(xPred),len(xPred)))\n",
    "for i in range(len(xPred)):\n",
    "    for j in range(i,len(xPred)):\n",
    "        noise=(sigmaN2 if i==j else 0)\n",
    "        k=corrFunc(xPred[i],xPred[j])+noise\n",
    "        Kss[i][j]=k\n",
    "        Kss[j][i]=k\n",
    "print('-'*10+' Matrix Kss '+'-'*10)\n",
    "print(Kss.round(decimals=3))"
   ]
  },
  {
   "cell_type": "code",
   "execution_count": 68,
   "metadata": {},
   "outputs": [
    {
     "name": "stdout",
     "output_type": "stream",
     "text": [
      "Prediction:  [ 0.40199  0.48549  0.55464  0.60486  0.63423  0.64447  0.64083  0.63064\n",
      "  0.62056  0.61338  0.60508  0.58337  0.52839  0.41573  0.22127 -0.07333\n",
      " -0.4757  -0.97965 -1.56453 -2.19703 -2.8349  -3.43176 -3.9419  -4.32441\n",
      " -4.54613 -4.58326 -4.42177 -4.05692 -3.49237 -2.73943 -1.81699 -0.75222\n",
      "  0.41789  1.645    2.86884  4.01901  5.02012  5.80068  6.30469  6.50396\n",
      "  6.40789  6.06785  5.57387  5.04363  4.60551  4.37956  4.46071  4.90781\n",
      "  5.74058  6.94416]\n"
     ]
    }
   ],
   "source": [
    "mus=priormean(xPred)\n",
    "ypred=mus+np.dot(np.dot(Ks,KBInv),(yB-mxB))\n",
    "print(\"Prediction: \",ypred)"
   ]
  },
  {
   "cell_type": "code",
   "execution_count": 69,
   "metadata": {},
   "outputs": [
    {
     "name": "stdout",
     "output_type": "stream",
     "text": [
      "Double Standard Deviation:  [4.9584  4.55205 4.07582 3.59388 3.21568 3.06549 3.18956 3.49887 3.84304\n",
      " 4.09708 4.1873  4.09065 3.83298 3.49052 3.18764 3.06328 3.18143 3.47088\n",
      " 3.79093 4.021   4.09326 3.9941  3.75852 3.45967 3.18729 3.01009 2.93954\n",
      " 2.93422 2.94404 2.94475 2.93832 2.93396 2.93363 2.93307 2.93044 2.92882\n",
      " 2.93053 2.93314 2.93363 2.93413 2.93929 2.94707 2.94733 2.9367  2.93976\n",
      " 3.01327 3.21507 3.5562  3.98941 4.44236]\n"
     ]
    }
   ],
   "source": [
    "yvar=np.diag(Kss-np.dot(Ks,np.dot(KBInv,np.transpose(Ks))))\n",
    "stds=np.sqrt(yvar)\n",
    "print(\"Double Standard Deviation: \",2*stds)"
   ]
  },
  {
   "cell_type": "code",
   "execution_count": 70,
   "metadata": {},
   "outputs": [
    {
     "data": {
      "image/png": "[encoded data removed]",
      "text/plain": [
       "<Figure size 864x720 with 1 Axes>"
      ]
     },
     "metadata": {
      "needs_background": "light"
     },
     "output_type": "display_data"
    }
   ],
   "source": [
    "plt.figure(figsize=(12, 10))\n",
    "plt.plot(x,mx,label=\"mean $m(x)$\")\n",
    "#plt.hold(True)\n",
    "plt.plot(xB,yB,'or',label=\"training data\")\n",
    "plt.plot(xPred,ypred,'--g',label=\"predictions\")\n",
    "plt.text(0.5,6,\"$m(x)=0.25 \\cdot x^2$ \\n$k(x,x')=2 \\cdot \\exp(-0.5\\cdot(x-x')^2)$ \\n $\\sigma_n^2=0.005$\",fontsize=14)\n",
    "plt.legend(loc=2,numpoints=1)\n",
    "plt.title('Gaussian Process Prediction with prior quadratic mean')\n",
    "plt.xlabel('x')\n",
    "plt.ylabel('f(x)')\n",
    "plt.axis([0,13,-8,10])\n",
    "# plot 2*standard deviation 95%-confidence interval\n",
    "fillx = r_[xPred, xPred[::-1]]\n",
    "\n",
    "filly = r_[ypred+2*stds, ypred[::-1]-2*stds[::-1]]\n",
    "plt.fill(fillx, filly, facecolor='gray', edgecolor='white', alpha=0.3)\n",
    "plt.show()"
   ]
  },
  {
   "cell_type": "code",
   "execution_count": null,
   "metadata": {},
   "outputs": [],
   "source": []
  }
 ],
 "metadata": {
  "kernelspec": {
   "display_name": "Python 3",
   "language": "python",
   "name": "python3"
  },
  "language_info": {
   "codemirror_mode": {
    "name": "ipython",
    "version": 3
   },
   "file_extension": ".py",
   "mimetype": "text/x-python",
   "name": "python",
   "nbconvert_exporter": "python",
   "pygments_lexer": "ipython3",
   "version": "3.8.0"
  },
  "nav_menu": {},
  "toc": {
   "base_numbering": 1,
   "nav_menu": {},
   "number_sections": true,
   "sideBar": true,
   "skip_h1_title": false,
   "title_cell": "Table of Contents",
   "title_sidebar": "Contents",
   "toc_cell": false,
   "toc_position": {},
   "toc_section_display": true,
   "toc_window_display": false
  }
 },
 "nbformat": 4,
 "nbformat_minor": 1
}
