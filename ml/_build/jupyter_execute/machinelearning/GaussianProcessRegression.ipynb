{
 "cells": [
  {
   "cell_type": "markdown",
   "metadata": {},
   "source": [
    "# Gaussian Process: Implementation in Python \n",
    "\n",
    "In this section Gaussian Processes regression, as described in the [previous section](gp), is implemented in Python. First the case of predefined mean- and covariance-function is implemented. In the second part these functions are learned from data."
   ]
  },
  {
   "cell_type": "code",
   "execution_count": 1,
   "metadata": {},
   "outputs": [],
   "source": [
    "import numpy as np\n",
    "from scipy import r_\n",
    "from matplotlib import pyplot as plt\n",
    "np.set_printoptions(precision=5,suppress=True)"
   ]
  },
  {
   "cell_type": "markdown",
   "metadata": {},
   "source": [
    "## Gaussian Process for Regression"
   ]
  },
  {
   "cell_type": "markdown",
   "metadata": {},
   "source": [
    "Definition of training data. This is the same data as used in the GP regression example in the [previous section](gp)."
   ]
  },
  {
   "cell_type": "code",
   "execution_count": 2,
   "metadata": {},
   "outputs": [],
   "source": [
    "xB=np.array([1,2,3,4])\n",
    "yB=np.array([0.25,0.95,2.3,3.9])"
   ]
  },
  {
   "cell_type": "code",
   "execution_count": 3,
   "metadata": {},
   "outputs": [
    {
     "data": {
      "image/png": "[encoded data removed]",
      "text/plain": [
       "<Figure size 864x720 with 1 Axes>"
      ]
     },
     "metadata": {
      "filenames": {
       "image/png": "/Users/johannes/gitprojects/mlbook/ml/_build/jupyter_execute/machinelearning/GaussianProcessRegression_5_0.png"
      },
      "needs_background": "light"
     },
     "output_type": "display_data"
    }
   ],
   "source": [
    "plt.figure(figsize=(12, 10))\n",
    "plt.plot(xB,yB,\"or\",label=\"Training Data\")\n",
    "plt.legend()\n",
    "plt.show()"
   ]
  },
  {
   "cell_type": "markdown",
   "metadata": {},
   "source": [
    "Define the positions at wich the function values shall be predicted. In contrast to the GP regression in the [previous section](gp), below we predict numeric values not only at the three locations $5,6$ and $7$, but at all locations in the range from 0 to 7 with a resolution of $0.2$: "
   ]
  },
  {
   "cell_type": "code",
   "execution_count": 4,
   "metadata": {},
   "outputs": [],
   "source": [
    "xPred=np.arange(0,7,0.2)"
   ]
  },
  {
   "cell_type": "markdown",
   "metadata": {},
   "source": [
    "Define the hyperparameters for the mean- and covariance function"
   ]
  },
  {
   "cell_type": "code",
   "execution_count": 5,
   "metadata": {},
   "outputs": [],
   "source": [
    "c2=0.25 # constant coefficient of quadratic term in prior mean function\n",
    "ell=1 # horizontal length scale parameter in the squared exponential function\n",
    "sigmaF2=2 #sigmaF2 is the variance of the multivariate gaussian distribution\n",
    "sigmaN2=0.005 #sigmaN2 is the variance of the regression noise-term"
   ]
  },
  {
   "cell_type": "markdown",
   "metadata": {},
   "source": [
    "Definition of mean- and covariance function. Here, the mean function is a quadratic polynomial and the covariance function is the squared exponential."
   ]
  },
  {
   "cell_type": "code",
   "execution_count": 6,
   "metadata": {},
   "outputs": [],
   "source": [
    "def priormean(xin):\n",
    "    return c2*xin**2\n",
    "\n",
    "def corrFunc(xa,xb):\n",
    "    return sigmaF2*np.exp(-((xa-xb)**2)/(2.0*ell**2))"
   ]
  },
  {
   "cell_type": "markdown",
   "metadata": {},
   "source": [
    "Calculate the values *mx* of the mean function in the range from 0 to 7. These values are just used for plotting. The values *mxB* are the mean-function values at the training data x-values, i.e. the **mean-vector**. These values are applied for calculating the prediction. "
   ]
  },
  {
   "cell_type": "code",
   "execution_count": 7,
   "metadata": {},
   "outputs": [],
   "source": [
    "mx=priormean(xPred)\n",
    "mxB=priormean(xB)"
   ]
  },
  {
   "cell_type": "markdown",
   "metadata": {},
   "source": [
    "Calculate the covariance matrix by evaluating the covariance function at the training data x-values."
   ]
  },
  {
   "cell_type": "code",
   "execution_count": 8,
   "metadata": {},
   "outputs": [
    {
     "name": "stdout",
     "output_type": "stream",
     "text": [
      "---------- Matrix KB ----------\n",
      "[[2.005 1.213 0.271 0.022]\n",
      " [1.213 2.005 1.213 0.271]\n",
      " [0.271 1.213 2.005 1.213]\n",
      " [0.022 0.271 1.213 2.005]]\n"
     ]
    }
   ],
   "source": [
    "KB=np.zeros((len(xB),len(xB)))\n",
    "for i in range(len(xB)):\n",
    "    for j in range(i,len(xB)):\n",
    "        noise=(sigmaN2 if i==j else 0)\n",
    "        k=corrFunc(xB[i],xB[j])+noise\n",
    "        KB[i][j]=k\n",
    "        KB[j][i]=k        \n",
    "print('-'*10+' Matrix KB '+'-'*10)\n",
    "print(KB.round(decimals=3))"
   ]
  },
  {
   "cell_type": "markdown",
   "metadata": {},
   "source": [
    "Calculate the inverse of the covariance matrix"
   ]
  },
  {
   "cell_type": "code",
   "execution_count": 9,
   "metadata": {},
   "outputs": [
    {
     "name": "stdout",
     "output_type": "stream",
     "text": [
      "---------- Inverse of Matrix KB ----------\n",
      "[[ 0.953 -0.862  0.519 -0.208]\n",
      " [-0.862  1.688 -1.219  0.519]\n",
      " [ 0.519 -1.219  1.688 -0.862]\n",
      " [-0.208  0.519 -0.862  0.953]]\n"
     ]
    }
   ],
   "source": [
    "KBInv=np.linalg.inv(KB)\n",
    "print('-'*10+' Inverse of Matrix KB '+'-'*10)\n",
    "print(KBInv.round(decimals=3))"
   ]
  },
  {
   "cell_type": "markdown",
   "metadata": {},
   "source": [
    " Calculate the covariance matrix $K_*$ between training x-values and prediction x-values"
   ]
  },
  {
   "cell_type": "code",
   "execution_count": 10,
   "metadata": {},
   "outputs": [
    {
     "name": "stdout",
     "output_type": "stream",
     "text": [
      "---------- Matrix Ks ----------\n",
      "[[1.21306 0.27067 0.02222 0.00067]\n",
      " [1.4523  0.3958  0.03968 0.00146]\n",
      " [1.67054 0.55607 0.06809 0.00307]\n",
      " [1.84623 0.75062 0.11227 0.00618]\n",
      " [1.9604  0.9735  0.17784 0.01195]\n",
      " [2.      1.21306 0.27067 0.02222]\n",
      " [1.9604  1.4523  0.3958  0.03968]\n",
      " [1.84623 1.67054 0.55607 0.06809]\n",
      " [1.67054 1.84623 0.75062 0.11227]\n",
      " [1.4523  1.9604  0.9735  0.17784]\n",
      " [1.21306 2.      1.21306 0.27067]\n",
      " [0.9735  1.9604  1.4523  0.3958 ]\n",
      " [0.75062 1.84623 1.67054 0.55607]\n",
      " [0.55607 1.67054 1.84623 0.75062]\n",
      " [0.3958  1.4523  1.9604  0.9735 ]\n",
      " [0.27067 1.21306 2.      1.21306]\n",
      " [0.17784 0.9735  1.9604  1.4523 ]\n",
      " [0.11227 0.75062 1.84623 1.67054]\n",
      " [0.06809 0.55607 1.67054 1.84623]\n",
      " [0.03968 0.3958  1.4523  1.9604 ]\n",
      " [0.02222 0.27067 1.21306 2.     ]\n",
      " [0.01195 0.17784 0.9735  1.9604 ]\n",
      " [0.00618 0.11227 0.75062 1.84623]\n",
      " [0.00307 0.06809 0.55607 1.67054]\n",
      " [0.00146 0.03968 0.3958  1.4523 ]\n",
      " [0.00067 0.02222 0.27067 1.21306]\n",
      " [0.0003  0.01195 0.17784 0.9735 ]\n",
      " [0.00013 0.00618 0.11227 0.75062]\n",
      " [0.00005 0.00307 0.06809 0.55607]\n",
      " [0.00002 0.00146 0.03968 0.3958 ]\n",
      " [0.00001 0.00067 0.02222 0.27067]\n",
      " [0.      0.0003  0.01195 0.17784]\n",
      " [0.      0.00013 0.00618 0.11227]\n",
      " [0.      0.00005 0.00307 0.06809]\n",
      " [0.      0.00002 0.00146 0.03968]]\n"
     ]
    }
   ],
   "source": [
    "Ks=np.zeros((len(xPred),len(xB)))\n",
    "for i in range(len(xPred)):\n",
    "    for j in range(len(xB)):\n",
    "        k=corrFunc(xPred[i],xB[j])\n",
    "        Ks[i][j]=k\n",
    "print('-'*10+' Matrix Ks '+'-'*10)\n",
    "print(Ks.round(decimals=5))"
   ]
  },
  {
   "cell_type": "markdown",
   "metadata": {},
   "source": [
    "Calculate the covariance matrix $K_{**}$ between prediction x-values"
   ]
  },
  {
   "cell_type": "code",
   "execution_count": 11,
   "metadata": {},
   "outputs": [
    {
     "name": "stdout",
     "output_type": "stream",
     "text": [
      "---------- Matrix Kss ----------\n",
      "[[2.005 1.96  1.846 ... 0.    0.    0.   ]\n",
      " [1.96  2.005 1.96  ... 0.    0.    0.   ]\n",
      " [1.846 1.96  2.005 ... 0.    0.    0.   ]\n",
      " ...\n",
      " [0.    0.    0.    ... 2.005 1.96  1.846]\n",
      " [0.    0.    0.    ... 1.96  2.005 1.96 ]\n",
      " [0.    0.    0.    ... 1.846 1.96  2.005]]\n"
     ]
    }
   ],
   "source": [
    "Kss=np.zeros((len(xPred),len(xPred)))\n",
    "for i in range(len(xPred)):\n",
    "    for j in range(i,len(xPred)):\n",
    "        noise=(sigmaN2 if i==j else 0)\n",
    "        k=corrFunc(xPred[i],xPred[j])+noise\n",
    "        Kss[i][j]=k\n",
    "        Kss[j][i]=k\n",
    "print('-'*10+' Matrix Kss '+'-'*10)\n",
    "print(Kss.round(decimals=3))"
   ]
  },
  {
   "cell_type": "markdown",
   "metadata": {},
   "source": [
    "Calculate the prediction"
   ]
  },
  {
   "cell_type": "code",
   "execution_count": 12,
   "metadata": {},
   "outputs": [
    {
     "name": "stdout",
     "output_type": "stream",
     "text": [
      "Prediction:  [ 0.0607   0.07144  0.09576  0.1329   0.18343  0.24955  0.33491  0.44404\n",
      "  0.58139  0.75009  0.95099  1.1821   1.43878  1.71466  2.0031   2.29884\n",
      "  2.59926  2.90502  3.21986  3.54962  3.90082  4.27924  4.68881  5.13106\n",
      "  5.60528  6.10899  6.63886  7.19143  7.76378  8.35385  8.96053  9.58348\n",
      " 10.22295 10.87951 11.55381]\n"
     ]
    }
   ],
   "source": [
    "mus=priormean(xPred)\n",
    "ypred=mus+np.dot(np.dot(Ks,KBInv),(yB-mxB))\n",
    "print(\"Prediction: \",ypred)"
   ]
  },
  {
   "cell_type": "markdown",
   "metadata": {},
   "source": [
    "Calculate the covariance of the predictions"
   ]
  },
  {
   "cell_type": "code",
   "execution_count": 13,
   "metadata": {},
   "outputs": [
    {
     "name": "stdout",
     "output_type": "stream",
     "text": [
      "Double Standard Deviation:  [2.03145 1.67176 1.25471 0.81683 0.41676 0.19976 0.30632 0.39288 0.36953\n",
      " 0.2698  0.19958 0.25702 0.32803 0.32803 0.25702 0.19958 0.2698  0.36953\n",
      " 0.39288 0.30632 0.19976 0.41676 0.81683 1.25471 1.67176 2.03145 2.31537\n",
      " 2.52119 2.65828 2.74206 2.78897 2.813   2.82426 2.82908 2.83097]\n"
     ]
    }
   ],
   "source": [
    "yvar=np.diag(Kss-np.dot(Ks,np.dot(KBInv,np.transpose(Ks))))\n",
    "stds=np.sqrt(yvar)\n",
    "print(\"Double Standard Deviation: \",2*stds)"
   ]
  },
  {
   "cell_type": "markdown",
   "metadata": {},
   "source": [
    "Plot training data and predicitons:"
   ]
  },
  {
   "cell_type": "code",
   "execution_count": 14,
   "metadata": {},
   "outputs": [
    {
     "data": {
      "image/png": "[encoded data removed]",
      "text/plain": [
       "<Figure size 864x720 with 1 Axes>"
      ]
     },
     "metadata": {
      "filenames": {
       "image/png": "/Users/johannes/gitprojects/mlbook/ml/_build/jupyter_execute/machinelearning/GaussianProcessRegression_27_0.png"
      },
      "needs_background": "light"
     },
     "output_type": "display_data"
    }
   ],
   "source": [
    "plt.figure(figsize=(12, 10))\n",
    "plt.plot(xPred,mx,label=\"mean $m(x)$\")\n",
    "#plt.hold(True)\n",
    "plt.plot(xB,yB,'or',label=\"training data\")\n",
    "plt.plot(xPred,ypred,'--g',label=\"predictions\")\n",
    "plt.text(0.5,8,\"$m(x)=0.25 \\cdot x^2$ \\n$k(x,x')=2 \\cdot \\exp(-0.5\\cdot(x-x')^2)$ \\n $\\sigma_n^2=0.005$\",fontsize=14)\n",
    "plt.legend(loc=2,numpoints=1)\n",
    "plt.title('Gaussian Process Prediction with prior quadratic mean')\n",
    "plt.xlabel('x')\n",
    "plt.ylabel('f(x)')\n",
    "plt.axis([0,8,0,16])\n",
    "# plot 2*standard deviation 95%-confidence interval\n",
    "fillx = r_[xPred, xPred[::-1]]\n",
    "\n",
    "filly = r_[ypred+2*stds, ypred[::-1]-2*stds[::-1]]\n",
    "plt.fill(fillx, filly, facecolor='gray', edgecolor='white', alpha=0.3)\n",
    "plt.show()"
   ]
  },
  {
   "cell_type": "markdown",
   "metadata": {},
   "source": [
    "## Find optimum hyperparameters for mean- and covariance-function"
   ]
  },
  {
   "cell_type": "code",
   "execution_count": 15,
   "metadata": {},
   "outputs": [],
   "source": [
    "import numpy as np\n",
    "from scipy import r_\n",
    "from matplotlib import pyplot as plt\n",
    "import scipy.optimize as opt"
   ]
  },
  {
   "cell_type": "code",
   "execution_count": 16,
   "metadata": {},
   "outputs": [],
   "source": [
    "xB=np.array([1., 3., 5., 6., 7., 8., 9.])\n",
    "yB=xB*np.sin(xB)"
   ]
  },
  {
   "cell_type": "code",
   "execution_count": 17,
   "metadata": {},
   "outputs": [],
   "source": [
    "def objective(x): #Returns Log-Likelihood, which must be optimized\n",
    "    mxB=x[0]*xB**2+x[1]*xB+x[2]+x[6]*xB**3+x[7]*xB**4\n",
    "    KB=np.zeros((len(xB),len(xB)))\n",
    "    for i in range(len(xB)):\n",
    "        for j in range(i,len(xB)):\n",
    "            noise=x[5]**2\n",
    "            k=x[3]**2*np.exp(-((xB[i]-xB[j])**2)/(2.0*x[4]**2))+noise**2\n",
    "            KB[i][j]=k\n",
    "            KB[j][i]=k\n",
    "    KBinv=np.linalg.inv(KB)\n",
    "    return -1*(-0.5* np.log(np.linalg.det(KB))-0.5 * np.dot(np.transpose(yB-mxB), \\\n",
    "np.dot(KBinv,(yB-mxB)))-2*np.log(2*np.pi))"
   ]
  },
  {
   "cell_type": "code",
   "execution_count": 18,
   "metadata": {},
   "outputs": [],
   "source": [
    "#Define constraints on the hyperparameters\n",
    "def constr1(x):\n",
    "    return x[4]-1 #horizontal length-scale > 1\n",
    "\n",
    "def constr2(x):\n",
    "    return 5-x[4] #horizontal length-scale < 5\n",
    "\n",
    "def constr3(x):\n",
    "    return x[3]-0.8 #vertical length-scale >0.8"
   ]
  },
  {
   "cell_type": "code",
   "execution_count": 19,
   "metadata": {},
   "outputs": [
    {
     "name": "stdout",
     "output_type": "stream",
     "text": [
      "----------Results of optimisation----------\n",
      "[-0.23166 -0.31688 -0.29713  2.66702  1.       1.12786  0.00837  0.00273]\n"
     ]
    }
   ],
   "source": [
    "x0=(0.1, 0.01, 0.01, 2.0, 1.0, 0.01,0.01,0.01) #Startvalues for optimization\n",
    "xopt=opt.fmin_cobyla(objective,x0,cons=[constr1,constr2,constr3])\n",
    "print('-'*10+\"Results of optimisation\"+'-'*10)\n",
    "print(xopt)"
   ]
  },
  {
   "cell_type": "code",
   "execution_count": 20,
   "metadata": {},
   "outputs": [],
   "source": [
    "#####################Definition of hyperparameters#############################\n",
    "c4=xopt[7] # constant coefficient of biquadratic term in prior mean function\n",
    "c3=xopt[6] # constant coefficient of cubic term in prior mean function\n",
    "c2=xopt[0] # constant coefficient of quadratic term in prior mean function\n",
    "c1=xopt[1] # constant coefficient of linear term in prior mean function\n",
    "c0=xopt[2] # constant coefficient constant term in prior mean function\n",
    "ell=xopt[4] # horicontal length scale parameter in the squared exponential function\n",
    "sigmaF2=xopt[3] #sigmaF2 is the standard deviation of the multivariate gaussian distribution\n",
    "sigmaN2=xopt[5] #sigmaN2 is the standard deviation of the regression noise-term"
   ]
  },
  {
   "cell_type": "code",
   "execution_count": 21,
   "metadata": {
    "scrolled": false
   },
   "outputs": [
    {
     "name": "stdout",
     "output_type": "stream",
     "text": [
      "Learned mean function m(x) = 0.003*x^4 + 0.008*x^3 + -0.232*x^2+ -0.317*x + -0.297\n",
      "Learned cov. function m(x) = (2.667)^2 *exp(-(x-x')^2 / (2 * (1.000)^2))+ 1.128^2\n"
     ]
    }
   ],
   "source": [
    "print(\"Learned mean function m(x) = %1.3f*x^4 + %1.3f*x^3 + %1.3f*x^2+ %1.3f*x + %1.3f\"%(c4,c3,c2,c1,c0))\n",
    "print(\"Learned cov. function m(x) = (%1.3f)^2 *exp(-(x-x')^2 / (2 * (%1.3f)^2))+ %1.3f^2\"%(sigmaF2,ell,sigmaN2))"
   ]
  },
  {
   "cell_type": "code",
   "execution_count": 22,
   "metadata": {},
   "outputs": [],
   "source": [
    "###################Definition of mean- and covariance function################# \n",
    "def priormean(xin):\n",
    "    return c4*xin**4+c3*xin**3+c2*xin**2+c1*xin+c0\n",
    "\n",
    "def corrFunc(xa,xb):\n",
    "    return sigmaF2**2*np.exp(-((xa-xb)**2)/(2.0*ell**2))"
   ]
  },
  {
   "cell_type": "code",
   "execution_count": 23,
   "metadata": {},
   "outputs": [],
   "source": [
    "x=np.arange(0,10,0.1)\n",
    "mx=priormean(x)\n",
    "mxB=priormean(xB)"
   ]
  },
  {
   "cell_type": "code",
   "execution_count": 24,
   "metadata": {},
   "outputs": [],
   "source": [
    "xPred=np.arange(0,10,0.2)"
   ]
  },
  {
   "cell_type": "code",
   "execution_count": 25,
   "metadata": {},
   "outputs": [
    {
     "name": "stdout",
     "output_type": "stream",
     "text": [
      "---------- Matrix KB ----------\n",
      "[[8.731 0.963 0.002 0.    0.    0.    0.   ]\n",
      " [0.963 8.731 0.963 0.079 0.002 0.    0.   ]\n",
      " [0.002 0.963 8.731 4.314 0.963 0.079 0.002]\n",
      " [0.    0.079 4.314 8.731 4.314 0.963 0.079]\n",
      " [0.    0.002 0.963 4.314 8.731 4.314 0.963]\n",
      " [0.    0.    0.079 0.963 4.314 8.731 4.314]\n",
      " [0.    0.    0.002 0.079 0.963 4.314 8.731]]\n"
     ]
    }
   ],
   "source": [
    "KB=np.zeros((len(xB),len(xB)))\n",
    "for i in range(len(xB)):\n",
    "    for j in range(i,len(xB)):\n",
    "        noise=(sigmaN2**2 if i==j else 0)\n",
    "        k=corrFunc(xB[i],xB[j])+noise**2\n",
    "        KB[i][j]=k\n",
    "        KB[j][i]=k        \n",
    "print('-'*10+' Matrix KB '+'-'*10)\n",
    "print(KB.round(decimals=3))"
   ]
  },
  {
   "cell_type": "code",
   "execution_count": 26,
   "metadata": {},
   "outputs": [
    {
     "name": "stdout",
     "output_type": "stream",
     "text": [
      "---------- Inverse of Matrix KB ----------\n",
      "[[ 0.116 -0.013  0.002 -0.001  0.    -0.     0.   ]\n",
      " [-0.013  0.118 -0.017  0.009 -0.003  0.001 -0.   ]\n",
      " [ 0.002 -0.017  0.159 -0.094  0.032 -0.008  0.001]\n",
      " [-0.001  0.009 -0.094  0.212 -0.111  0.036 -0.008]\n",
      " [ 0.    -0.003  0.032 -0.111  0.218 -0.111  0.032]\n",
      " [-0.     0.001 -0.008  0.036 -0.111  0.211 -0.092]\n",
      " [ 0.    -0.     0.001 -0.008  0.032 -0.092  0.157]]\n"
     ]
    }
   ],
   "source": [
    "KBInv=np.linalg.inv(KB)\n",
    "print('-'*10+' Inverse of Matrix KB '+'-'*10)\n",
    "print(KBInv.round(decimals=3))"
   ]
  },
  {
   "cell_type": "code",
   "execution_count": 27,
   "metadata": {},
   "outputs": [
    {
     "name": "stdout",
     "output_type": "stream",
     "text": [
      "---------- Matrix Ks ----------\n",
      "[[4.31426 0.07902 0.00003 0.      0.      0.      0.     ]\n",
      " [5.1651  0.14113 0.00007 0.      0.      0.      0.     ]\n",
      " [5.94128 0.24218 0.00018 0.      0.      0.      0.     ]\n",
      " [6.56613 0.39929 0.00044 0.      0.      0.      0.     ]\n",
      " [6.97216 0.6325  0.00105 0.00001 0.      0.      0.     ]\n",
      " [7.11301 0.96264 0.00239 0.00003 0.      0.      0.     ]\n",
      " [6.97216 1.40765 0.00521 0.00007 0.      0.      0.     ]\n",
      " [6.56613 1.97768 0.01091 0.00018 0.      0.      0.     ]\n",
      " [5.94128 2.66959 0.02197 0.00044 0.      0.      0.     ]\n",
      " [5.1651  3.46227 0.04251 0.00105 0.00001 0.      0.     ]\n",
      " [4.31426 4.31426 0.07902 0.00239 0.00003 0.      0.     ]\n",
      " [3.46227 5.1651  0.14113 0.00521 0.00007 0.      0.     ]\n",
      " [2.66959 5.94128 0.24218 0.01091 0.00018 0.      0.     ]\n",
      " [1.97768 6.56613 0.39929 0.02197 0.00044 0.      0.     ]\n",
      " [1.40765 6.97216 0.6325  0.04251 0.00105 0.00001 0.     ]\n",
      " [0.96264 7.11301 0.96264 0.07902 0.00239 0.00003 0.     ]\n",
      " [0.6325  6.97216 1.40765 0.14113 0.00521 0.00007 0.     ]\n",
      " [0.39929 6.56613 1.97768 0.24218 0.01091 0.00018 0.     ]\n",
      " [0.24218 5.94128 2.66959 0.39929 0.02197 0.00044 0.     ]\n",
      " [0.14113 5.1651  3.46227 0.6325  0.04251 0.00105 0.00001]\n",
      " [0.07902 4.31426 4.31426 0.96264 0.07902 0.00239 0.00003]\n",
      " [0.04251 3.46227 5.1651  1.40765 0.14113 0.00521 0.00007]\n",
      " [0.02197 2.66959 5.94128 1.97768 0.24218 0.01091 0.00018]\n",
      " [0.01091 1.97768 6.56613 2.66959 0.39929 0.02197 0.00044]\n",
      " [0.00521 1.40765 6.97216 3.46227 0.6325  0.04251 0.00105]\n",
      " [0.00239 0.96264 7.11301 4.31426 0.96264 0.07902 0.00239]\n",
      " [0.00105 0.6325  6.97216 5.1651  1.40765 0.14113 0.00521]\n",
      " [0.00044 0.39929 6.56613 5.94128 1.97768 0.24218 0.01091]\n",
      " [0.00018 0.24218 5.94128 6.56613 2.66959 0.39929 0.02197]\n",
      " [0.00007 0.14113 5.1651  6.97216 3.46227 0.6325  0.04251]\n",
      " [0.00003 0.07902 4.31426 7.11301 4.31426 0.96264 0.07902]\n",
      " [0.00001 0.04251 3.46227 6.97216 5.1651  1.40765 0.14113]\n",
      " [0.      0.02197 2.66959 6.56613 5.94128 1.97768 0.24218]\n",
      " [0.      0.01091 1.97768 5.94128 6.56613 2.66959 0.39929]\n",
      " [0.      0.00521 1.40765 5.1651  6.97216 3.46227 0.6325 ]\n",
      " [0.      0.00239 0.96264 4.31426 7.11301 4.31426 0.96264]\n",
      " [0.      0.00105 0.6325  3.46227 6.97216 5.1651  1.40765]\n",
      " [0.      0.00044 0.39929 2.66959 6.56613 5.94128 1.97768]\n",
      " [0.      0.00018 0.24218 1.97768 5.94128 6.56613 2.66959]\n",
      " [0.      0.00007 0.14113 1.40765 5.1651  6.97216 3.46227]\n",
      " [0.      0.00003 0.07902 0.96264 4.31426 7.11301 4.31426]\n",
      " [0.      0.00001 0.04251 0.6325  3.46227 6.97216 5.1651 ]\n",
      " [0.      0.      0.02197 0.39929 2.66959 6.56613 5.94128]\n",
      " [0.      0.      0.01091 0.24218 1.97768 5.94128 6.56613]\n",
      " [0.      0.      0.00521 0.14113 1.40765 5.1651  6.97216]\n",
      " [0.      0.      0.00239 0.07902 0.96264 4.31426 7.11301]\n",
      " [0.      0.      0.00105 0.04251 0.6325  3.46227 6.97216]\n",
      " [0.      0.      0.00044 0.02197 0.39929 2.66959 6.56613]\n",
      " [0.      0.      0.00018 0.01091 0.24218 1.97768 5.94128]\n",
      " [0.      0.      0.00007 0.00521 0.14113 1.40765 5.1651 ]]\n"
     ]
    }
   ],
   "source": [
    "Ks=np.zeros((len(xPred),len(xB)))\n",
    "for i in range(len(xPred)):\n",
    "    for j in range(len(xB)):\n",
    "        k=corrFunc(xPred[i],xB[j])\n",
    "        Ks[i][j]=k\n",
    "print('-'*10+' Matrix Ks '+'-'*10)\n",
    "print(Ks.round(decimals=5))"
   ]
  },
  {
   "cell_type": "code",
   "execution_count": 28,
   "metadata": {},
   "outputs": [
    {
     "name": "stdout",
     "output_type": "stream",
     "text": [
      "---------- Matrix Kss ----------\n",
      "[[8.241 6.972 6.566 ... 0.    0.    0.   ]\n",
      " [6.972 8.241 6.972 ... 0.    0.    0.   ]\n",
      " [6.566 6.972 8.241 ... 0.    0.    0.   ]\n",
      " ...\n",
      " [0.    0.    0.    ... 8.241 6.972 6.566]\n",
      " [0.    0.    0.    ... 6.972 8.241 6.972]\n",
      " [0.    0.    0.    ... 6.566 6.972 8.241]]\n"
     ]
    }
   ],
   "source": [
    "Kss=np.zeros((len(xPred),len(xPred)))\n",
    "for i in range(len(xPred)):\n",
    "    for j in range(i,len(xPred)):\n",
    "        noise=(sigmaN2 if i==j else 0)\n",
    "        k=corrFunc(xPred[i],xPred[j])+noise\n",
    "        Kss[i][j]=k\n",
    "        Kss[j][i]=k\n",
    "print('-'*10+' Matrix Kss '+'-'*10)\n",
    "print(Kss.round(decimals=3))"
   ]
  },
  {
   "cell_type": "code",
   "execution_count": 29,
   "metadata": {},
   "outputs": [
    {
     "name": "stdout",
     "output_type": "stream",
     "text": [
      "Prediction:  [ 0.38157  0.46039  0.5246   0.56966  0.59363  0.59809  0.5881   0.57076\n",
      "  0.55258  0.53637  0.5184   0.48703  0.42336  0.30413  0.10642 -0.18711\n",
      " -0.58345 -1.07636 -1.64572 -2.25942 -2.87688 -3.45365 -3.94594 -4.31447\n",
      " -4.52717 -4.5607  -4.40092 -4.04265 -3.48914 -2.75165 -1.84959 -0.81106\n",
      "  0.32603  1.51315  2.69139  3.79378  4.75044  5.49673  5.98355  6.18785\n",
      "  6.12084  5.83129  5.40229  4.9412   4.56473  4.3822   4.48079  4.91594\n",
      "  5.70863  6.84916]\n"
     ]
    }
   ],
   "source": [
    "mus=priormean(xPred)\n",
    "ypred=mus+np.dot(np.dot(Ks,KBInv),(yB-mxB))\n",
    "print(\"Prediction: \",ypred)"
   ]
  },
  {
   "cell_type": "code",
   "execution_count": 30,
   "metadata": {},
   "outputs": [
    {
     "name": "stdout",
     "output_type": "stream",
     "text": [
      "Double Standard Deviation:  [4.93583 4.54478 4.08801 3.62796 3.26874 3.12563 3.24058 3.53169 3.85821\n",
      " 4.10058 4.18716 4.09535 3.85021 3.52546 3.23962 3.12263 3.23387 3.50846\n",
      " 3.8152  4.03888 4.11295 4.02237 3.79841 3.50874 3.23767 3.05236 2.96927\n",
      " 2.95456 2.96164 2.96433 2.96054 2.95694 2.95585 2.9546  2.95203 2.95059\n",
      " 2.95208 2.95462 2.95585 2.95722 2.96163 2.96662 2.9646  2.95651 2.96932\n",
      " 3.05652 3.26759 3.60697 4.02772 4.46227]\n"
     ]
    }
   ],
   "source": [
    "yvar=np.diag(Kss-np.dot(Ks,np.dot(KBInv,np.transpose(Ks))))\n",
    "stds=np.sqrt(yvar)\n",
    "print(\"Double Standard Deviation: \",2*stds)"
   ]
  },
  {
   "cell_type": "code",
   "execution_count": 31,
   "metadata": {},
   "outputs": [
    {
     "data": {
      "image/png": "[encoded data removed]",
      "text/plain": [
       "<Figure size 864x720 with 1 Axes>"
      ]
     },
     "metadata": {
      "filenames": {
       "image/png": "/Users/johannes/gitprojects/mlbook/ml/_build/jupyter_execute/machinelearning/GaussianProcessRegression_45_0.png"
      },
      "needs_background": "light"
     },
     "output_type": "display_data"
    }
   ],
   "source": [
    "plt.figure(figsize=(12, 10))\n",
    "plt.plot(x,mx,label=\"mean $m(x)$\")\n",
    "#plt.hold(True)\n",
    "plt.plot(xB,yB,'or',label=\"training data\")\n",
    "plt.plot(xPred,ypred,'--g',label=\"predictions\")\n",
    "plt.legend(loc=2,numpoints=1)\n",
    "plt.title('Gaussian Process Prediction with prior quadratic mean')\n",
    "plt.xlabel('x')\n",
    "plt.ylabel('f(x)')\n",
    "plt.axis([0,13,-8,10])\n",
    "# plot 2*standard deviation 95%-confidence interval\n",
    "fillx = r_[xPred, xPred[::-1]]\n",
    "\n",
    "filly = r_[ypred+2*stds, ypred[::-1]-2*stds[::-1]]\n",
    "plt.fill(fillx, filly, facecolor='gray', edgecolor='white', alpha=0.3)\n",
    "plt.show()"
   ]
  },
  {
   "cell_type": "code",
   "execution_count": null,
   "metadata": {},
   "outputs": [],
   "source": []
  }
 ],
 "metadata": {
  "kernelspec": {
   "display_name": "Python 3",
   "language": "python",
   "name": "python3"
  },
  "language_info": {
   "codemirror_mode": {
    "name": "ipython",
    "version": 3
   },
   "file_extension": ".py",
   "mimetype": "text/x-python",
   "name": "python",
   "nbconvert_exporter": "python",
   "pygments_lexer": "ipython3",
   "version": "3.8.0"
  },
  "nav_menu": {},
  "toc": {
   "base_numbering": 1,
   "nav_menu": {},
   "number_sections": true,
   "sideBar": true,
   "skip_h1_title": false,
   "title_cell": "Table of Contents",
   "title_sidebar": "Contents",
   "toc_cell": false,
   "toc_position": {},
   "toc_section_display": true,
   "toc_window_display": false
  }
 },
 "nbformat": 4,
 "nbformat_minor": 1
}