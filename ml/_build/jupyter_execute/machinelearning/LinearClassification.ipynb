{
 "cells": [
  {
   "cell_type": "markdown",
   "metadata": {},
   "source": [
    "# Linear Classification\n",
    "## Simple Linear Classification"
   ]
  },
  {
   "cell_type": "markdown",
   "metadata": {},
   "source": [
    "### Binary linear Classification by example"
   ]
  },
  {
   "cell_type": "code",
   "execution_count": 1,
   "metadata": {},
   "outputs": [],
   "source": [
    "import numpy as np\n",
    "from matplotlib import pyplot as plt"
   ]
  },
  {
   "cell_type": "markdown",
   "metadata": {},
   "source": [
    "Given labeled training-data T:"
   ]
  },
  {
   "cell_type": "code",
   "execution_count": 2,
   "metadata": {},
   "outputs": [],
   "source": [
    "T=np.array([[1,1,0],\n",
    "         [1,3,0],\n",
    "         [2,1,0],\n",
    "         [3,0,0],\n",
    "         [3,1,1],\n",
    "         [3,2,1],\n",
    "         [4,1,1],\n",
    "         [2,3,1]])"
   ]
  },
  {
   "cell_type": "code",
   "execution_count": 3,
   "metadata": {},
   "outputs": [
    {
     "data": {
      "image/png": "[encoded data removed]",
      "text/plain": [
       "<Figure size 720x576 with 1 Axes>"
      ]
     },
     "metadata": {
      "filenames": {
       "image/png": "/Users/johannes/gitprojects/mlbook/ml/_build/jupyter_execute/machinelearning/LinearClassification_5_0.png"
      },
      "needs_background": "light"
     },
     "output_type": "display_data"
    }
   ],
   "source": [
    "plt.figure(figsize=(10,8))\n",
    "plt.plot(T[:4,0],T[:4,1],\"ob\")\n",
    "plt.plot(T[4:,0],T[4:,1],\"xr\")\n",
    "plt.xlabel(\"$x_1$\")\n",
    "plt.ylabel(\"$x_2$\")\n",
    "plt.show()"
   ]
  },
  {
   "cell_type": "markdown",
   "metadata": {},
   "source": [
    "The task is to learn a discrimant \n",
    "\n",
    "$$\n",
    "g(\\mathbf{x})=w_0 + w_1 x_1 + w_2 x_2\n",
    "$$ (discriminant)\n",
    "\n",
    "such that\n",
    "\n",
    "$$\n",
    "g(\\mathbf{x}) = \\left\\{ \n",
    "\\begin{array}{ll}\n",
    "> 0 & \\mbox{ for all }\\mathbf{x}_t \\mbox{ with } r_t=1 \\\\\n",
    "< 0 & \\mbox{ for all }\\mathbf{x}_t \\mbox{ with } r_t=0 \\\\\n",
    "\\end{array}\n",
    "\\right.\n",
    "$$ (disccond)\n",
    "\n",
    "All datapoints $\\mathbf{x}$, which fulfill $g(\\mathbf{x}) = 0$ lie on the discriminator line. I.e. \n",
    "\n",
    "$$\n",
    "g(\\mathbf{x})=w_0 + w_1 x_1 + w_2 x_2 =0\n",
    "$$ (linedef)\n",
    "\n",
    "is the **implicit definiton of the discriminator line**."
   ]
  },
  {
   "cell_type": "markdown",
   "metadata": {},
   "source": [
    "This implicit line-definition can easily be transformed to the more common line definition of type $y=mx+b$. \n",
    "Equation {eq}`linedef` is rearranged such that $x_2$ is isolated:  \n",
    "\n",
    "$$\n",
    "x_2 = - \\frac{w_1}{w_2} x_1 - \\frac{w_0}{w_2}\n",
    "$$\n",
    "\n",
    "In the given example $x_2$ corresponds to $y$ and $x_1$ corresponds to $x$. Hence the slope of the line is\n",
    "\n",
    "$$\n",
    "m = - \\frac{w_1}{w_2}\n",
    "$$\n",
    "\n",
    "and its intersection with the $x_2$-axis is:\n",
    "\n",
    "$$\n",
    "b= - \\frac{w_0}{w_2}\n",
    "$$"
   ]
  },
  {
   "cell_type": "markdown",
   "metadata": {},
   "source": [
    "A line, which separates the training data, given in this example is:\n",
    "\n",
    "$$\n",
    "x_2= 5 - 1.43 x_1\n",
    "$$\n",
    "\n",
    "This line is visualized below:"
   ]
  },
  {
   "cell_type": "code",
   "execution_count": 4,
   "metadata": {},
   "outputs": [
    {
     "data": {
      "image/png": "[encoded data removed]",
      "text/plain": [
       "<Figure size 720x576 with 1 Axes>"
      ]
     },
     "metadata": {
      "filenames": {
       "image/png": "/Users/johannes/gitprojects/mlbook/ml/_build/jupyter_execute/machinelearning/LinearClassification_9_0.png"
      },
      "needs_background": "light"
     },
     "output_type": "display_data"
    }
   ],
   "source": [
    "plt.figure(figsize=(10,8))\n",
    "plt.plot(T[:4,0],T[:4,1],\"ob\")\n",
    "plt.plot(T[4:,0],T[4:,1],\"xr\")\n",
    "plt.plot([0,3.5],[5,0],\"g\")\n",
    "plt.xlabel(\"$x_1$\")\n",
    "plt.ylabel(\"$x_2$\")\n",
    "plt.show()"
   ]
  },
  {
   "cell_type": "markdown",
   "metadata": {},
   "source": [
    "For this line we have a slope of \n",
    "\n",
    "$$\n",
    "\\frac{-5}{3.5} = -1.43 = - \\frac{w_1}{w_2}\n",
    "$$ (slope)\n",
    "\n",
    "and an intersection with the $x_2$-axis of\n",
    "\n",
    "$$\n",
    "5= - \\frac{w_0}{w_2}\n",
    "$$ (intercept)\n",
    "\n",
    "In order to determine the corresponding weights $w_i$ one can freely choose one arbitrary $w_i$, e.g. we set \n",
    "\n",
    "$$\n",
    "w_2 =1.0\n",
    "$$\n",
    "\n",
    "Given this selection we can derive \n",
    "\n",
    "$$\n",
    "w_1 = 1.43\n",
    "$$\n",
    "\n",
    "from equation {eq}`slope` and\n",
    "\n",
    "$$\n",
    "w_0 = -5\n",
    "$$\n",
    "\n",
    "from equation {eq}`intercept`.\n",
    "\n",
    "\n",
    "\n"
   ]
  },
  {
   "cell_type": "markdown",
   "metadata": {},
   "source": [
    "We can check, if these weights actually fullfill the conditions, given in equation {eq}`disccond` for all elements of the given training data $T$.\n",
    "\n",
    "First we evaluate $g(\\mathbf{x})= w_0+w_1 x_1 + w_2 x_2$ for the first 4 training elements, which have a label $r_t=0$ and we obtain, that for all of them $g(\\mathbf{x})<0$.`"
   ]
  },
  {
   "cell_type": "code",
   "execution_count": 5,
   "metadata": {},
   "outputs": [
    {
     "name": "stdout",
     "output_type": "stream",
     "text": [
      "-2.5700000000000003\n",
      "-0.5700000000000003\n",
      "-1.1400000000000001\n",
      "-0.71\n"
     ]
    }
   ],
   "source": [
    "for x in T[:4,:2]:\n",
    "   print(-5+1.43*x[0]+1*x[1]) "
   ]
  },
  {
   "cell_type": "markdown",
   "metadata": {},
   "source": [
    "The last 3 training samples have $r_t=1$, and as shown below for all of them we yield $g(\\mathbf{x})>0$."
   ]
  },
  {
   "cell_type": "code",
   "execution_count": 6,
   "metadata": {},
   "outputs": [
    {
     "name": "stdout",
     "output_type": "stream",
     "text": [
      "0.29000000000000004\n",
      "1.29\n",
      "1.7199999999999998\n",
      "0.8599999999999999\n"
     ]
    }
   ],
   "source": [
    "for x in T[4:,:2]:\n",
    "   print(-5+1.43*x[0]+1*x[1]) "
   ]
  },
  {
   "cell_type": "markdown",
   "metadata": {},
   "source": [
    "Now assume, that we have a new datapoint \n",
    "\n",
    "$$\n",
    "x=[2,2.5],\n",
    "$$\n",
    "\n",
    "which must be classified. For this we just insert this point into $g(\\mathbf{x})$:"
   ]
  },
  {
   "cell_type": "code",
   "execution_count": 7,
   "metadata": {},
   "outputs": [
    {
     "name": "stdout",
     "output_type": "stream",
     "text": [
      "0.3599999999999999\n"
     ]
    }
   ],
   "source": [
    "output=-5+1.43*2+1*2.5\n",
    "print(output)"
   ]
  },
  {
   "cell_type": "markdown",
   "metadata": {},
   "source": [
    "Since we obtain $g(\\mathbf{x})>0$, this datapoint can be assigned to the class with label $1$."
   ]
  },
  {
   "cell_type": "markdown",
   "metadata": {},
   "source": [
    "### K-ary linear classification in $d$-dimensional space\n",
    "\n",
    "In the example above binary linear classification of 2-dimensional input data $\\mathbf{x}$ has been demonstrated. In the **general case of $d$-dimensional input data**, the discriminator equation ({eq}`discriminant` for the 2-dimensional case) is:\n",
    "\n",
    "$$\n",
    "g(\\mathbf{x})=w_0 + w_1 x_1 + w_2 x_2 + \\cdots + w_d x_d\n",
    "$$ (discd)\n",
    "\n",
    "The discriminator conditions remain the same as in equation {eq}`disscond` and the equation \n",
    "\n",
    "$$\n",
    "g(\\mathbf{x})=w_0 + w_1 x_1 + w_2 x_2 + \\cdots + w_d x_d = 0\n",
    "$$ (discplane)\n",
    "\n",
    "now defines a $d-1$ dimensional hyperplane, which discriminates the classes in the $d$-dimensional space.\n",
    "\n",
    "The generalisation from binary classification to **$K$-ary classification** is realized by applying for each of the $K$ classes one individual equation of type {eq}`discd`:\n",
    "\n",
    "$$\n",
    "g_1(\\mathbf{x})  =  w_{1,0} + w_{1,1} x_1 + w_{1,2} x_2 + \\cdots + w_{1,d} x_d \\\\\n",
    "g_2(\\mathbf{x})  =  w_{2,0} + w_{2,1} x_1 + w_{2,2} x_2 + \\cdots + w_{2,d} x_d \\\\\n",
    "\\vdots  \\\\\n",
    "g_K(\\mathbf{x})  =  w_{K,0} + w_{K,1} x_1 + w_{K,2} x_2 + \\cdots + w_{K,d} x_d \\\\\n",
    "$$ (kdisc)\n",
    "\n",
    "In this case $K \\cdot (d+1)$ weights $w_{i,j}$ must be learned. The class labels are $r_p \\in [ 1,2,\\ldots K ]$. The weights are learned such that for each training element $(\\mathbf{x}_p,r_p)$ \n",
    "\n",
    "$$\n",
    "r_p= \\mbox{ argmax}_{j} \\; g_j(\\mathbf{x}_p),\n",
    "$$\n",
    "\n",
    "i.e. if the current target label is $r_p=k$, then the output of $g_k(\\mathbf{x}_p)$ must be larger than the output of all other $K-1$ $g_i(\\mathbf{x}_p)$. "
   ]
  },
  {
   "cell_type": "markdown",
   "metadata": {},
   "source": [
    "## Binary Logistic Regression"
   ]
  },
  {
   "cell_type": "markdown",
   "metadata": {},
   "source": [
    "Despite the name Logistic Regression is a binary linear classification as introduced above. The only difference is that in Logistic Regression the output of the discriminator $g(\\mathbf{x})$ is passed to a sigmoid-function. In general, the sigmoid function is defined as follows:\n",
    "\n",
    "$$\n",
    "sigmoid(x)=\\frac{1}{1+e^{-x}}.\n",
    "$$"
   ]
  },
  {
   "cell_type": "markdown",
   "metadata": {},
   "source": [
    "The graph of this function is depicted below. As can be seen, the functions value range is $[0,1]$. "
   ]
  },
  {
   "cell_type": "code",
   "execution_count": 21,
   "metadata": {},
   "outputs": [
    {
     "data": {
      "image/png": "[encoded data removed]",
      "text/plain": [
       "<Figure size 432x288 with 1 Axes>"
      ]
     },
     "metadata": {
      "filenames": {
       "image/png": "/Users/johannes/gitprojects/mlbook/ml/_build/jupyter_execute/machinelearning/LinearClassification_22_0.png"
      },
      "needs_background": "light"
     },
     "output_type": "display_data"
    }
   ],
   "source": [
    "x=np.arange(-8,8,0.1)\n",
    "y=1/(1+np.exp(-x))\n",
    "plt.plot(x,y)\n",
    "plt.grid(True)\n",
    "plt.xlabel(\"x\")\n",
    "plt.ylabel(\"sigmoid(x)\")\n",
    "plt.title(\"sigmoid function\")\n",
    "plt.show()"
   ]
  },
  {
   "cell_type": "markdown",
   "metadata": {},
   "source": [
    "I.e. the output of the Logistic Regression is:\n",
    "\n",
    "$$\n",
    "y=sigmoid(g(\\mathbf{x}))=\\frac{1}{1+e^{-g(\\mathbf{x})}}.\n",
    "$$\n"
   ]
  },
  {
   "cell_type": "markdown",
   "metadata": {},
   "source": [
    "Note that this post-processing by the sigmoid-function has no influcence on the class-boundary. The discriminator line in the 2-dimensional space (in general: the $d-1$-dimensional discriminator hyperplane in $d$-dimensional space) is still defined by the weights $w_i$, only. The application of the sigmoid function just scales the output values of $g(\\mathbf{x})$ into the range $[0,1]$.\n",
    "\n",
    "Due to this rescaling the classification criteria must be adapted as follows:\n",
    "\n",
    "* If $y=sigmoid(g(\\mathbf{x})) > 0.5$ then assign class-label $1$\n",
    "* If $y=sigmoid(g(\\mathbf{x}))  < 0.5$ then assign class-label $0$\n",
    "\n",
    "Moreover:\n",
    "* if $y$ is close to $0$, then we have a **high confidence** for the decision for class-label 0.\n",
    "* if $y$ is close to $1$, then we have a **high confidence** for the decision for class-label 1.\n",
    "* if $y$ approximates $0.5$ from below, then we have a **low confidence** for the decision for class-label 0.\n",
    "* if $y$ approximates $0.5$ from above, then we have a **low confidence** for the decision for class-label 1. \n"
   ]
  },
  {
   "cell_type": "markdown",
   "metadata": {},
   "source": [
    "This additional confidence-information, provided by Logistic Regression, constitutes a often required advantage with respect to simple linear regression. If data in both classes is Gaussian distributed with the same covariance-matrix. The the ouput value $y$ is actually the A-posteriori $P(C_1|x)$ for class 1. "
   ]
  },
  {
   "cell_type": "markdown",
   "metadata": {},
   "source": [
    "## K-ary logistic Regression\n",
    "\n",
    "K-ary logisitic regression (or MaxEnt-Classification or Softmax-Classification) is the extension of Logistic Regression to the case where $K>2$ classes must be distinguished. As in Logistic Regression now the outputs of the discriminator functions $g_i(\\mathbf{x})$ \n",
    "* are post-processed by a function, whose output-value range is $[0,1]$\n",
    "* are estimates of the a-posteriori $P(C_i|\\mathbf{x})$.\n",
    "\n",
    "The applied post-processing function is the softmax-function. It calculates the classifier outputs as follows:\n",
    "\n",
    "$$\n",
    "y_i =\\frac{e^{g_i(\\mathbf{x})}}{\\sum_{j=1}^K e^{g_j(\\mathbf{x})}} \\quad \\forall i \\in [1,\\ldots,K].\n",
    "$$"
   ]
  },
  {
   "cell_type": "markdown",
   "metadata": {},
   "source": [
    "## Training of Linear Classifiers\n",
    "Classifiers are usually trained by minimzing an error function. For binary classification the most common error function is **binary cross-entropy**, which is defined as follows \n",
    "\n",
    "$$\n",
    "E(T,\\Theta)=  \\sum\\limits_{t=1}^N r_{t} \\log y_{t}+(1-r_{t}) \\log(1-y_{t}),\n",
    "$$ \n",
    "\n",
    "where $r_t$ is the target class-label of the $t.th$ training-element and $y_t$ is the output for the input $x_t$.\n",
    "\n",
    "For K-ary classification the common error function is **cross-entropy**: \n",
    "\n",
    "$$\n",
    "E(T,\\Theta)= \\sum\\limits_{t=1}^N \\sum\\limits_{k=1}^K r_{t,k} \\log(y_{t,k}).\n",
    "$$"
   ]
  },
  {
   "cell_type": "markdown",
   "metadata": {},
   "source": [
    "There exists different methods to adapt the weights $w_i$ such that the error-function is minimized. The most popular approaches are **Coordinate Descent**, **Gradient Descent** or **Stochastic Gradient Descent (SGD)**. These approaches are described in the section on [conventional neural networks](../neuralnetworks/01NeuralNets). In this section it is also shown how linear classifiers can be realized by Single Layer Perceptrons (SLP).\n",
    "\n",
    "As already described in section [Linear Regression](LinReg), **Regularisation** terms can be added to the error function in order to reduce overfitting (see also [Logistic Regression in scikit-learn](https://scikit-learn.org/stable/modules/linear_model.html#logistic-regression))."
   ]
  },
  {
   "cell_type": "markdown",
   "metadata": {},
   "source": [
    "## Generalized Linear Classification\n",
    "With **Linear Classification** one can not only learn linear discriminators $g(\\mathbf{x})$ of type {eq}`discriminant`. Instead the same trick as already introduced in section [Linear Regression](LinReg.md) can be applied to learn nonlinear discriminator surfaces: Since we are free to preprocess the input vectors $\\mathbf{x}$ with an arbitrary aomount $z$ of preprocessing functions $\\Phi_i$ of arbitrary type (linear and non-linear), a **Generlized Linear Classifier** with discriminator(s) of type \n",
    "\n",
    "$$\n",
    "g(\\mathbf{x})=w_0 + w_1 \\Phi_1(\\mathbf{x}) + w_2 \\Phi_2(\\mathbf{x}) + \\cdots + w_z \\Phi_z(\\mathbf{x})\n",
    "$$ (genlin)\n",
    "\n",
    "can be learned. This type of generalization can be applied to binary- and non-binary- and to simple and logistic classification."
   ]
  },
  {
   "cell_type": "markdown",
   "metadata": {},
   "source": [
    "## Final Remarks\n",
    "In contrast to Bayesian Classification, as introduced in [section Bayes- and Naive Bayes Classification](parametricClassification1D), in Linear Classification we do not learn class-specific probability distributions, but class boundaries. In general all classifiers, which learn a class-specific probability distributions are called **Generative Models**, because these distributions can be applied to generate new data of this type. On the other side, methods which directly learn discriminators, are called **Discriminative Models**. For Generative Models one must assume a certain type of data-distribution (e.g. Gaussian), whereas in Discriminative Models one must assume a certain type of class-boundary. For real-world data Discriminative Models are more robust, than Generative Models, because the assumption of a class-boundary type is usually more realistic than the assumption of a data distribution."
   ]
  },
  {
   "cell_type": "code",
   "execution_count": null,
   "metadata": {},
   "outputs": [],
   "source": []
  }
 ],
 "metadata": {
  "kernelspec": {
   "display_name": "Python 3 (ipykernel)",
   "language": "python",
   "name": "python3"
  },
  "language_info": {
   "codemirror_mode": {
    "name": "ipython",
    "version": 3
   },
   "file_extension": ".py",
   "mimetype": "text/x-python",
   "name": "python",
   "nbconvert_exporter": "python",
   "pygments_lexer": "ipython3",
   "version": "3.8.13"
  },
  "nav_menu": {},
  "toc": {
   "base_numbering": 1,
   "nav_menu": {},
   "number_sections": true,
   "sideBar": true,
   "skip_h1_title": false,
   "title_cell": "Table of Contents",
   "title_sidebar": "Contents",
   "toc_cell": false,
   "toc_position": {},
   "toc_section_display": "block",
   "toc_window_display": false
  }
 },
 "nbformat": 4,
 "nbformat_minor": 4
}