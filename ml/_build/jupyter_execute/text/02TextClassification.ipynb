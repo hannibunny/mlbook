{
 "cells": [
  {
   "cell_type": "markdown",
   "metadata": {},
   "source": [
    "# Text classification with CNNs and LSTMs\n",
    "\n",
    "In this notebook CNNs and LSTMs are applied for document classification. Here, the documents are IMDB movie reviews. The IMDB Movie Review corpus is a standard dataset for the evaluation of text-classifiers. It consists of 25000 movies reviews from IMDB, labeled by sentiment (positive/negative). \n",
    "\n",
    "The main goal of the notebook is to demonstrate how different CNN- and LSTM architectures can be defined, trained and evaluated in tensorflow/keras. Hyperparameter-optimisation is not regarded, here."
   ]
  },
  {
   "cell_type": "code",
   "execution_count": 1,
   "metadata": {
    "ExecuteTime": {
     "end_time": "2018-02-27T07:25:29.240427Z",
     "start_time": "2018-02-27T07:25:26.260347Z"
    }
   },
   "outputs": [],
   "source": [
    "import numpy as np\n",
    "from tensorflow.keras.preprocessing.text import Tokenizer\n",
    "from tensorflow.keras.preprocessing.sequence import pad_sequences\n",
    "from tensorflow.keras.utils import to_categorical\n",
    "from tensorflow.keras.layers import Embedding\n",
    "from tensorflow.keras.layers import Dense, Input, Flatten, LSTM\n",
    "from tensorflow.keras.layers import Conv1D, MaxPooling1D, GlobalMaxPooling1D, Embedding, Dropout, Concatenate\n",
    "from tensorflow.keras.models import Model, Sequential\n",
    "from tensorflow.keras.datasets import imdb"
   ]
  },
  {
   "cell_type": "code",
   "execution_count": 2,
   "metadata": {
    "ExecuteTime": {
     "end_time": "2018-02-27T07:25:29.249141Z",
     "start_time": "2018-02-27T07:25:29.242539Z"
    }
   },
   "outputs": [],
   "source": [
    "MAX_NB_WORDS = 20000        # number of most-frequent words that are regarded, all others are ignored\n",
    "EMBEDDING_DIM = 100         # dimension of word-embedding\n",
    "MAX_EMB_WORDS=20000"
   ]
  },
  {
   "cell_type": "markdown",
   "metadata": {},
   "source": [
    "## Configure Word-Embedding Option"
   ]
  },
  {
   "cell_type": "markdown",
   "metadata": {},
   "source": [
    "The text-classification algorithms applied in this notebook, CNNs and LSTMs, apply word-embeddings at their input. Concerning the word-embeddings, there are basically two options:\n",
    "\n",
    "* Learn the embedding inside the neural network for a specific task, e.g. document-classification. In this case the first layer of the Neural Network (CNN or LSTM) is an `Embedding`-layer. Like all other weights, the weights of this layer are learned from the given task-specific training-data. The layer's output are the wordvectors. \n",
    "* Apply a pretrained word-embedding, which has been trained on unlabeled data in advance, e.g. CBOW or skipgram\n",
    "\n",
    "In this notebook, both options can be implemented. Moreover, for the second option 2 different pre-trained word-embeddings can be loaded: *Glove* or *Fasttext*. \n",
    "\n",
    "In the code cell below one of these 3 options can be defined by setting the Boolean variables `GLOVE` and `FASTTEXT`:"
   ]
  },
  {
   "cell_type": "code",
   "execution_count": 3,
   "metadata": {
    "ExecuteTime": {
     "end_time": "2018-02-27T07:25:29.249141Z",
     "start_time": "2018-02-27T07:25:29.242539Z"
    }
   },
   "outputs": [
    {
     "name": "stdout",
     "output_type": "stream",
     "text": [
      "True\n"
     ]
    }
   ],
   "source": [
    "GLOVE = False                # Whether to use pretrained word-embeddings from GLOVE\n",
    "FASTTEXT = True              # Whether to use pretrained word-embeddings from Fasttext\n",
    "USE_PRETRAINED = True if (GLOVE or FASTTEXT) else False\n",
    "print(USE_PRETRAINED)"
   ]
  },
  {
   "cell_type": "markdown",
   "metadata": {},
   "source": [
    "## Access IMDB dataset\n",
    "The [IMDB dataset](https://keras.io/datasets/) is already available in Keras and can easily be accessed by\n",
    "\n",
    "`imdb.load_data(num_words,skip_top)`.\n",
    "\n",
    "The value assigned to argument `num_words` defines how much different words shall be regarded. I.e. all words, which do not belong to the `num_words` most frequent words in the corpus are disregarded and marked by integer `2`. Morevoer, the `skip_top` most frequent words are also disregarded. This implements stop-word filtering, since stopwords are usually the most frequent words.\n",
    "\n",
    "The returned dataset contains the sequence of word indices for each review."
   ]
  },
  {
   "cell_type": "code",
   "execution_count": 4,
   "metadata": {},
   "outputs": [],
   "source": [
    "(x_train, y_train),(x_test,y_test)=imdb.load_data(num_words=MAX_NB_WORDS,skip_top=100)"
   ]
  },
  {
   "cell_type": "code",
   "execution_count": 5,
   "metadata": {},
   "outputs": [
    {
     "name": "stdout",
     "output_type": "stream",
     "text": [
      "25000 train sequences\n",
      "25000 test sequences\n",
      "2 classes\n"
     ]
    }
   ],
   "source": [
    "print(len(x_train),'train sequences')\n",
    "print(len(x_test), 'test sequences')\n",
    "\n",
    "num_classes = np.max(y_train) + 1\n",
    "print(num_classes, 'classes')"
   ]
  },
  {
   "cell_type": "markdown",
   "metadata": {},
   "source": [
    "First 50 tokens of first training document:"
   ]
  },
  {
   "cell_type": "code",
   "execution_count": 6,
   "metadata": {},
   "outputs": [
    {
     "name": "stdout",
     "output_type": "stream",
     "text": [
      "[2, 2, 2, 2, 2, 530, 973, 1622, 1385, 2, 458, 4468, 2, 3941, 2, 173, 2, 256, 2, 2, 100, 2, 838, 112, 2, 670, 2, 2, 2, 480, 284, 2, 150, 2, 172, 112, 167, 2, 336, 385, 2, 2, 172, 4536, 1111, 2, 546, 2, 2, 447]\n"
     ]
    }
   ],
   "source": [
    "print(x_train[0][:50])"
   ]
  },
  {
   "cell_type": "markdown",
   "metadata": {},
   "source": [
    "As can be seen from the output above, the reviews are already presented as sequences of word-indeces. For training and validation of the document-classifier, this representation is fine. However, for understanding these documents one can calculate and apply the corresponding inverse word-index as shown below:  "
   ]
  },
  {
   "cell_type": "code",
   "execution_count": 7,
   "metadata": {},
   "outputs": [],
   "source": [
    "wordIndex=imdb.get_word_index()\n",
    "inverseWordIndex=dict([(value,key) for (key,value) in wordIndex.items()])"
   ]
  },
  {
   "cell_type": "code",
   "execution_count": 8,
   "metadata": {},
   "outputs": [
    {
     "data": {
      "text/plain": [
       "88584"
      ]
     },
     "execution_count": 8,
     "metadata": {},
     "output_type": "execute_result"
    }
   ],
   "source": [
    "len(wordIndex)"
   ]
  },
  {
   "cell_type": "markdown",
   "metadata": {},
   "source": [
    "First 10 entries of the word-index:"
   ]
  },
  {
   "cell_type": "code",
   "execution_count": 9,
   "metadata": {},
   "outputs": [
    {
     "name": "stdout",
     "output_type": "stream",
     "text": [
      "[('the', 1), ('and', 2), ('a', 3), ('of', 4), ('to', 5), ('is', 6), ('br', 7), ('in', 8), ('it', 9), ('i', 10)]\n"
     ]
    }
   ],
   "source": [
    "import operator\n",
    "wordIndexList = sorted(wordIndex.items(), key=operator.itemgetter(1))\n",
    "print(wordIndexList[:10])"
   ]
  },
  {
   "cell_type": "markdown",
   "metadata": {},
   "source": [
    "Determine the words of the first training-document:"
   ]
  },
  {
   "cell_type": "code",
   "execution_count": 10,
   "metadata": {},
   "outputs": [
    {
     "name": "stdout",
     "output_type": "stream",
     "text": [
      "[2, 2, 2, 2, 2, 530, 973, 1622, 1385, 2, 458, 4468, 2, 3941, 2, 173, 2, 256, 2, 2, 100, 2, 838, 112, 2, 670, 2, 2, 2, 480, 284, 2, 150, 2, 172, 112, 167, 2, 336, 385, 2, 2, 172, 4536, 1111, 2, 546, 2, 2, 447, 2, 192, 2, 2, 2, 147, 2025, 2, 2, 2, 2, 1920, 4613, 469, 2, 2, 2, 2, 2, 2, 2, 530, 2, 2, 2, 2, 1247, 2, 2, 2, 515, 2, 2, 2, 626, 2, 19193, 2, 2, 386, 2, 2, 316, 2, 106, 2, 2, 2223, 5244, 2, 480, 2, 3785, 2, 2, 130, 2, 2, 2, 619, 2, 2, 124, 2, 2, 135, 2, 2, 1415, 2, 2, 2, 2, 215, 2, 2, 2, 2, 2, 407, 2, 2, 10311, 2, 2, 107, 117, 5952, 2, 256, 2, 2, 2, 3766, 2, 723, 2, 2, 2, 530, 476, 2, 400, 317, 2, 2, 2, 12118, 1029, 2, 104, 2, 2, 381, 2, 297, 2, 2, 2071, 2, 2, 141, 2, 194, 7486, 2, 2, 226, 2, 2, 134, 476, 2, 480, 2, 144, 2, 5535, 2, 2, 2, 2, 224, 2, 2, 104, 2, 226, 2, 2, 2, 1334, 2, 2, 2, 283, 2, 2, 4472, 113, 103, 2, 2, 2, 5345, 2, 178, 2]\n",
      "Class-index:  1\n",
      "     brilliant casting location scenery  direction everyone's  suited  part  played   could  imagine being  robert    amazing actor  now  same being director  father came   same scottish island  myself   loved  fact    real connection     witty remarks throughout        brilliant     bought    soon    released  retail   recommend   everyone  watch   fly fishing  amazing  cried   end    sad   know   say   cry     must      definitely   congratulations   two little boy's  played    norman  paul    brilliant children  often left    praising list  think   stars  play   grown   such  big profile   whole   these children  amazing  should  praised     done   think  whole    lovely    true   someone's life after    shared  us \n"
     ]
    }
   ],
   "source": [
    "print(x_train[0])\n",
    "print(\"Class-index: \",y_train[0])\n",
    "\n",
    "decodedText=' '.join([inverseWordIndex.get(i-3,\"\") for i in x_train[0]])\n",
    "#offset of 3 is required, because 0,1 and 2 are reserved for \"padding\", \"Start of Sequence and unknown\"\n",
    "print(decodedText)"
   ]
  },
  {
   "cell_type": "markdown",
   "metadata": {},
   "source": [
    "Determine the words of the second training-document:"
   ]
  },
  {
   "cell_type": "code",
   "execution_count": 11,
   "metadata": {},
   "outputs": [
    {
     "name": "stdout",
     "output_type": "stream",
     "text": [
      "[2, 194, 1153, 194, 8255, 2, 228, 2, 2, 1463, 4369, 5012, 134, 2, 2, 715, 2, 118, 1634, 2, 394, 2, 2, 119, 954, 189, 102, 2, 207, 110, 3103, 2, 2, 2, 188, 2, 2, 2, 2, 2, 249, 126, 2, 2, 114, 2, 2300, 1523, 2, 647, 2, 116, 2, 2, 8163, 2, 229, 2, 340, 1322, 2, 118, 2, 2, 130, 4901, 2, 2, 1002, 2, 2, 2, 952, 2, 2, 2, 455, 2, 2, 2, 2, 1543, 1905, 398, 2, 1649, 2, 6853, 2, 163, 2, 3215, 10156, 2, 1153, 2, 194, 775, 2, 8255, 11596, 349, 2637, 148, 605, 15358, 8003, 2, 123, 125, 2, 2, 6853, 2, 349, 165, 4362, 2, 2, 2, 228, 2, 2, 2, 1157, 2, 299, 120, 2, 120, 174, 2, 220, 175, 136, 2, 2, 4373, 228, 8255, 2, 2, 656, 245, 2350, 2, 2, 9837, 131, 152, 491, 2, 2, 2, 7464, 1212, 2, 2, 2, 371, 2, 2, 625, 2, 1382, 2, 2, 168, 145, 2, 2, 1690, 2, 2, 2, 1355, 2, 2, 2, 2, 154, 462, 2, 2, 2, 285, 2, 145, 2]\n",
      "Class-index:  0\n",
      " big hair big boobs  music   giant safety pin these   words  best describe  terrible   love cheesy horror movies  i've seen hundreds    got      worst ever   plot  paper thin  ridiculous  acting   abomination  script  completely laughable  best   end showdown   cop    worked    killer     damn terribly written  clothes  sickening  funny  equal measures  hair  big lots  boobs bounce men wear those cut tee shirts  show off   sickening  men actually wore    music    trash  plays over  over again  almost every scene   trashy music boobs   taking away bodies   gym still doesn't close    joking aside    truly   whose  charm   look back   disaster    80's     old laugh    everything  back \n"
     ]
    }
   ],
   "source": [
    "print(x_train[1])\n",
    "print(\"Class-index: \",y_train[1])\n",
    "\n",
    "decodedText=' '.join([inverseWordIndex.get(i-3,\"\") for i in x_train[1]])\n",
    "#offset of 3 is required, because 0,1 and 2 are reserved for \"padding\", \"Start of Sequence and unknown\"\n",
    "print(decodedText)"
   ]
  },
  {
   "cell_type": "markdown",
   "metadata": {},
   "source": [
    "Note that the above word sequences do not contain the `skip_top` most frequent words, which are considered to be stop-words."
   ]
  },
  {
   "cell_type": "markdown",
   "metadata": {},
   "source": [
    "## Pad sequences to fixed length\n",
    "\n",
    "The reviews are already represented as sequences of integer word-indices. These sequences actually contain only indices of those words, which belong to the `MAX_NB_WORDS` most frequent words in the corpus.\n",
    "All sequences must be padded to a unique length. This means, that longer sequences are cut and shorter sequences are filled with zeroes."
   ]
  },
  {
   "cell_type": "markdown",
   "metadata": {},
   "source": [
    "### Determine appropriate value for fixed sequence length\n",
    "In order to determine an appropriate value for `MAX_SEQUENCE_LENGTH` the distributions of sequence lengths for both categories are calculated below: "
   ]
  },
  {
   "cell_type": "code",
   "execution_count": 12,
   "metadata": {},
   "outputs": [
    {
     "name": "stdout",
     "output_type": "stream",
     "text": [
      "Documents in category tech:  12500\n",
      "Documents in category general:  12500\n"
     ]
    },
    {
     "data": {
      "image/png": "[encoded data removed]",
      "text/plain": [
       "<Figure size 864x720 with 1 Axes>"
      ]
     },
     "metadata": {
      "filenames": {
       "image/png": "/Users/johannes/gitprojects/mlbook/ml/_build/jupyter_execute/text/02TextClassification_23_1.png"
      },
      "needs_background": "light"
     },
     "output_type": "display_data"
    }
   ],
   "source": [
    "%matplotlib inline\n",
    "from matplotlib import pyplot as plt\n",
    "wordsInSeqs0=[len(s) for i,s in enumerate(x_train) if y_train[i]==0]\n",
    "wordsInSeqs1=[len(s) for i,s in enumerate(x_train) if y_train[i]==1]\n",
    "print(\"Documents in category tech: \",len(wordsInSeqs0))\n",
    "print(\"Documents in category general: \",len(wordsInSeqs1))\n",
    "plt.figure(figsize=(12,10))\n",
    "plt.hist(wordsInSeqs0,bins=range(0,1000,10),color=\"blue\",alpha=0.3,label=\"positive\")\n",
    "plt.hist(wordsInSeqs1,bins=range(0,1000,10),color=\"red\",alpha=0.3,label=\"negative\")\n",
    "plt.legend()\n",
    "plt.title(\"Number of words in documents\")\n",
    "plt.show()"
   ]
  },
  {
   "cell_type": "markdown",
   "metadata": {},
   "source": [
    "### Padding"
   ]
  },
  {
   "cell_type": "markdown",
   "metadata": {},
   "source": [
    "From the length-distribution above, we infer that a `MAX_SEQUENCE_LENGTH` of 600 may be appropriate."
   ]
  },
  {
   "cell_type": "code",
   "execution_count": 13,
   "metadata": {},
   "outputs": [],
   "source": [
    "MAX_SEQUENCE_LENGTH = 600  # all text-sequences are padded to this length"
   ]
  },
  {
   "cell_type": "code",
   "execution_count": 14,
   "metadata": {},
   "outputs": [],
   "source": [
    "x_train = pad_sequences(x_train, maxlen=MAX_SEQUENCE_LENGTH)\n",
    "x_test = pad_sequences(x_test, maxlen=MAX_SEQUENCE_LENGTH)"
   ]
  },
  {
   "cell_type": "code",
   "execution_count": 15,
   "metadata": {},
   "outputs": [
    {
     "name": "stdout",
     "output_type": "stream",
     "text": [
      "Training data shape:  (25000, 600)\n",
      "Test data shape:  (25000, 600)\n"
     ]
    }
   ],
   "source": [
    "print(\"Training data shape: \",x_train.shape)\n",
    "print(\"Test data shape: \",x_test.shape)"
   ]
  },
  {
   "cell_type": "markdown",
   "metadata": {},
   "source": [
    "## Load Glove word-embeddings\n",
    "\n",
    "Glove word embeddings can be downloaded from [https://nlp.stanford.edu/projects/glove/](https://nlp.stanford.edu/projects/glove/). In the following code-cell the variable `GLOVE_DIR` points to the directory, to which the downloaded embeddings has been extracted. The embeddings are loaded only if the `GLOVE`-parameter has been set to `True` before:"
   ]
  },
  {
   "cell_type": "code",
   "execution_count": 16,
   "metadata": {
    "ExecuteTime": {
     "end_time": "2018-02-27T07:26:10.243744Z",
     "start_time": "2018-02-27T07:25:59.962856Z"
    }
   },
   "outputs": [],
   "source": [
    "if GLOVE:\n",
    "    import os\n",
    "    from gensim.test.utils import datapath, get_tmpfile\n",
    "    from gensim.models import KeyedVectors\n",
    "    from gensim.scripts.glove2word2vec import glove2word2vec\n",
    "    \n",
    "    GLOVE_DIR = '/Users/johannes/DataSets/Gensim/glove/'\n",
    "    glove_file = datapath(os.path.join(GLOVE_DIR, 'glove.6B.100d.txt'))\n",
    "    tmp_file = get_tmpfile(os.path.join(GLOVE_DIR, 'test_word2vec.txt'))\n",
    "    _ = glove2word2vec(glove_file, tmp_file)\n",
    "    w2vmodel = KeyedVectors.load_word2vec_format(tmp_file)\n",
    "    EMBEDDING_DIM=100\n",
    "    print('Total %d word vectors in Glove 6B 100d.' % w2vmodel.vectors.shape[0])\n",
    "    print('Length of word vectors in Glove 6B 100d: %d' % w2vmodel.vectors.shape[1])"
   ]
  },
  {
   "cell_type": "markdown",
   "metadata": {},
   "source": [
    "Fasttext word embeddings can be downloaded from [https://fasttext.cc/docs/en/crawl-vectors.html](https://fasttext.cc/docs/en/crawl-vectors.html). In the following code-cell the directory, which is passed to `KeyedVectors.load_word2vec_format(directory)` is the directory, to which the downloaded embeddings has been extracted. The embeddings are loaded only if the `FASTTEXT`-parameter has been set to `True` before:"
   ]
  },
  {
   "cell_type": "code",
   "execution_count": 17,
   "metadata": {},
   "outputs": [],
   "source": [
    "if FASTTEXT:\n",
    "    from gensim.models import KeyedVectors\n",
    "    # Creating the model\n",
    "    iMacPath=\"/Users/johannes/DataSets/nlp/wiki-news-300d-1M.vec\"\n",
    "    pathMacBook='/Users/maucher/DataSets/Gensim/FastText/fasttextEnglish300.vec'\n",
    "    pathDeepLearn='../../DataSets/FastText/fasttextEnglish300.vec'\n",
    "    w2vmodel = KeyedVectors.load_word2vec_format(iMacPath)\n",
    "    EMBEDDING_DIM=w2vmodel.vector_size"
   ]
  },
  {
   "cell_type": "markdown",
   "metadata": {},
   "source": [
    "As described above, if either `GLOVE` or `FASTTEXT` is `True`, then a pretrained word-embedding shall be applied in the Neural Networks, which are configured below. In this case an `embedding_matrix` must be prepared, which is applied in the `Embedding`-layer of the Neural Networks:"
   ]
  },
  {
   "cell_type": "code",
   "execution_count": 18,
   "metadata": {},
   "outputs": [],
   "source": [
    "if USE_PRETRAINED:\n",
    "    # prepare embedding matrix\n",
    "    num_words = min(MAX_NB_WORDS, len(wordIndex))\n",
    "    embedding_matrix = np.zeros((num_words, EMBEDDING_DIM))\n",
    "    count=0\n",
    "    for (word, i) in wordIndexList[:MAX_NB_WORDS]:\n",
    "        try:\n",
    "            embedding_vector = w2vmodel[word]\n",
    "            if embedding_vector is not None and i < MAX_NB_WORDS:\n",
    "                embedding_matrix[i] = embedding_vector\n",
    "        except:\n",
    "            #print(\"{} not in wordembedding\".format(word))\n",
    "            count+=1\n",
    "            continue"
   ]
  },
  {
   "cell_type": "code",
   "execution_count": 19,
   "metadata": {},
   "outputs": [
    {
     "name": "stdout",
     "output_type": "stream",
     "text": [
      "Number of word-embeddings with no vector in the given embedding:    1899\n"
     ]
    }
   ],
   "source": [
    "print(\"Number of word-embeddings with no vector in the given embedding:   \",count)"
   ]
  },
  {
   "cell_type": "markdown",
   "metadata": {},
   "source": [
    "## CNN with only one layer"
   ]
  },
  {
   "cell_type": "markdown",
   "metadata": {},
   "source": [
    "In the following code-cell the embedding layer is defined. This layer is then applied as first layer in the Neural Networks below. \n",
    "In row \n",
    "```\n",
    "weights= [embedding_matrix] if USE_PRETRAINED else None,\n",
    "```\n",
    "the embedding-layer is defined such that a pretrained embedding_matrix is applied, if either `GLOVE` or `FASTTEXT` is `True`. Otherwise the embedding is learned from scratch in the document-classification task. In both cases the weights in this layer are learned, because `trainable` is set to be `True`.\n"
   ]
  },
  {
   "cell_type": "code",
   "execution_count": 20,
   "metadata": {
    "ExecuteTime": {
     "end_time": "2018-02-27T07:26:10.445153Z",
     "start_time": "2018-02-27T07:26:10.247006Z"
    }
   },
   "outputs": [],
   "source": [
    "embedding_layer = Embedding(MAX_NB_WORDS,\n",
    "                            EMBEDDING_DIM,\n",
    "                            weights= [embedding_matrix] if USE_PRETRAINED else None,\n",
    "                            input_length=MAX_SEQUENCE_LENGTH,\n",
    "                            trainable=True)"
   ]
  },
  {
   "cell_type": "markdown",
   "metadata": {},
   "source": [
    "Next, the architecture of the CNN is defined. Note that the first layer in this architecture is the `embedding_layer`. \n",
    "\n",
    "The first network architecture consists of\n",
    "* an embedding layer. This layer takes sequences of integers and learns word-embeddings. The sequences of word-embeddings are then passed to the first convolutional layer\n",
    "* one 1D-convolutional layer, which applies filters of size 5 and learns 128 features in parallel\n",
    "* one Max-Pooling layer to reduce the number of neurons, required in the following layers\n",
    "* a MLP classifier with Dropout and one hidden layer and the output layer\n",
    "\n"
   ]
  },
  {
   "cell_type": "code",
   "execution_count": 21,
   "metadata": {},
   "outputs": [],
   "source": [
    "sequence_input = Input(shape=(MAX_SEQUENCE_LENGTH,), dtype='int32')\n",
    "embedded_sequences = embedding_layer(sequence_input)\n",
    "l_cov1= Conv1D(128, 5, activation='relu')(embedded_sequences)\n",
    "l_pool3 = MaxPooling1D(5)(l_cov1) \n",
    "l_flat = Flatten()(l_pool3)\n",
    "l_drop1 = Dropout(0.2)(l_flat)\n",
    "l_dense = Dense(180, activation='relu')(l_drop1)\n",
    "l_drop2 = Dropout(0.2)(l_dense)\n",
    "preds = Dense(1, activation='sigmoid')(l_drop2)\n",
    "\n",
    "model = Model(sequence_input, preds)"
   ]
  },
  {
   "cell_type": "markdown",
   "metadata": {},
   "source": [
    "Compile the model by defining training-parameters and display a summary of the architecture:"
   ]
  },
  {
   "cell_type": "code",
   "execution_count": 22,
   "metadata": {
    "ExecuteTime": {
     "end_time": "2018-02-27T07:26:10.793699Z",
     "start_time": "2018-02-27T07:26:10.733432Z"
    }
   },
   "outputs": [
    {
     "name": "stdout",
     "output_type": "stream",
     "text": [
      "Model: \"model\"\n",
      "_________________________________________________________________\n",
      "Layer (type)                 Output Shape              Param #   \n",
      "=================================================================\n",
      "input_1 (InputLayer)         [(None, 600)]             0         \n",
      "_________________________________________________________________\n",
      "embedding (Embedding)        (None, 600, 300)          6000000   \n",
      "_________________________________________________________________\n",
      "conv1d (Conv1D)              (None, 596, 128)          192128    \n",
      "_________________________________________________________________\n",
      "max_pooling1d (MaxPooling1D) (None, 119, 128)          0         \n",
      "_________________________________________________________________\n",
      "flatten (Flatten)            (None, 15232)             0         \n",
      "_________________________________________________________________\n",
      "dropout (Dropout)            (None, 15232)             0         \n",
      "_________________________________________________________________\n",
      "dense (Dense)                (None, 180)               2741940   \n",
      "_________________________________________________________________\n",
      "dropout_1 (Dropout)          (None, 180)               0         \n",
      "_________________________________________________________________\n",
      "dense_1 (Dense)              (None, 1)                 181       \n",
      "=================================================================\n",
      "Total params: 8,934,249\n",
      "Trainable params: 8,934,249\n",
      "Non-trainable params: 0\n",
      "_________________________________________________________________\n"
     ]
    }
   ],
   "source": [
    "model.compile(loss='binary_crossentropy',\n",
    "              optimizer='ADAM',\n",
    "              metrics=['accuracy'])\n",
    "model.summary()"
   ]
  },
  {
   "cell_type": "markdown",
   "metadata": {},
   "source": [
    "Perform training:"
   ]
  },
  {
   "cell_type": "code",
   "execution_count": 23,
   "metadata": {
    "ExecuteTime": {
     "end_time": "2018-02-27T08:05:52.012732Z",
     "start_time": "2018-02-27T07:26:10.796149Z"
    }
   },
   "outputs": [
    {
     "name": "stdout",
     "output_type": "stream",
     "text": [
      "model fitting - simplified convolutional neural network\n",
      "Epoch 1/3\n",
      "196/196 [==============================] - 99s 496ms/step - loss: 0.7062 - accuracy: 0.5146 - val_loss: 0.4971 - val_accuracy: 0.7536\n",
      "Epoch 2/3\n",
      "196/196 [==============================] - 98s 499ms/step - loss: 0.3541 - accuracy: 0.8470 - val_loss: 0.3387 - val_accuracy: 0.8528\n",
      "Epoch 3/3\n",
      "196/196 [==============================] - 98s 500ms/step - loss: 0.1340 - accuracy: 0.9522 - val_loss: 0.3855 - val_accuracy: 0.8493\n"
     ]
    }
   ],
   "source": [
    "print(\"model fitting - simplified convolutional neural network\")\n",
    "\n",
    "history=model.fit(x_train, y_train, validation_data=(x_test, y_test),epochs=3, batch_size=128)"
   ]
  },
  {
   "cell_type": "code",
   "execution_count": 24,
   "metadata": {
    "scrolled": false
   },
   "outputs": [
    {
     "data": {
      "image/png": "[encoded data removed]",
      "text/plain": [
       "<Figure size 720x576 with 1 Axes>"
      ]
     },
     "metadata": {
      "filenames": {
       "image/png": "/Users/johannes/gitprojects/mlbook/ml/_build/jupyter_execute/text/02TextClassification_45_0.png"
      },
      "needs_background": "light"
     },
     "output_type": "display_data"
    }
   ],
   "source": [
    "acc = history.history['accuracy']\n",
    "val_acc = history.history['val_accuracy']\n",
    "max_val_acc=np.max(val_acc)\n",
    "\n",
    "epochs = range(1, len(acc) + 1)\n",
    "\n",
    "plt.figure(figsize=(10,8))\n",
    "plt.grid(True)\n",
    "plt.plot(epochs, acc, 'bo-', label='Training accuracy')\n",
    "plt.plot(epochs, val_acc, 'ro-', label='Validation accuracy')\n",
    "plt.title('Training and validation accuracy')\n",
    "plt.xlabel(\"Epoch\")\n",
    "plt.ylabel(\"Accuracy\")\n",
    "plt.legend()\n",
    "plt.show()"
   ]
  },
  {
   "cell_type": "markdown",
   "metadata": {},
   "source": [
    "## CNN with 3 Convolutional Layers"
   ]
  },
  {
   "cell_type": "code",
   "execution_count": 25,
   "metadata": {
    "ExecuteTime": {
     "end_time": "2018-02-27T07:26:10.445153Z",
     "start_time": "2018-02-27T07:26:10.247006Z"
    }
   },
   "outputs": [],
   "source": [
    "embedding_layer = Embedding(MAX_NB_WORDS,\n",
    "                            EMBEDDING_DIM,\n",
    "                            weights= [embedding_matrix] if USE_PRETRAINED else None,\n",
    "                            input_length=MAX_SEQUENCE_LENGTH,\n",
    "                            trainable=True)"
   ]
  },
  {
   "cell_type": "code",
   "execution_count": 26,
   "metadata": {
    "ExecuteTime": {
     "end_time": "2018-02-27T07:26:10.731164Z",
     "start_time": "2018-02-27T07:26:10.447394Z"
    }
   },
   "outputs": [],
   "source": [
    "sequence_input = Input(shape=(MAX_SEQUENCE_LENGTH,), dtype='int32')\n",
    "embedded_sequences = embedding_layer(sequence_input)\n",
    "l_cov1= Conv1D(64, 3, activation='relu')(embedded_sequences)\n",
    "l_cov2 = Conv1D(32, 3, activation='relu')(l_cov1)\n",
    "l_cov3 = Conv1D(16, 3, activation='relu')(l_cov2)\n",
    "l_flat = Flatten()(l_cov3)\n",
    "l_drop1 = Dropout(0.2)(l_flat)\n",
    "l_dense = Dense(180, activation='relu')(l_drop1)\n",
    "l_drop2 = Dropout(0.2)(l_dense)\n",
    "preds = Dense(1, activation='sigmoid')(l_drop2)\n",
    "\n",
    "model = Model(sequence_input, preds)"
   ]
  },
  {
   "cell_type": "code",
   "execution_count": 27,
   "metadata": {
    "ExecuteTime": {
     "end_time": "2018-02-27T07:26:10.793699Z",
     "start_time": "2018-02-27T07:26:10.733432Z"
    }
   },
   "outputs": [
    {
     "name": "stdout",
     "output_type": "stream",
     "text": [
      "Model: \"model_1\"\n",
      "_________________________________________________________________\n",
      "Layer (type)                 Output Shape              Param #   \n",
      "=================================================================\n",
      "input_2 (InputLayer)         [(None, 600)]             0         \n",
      "_________________________________________________________________\n",
      "embedding_1 (Embedding)      (None, 600, 300)          6000000   \n",
      "_________________________________________________________________\n",
      "conv1d_1 (Conv1D)            (None, 598, 64)           57664     \n",
      "_________________________________________________________________\n",
      "conv1d_2 (Conv1D)            (None, 596, 32)           6176      \n",
      "_________________________________________________________________\n",
      "conv1d_3 (Conv1D)            (None, 594, 16)           1552      \n",
      "_________________________________________________________________\n",
      "flatten_1 (Flatten)          (None, 9504)              0         \n",
      "_________________________________________________________________\n",
      "dropout_2 (Dropout)          (None, 9504)              0         \n",
      "_________________________________________________________________\n",
      "dense_2 (Dense)              (None, 180)               1710900   \n",
      "_________________________________________________________________\n",
      "dropout_3 (Dropout)          (None, 180)               0         \n",
      "_________________________________________________________________\n",
      "dense_3 (Dense)              (None, 1)                 181       \n",
      "=================================================================\n",
      "Total params: 7,776,473\n",
      "Trainable params: 7,776,473\n",
      "Non-trainable params: 0\n",
      "_________________________________________________________________\n"
     ]
    }
   ],
   "source": [
    "model.compile(loss='binary_crossentropy',\n",
    "              optimizer='ADAM',\n",
    "              metrics=['accuracy'])\n",
    "model.summary()"
   ]
  },
  {
   "cell_type": "code",
   "execution_count": 28,
   "metadata": {
    "ExecuteTime": {
     "end_time": "2018-02-27T08:05:52.012732Z",
     "start_time": "2018-02-27T07:26:10.796149Z"
    }
   },
   "outputs": [
    {
     "name": "stdout",
     "output_type": "stream",
     "text": [
      "model fitting - simplified convolutional neural network\n",
      "Epoch 1/3\n",
      "196/196 [==============================] - 73s 371ms/step - loss: 0.6934 - accuracy: 0.5080 - val_loss: 0.5995 - val_accuracy: 0.6633\n",
      "Epoch 2/3\n",
      "196/196 [==============================] - 71s 362ms/step - loss: 0.3671 - accuracy: 0.8338 - val_loss: 0.3212 - val_accuracy: 0.8644\n",
      "Epoch 3/3\n",
      "196/196 [==============================] - 71s 360ms/step - loss: 0.1414 - accuracy: 0.9485 - val_loss: 0.3417 - val_accuracy: 0.8664\n"
     ]
    }
   ],
   "source": [
    "print(\"model fitting - simplified convolutional neural network\")\n",
    "\n",
    "history=model.fit(x_train, y_train, validation_data=(x_test, y_test),epochs=3, batch_size=128)"
   ]
  },
  {
   "cell_type": "code",
   "execution_count": 29,
   "metadata": {},
   "outputs": [
    {
     "data": {
      "image/png": "[encoded data removed]",
      "text/plain": [
       "<Figure size 720x576 with 1 Axes>"
      ]
     },
     "metadata": {
      "filenames": {
       "image/png": "/Users/johannes/gitprojects/mlbook/ml/_build/jupyter_execute/text/02TextClassification_51_0.png"
      },
      "needs_background": "light"
     },
     "output_type": "display_data"
    }
   ],
   "source": [
    "acc = history.history['accuracy']\n",
    "val_acc = history.history['val_accuracy']\n",
    "max_val_acc=np.max(val_acc)\n",
    "\n",
    "epochs = range(1, len(acc) + 1)\n",
    "\n",
    "plt.figure(figsize=(10,8))\n",
    "plt.grid(True)\n",
    "plt.plot(epochs, acc, 'bo-', label='Training accuracy')\n",
    "plt.plot(epochs, val_acc, 'ro-', label='Validation accuracy')\n",
    "plt.title('Training and validation accuracy')\n",
    "plt.xlabel(\"Epoch\")\n",
    "plt.ylabel(\"Accuracy\")\n",
    "plt.legend()\n",
    "plt.show()"
   ]
  },
  {
   "cell_type": "markdown",
   "metadata": {},
   "source": [
    "## CNN with different filter sizes in one layer\n",
    "In [Y. Kim; Convolutional Neural Networks for Sentence Classification](https://arxiv.org/pdf/1408.5882v2.pdf) a CNN with different filter-sizes in one layer has been proposed. This CNN is implemented below:"
   ]
  },
  {
   "cell_type": "markdown",
   "metadata": {},
   "source": [
    "<img src=\"https://maucher.home.hdm-stuttgart.de/Pics/cnnSentenceClassification.PNG\" alt=\"Drawing\" style=\"width: 600px;\"/>\n",
    "\n",
    "Source: [Y. Kim; Convolutional Neural Networks for Sentence Classification](https://arxiv.org/pdf/1408.5882v2.pdf)"
   ]
  },
  {
   "cell_type": "code",
   "execution_count": 30,
   "metadata": {
    "ExecuteTime": {
     "end_time": "2018-02-27T07:26:10.445153Z",
     "start_time": "2018-02-27T07:26:10.247006Z"
    }
   },
   "outputs": [],
   "source": [
    "embedding_layer = Embedding(MAX_NB_WORDS,\n",
    "                            EMBEDDING_DIM,\n",
    "                            weights= [embedding_matrix] if USE_PRETRAINED else None,\n",
    "                            input_length=MAX_SEQUENCE_LENGTH,\n",
    "                            trainable=True)"
   ]
  },
  {
   "cell_type": "code",
   "execution_count": 31,
   "metadata": {
    "ExecuteTime": {
     "end_time": "2018-02-27T08:05:52.653393Z",
     "start_time": "2018-02-27T08:05:52.227460Z"
    }
   },
   "outputs": [],
   "source": [
    "convs = []\n",
    "filter_sizes = [3,4,5]\n",
    "\n",
    "sequence_input = Input(shape=(MAX_SEQUENCE_LENGTH,), dtype='int32')\n",
    "embedded_sequences = embedding_layer(sequence_input)\n",
    "\n",
    "for fsz in filter_sizes:\n",
    "    l_conv = Conv1D(filters=128,kernel_size=fsz,activation='relu')(embedded_sequences)\n",
    "    l_pool = MaxPooling1D(5)(l_conv)\n",
    "    convs.append(l_pool)\n",
    "    \n",
    "l_merge = Concatenate(axis=1)(convs)\n",
    "l_cov1= Conv1D(128, 5, activation='relu')(l_merge)\n",
    "l_pool1 = MaxPooling1D(5)(l_cov1)\n",
    "l_cov2 = Conv1D(128, 5, activation='relu')(l_pool1)\n",
    "l_pool2 = MaxPooling1D(30)(l_cov2)\n",
    "l_flat = Flatten()(l_pool2)\n",
    "l_dense = Dense(128, activation='relu')(l_flat)\n",
    "preds = Dense(1, activation='sigmoid')(l_dense)\n",
    "\n",
    "model = Model(sequence_input, preds)"
   ]
  },
  {
   "cell_type": "code",
   "execution_count": 32,
   "metadata": {},
   "outputs": [],
   "source": [
    "model.compile(loss='binary_crossentropy',\n",
    "              optimizer='ADAM',\n",
    "              metrics=['accuracy'])"
   ]
  },
  {
   "cell_type": "code",
   "execution_count": 33,
   "metadata": {
    "ExecuteTime": {
     "end_time": "2018-02-27T10:30:20.771569Z",
     "start_time": "2018-02-27T10:17:57.889209Z"
    }
   },
   "outputs": [
    {
     "name": "stdout",
     "output_type": "stream",
     "text": [
      "model fitting - more complex convolutional neural network\n",
      "Model: \"model_2\"\n",
      "__________________________________________________________________________________________________\n",
      "Layer (type)                    Output Shape         Param #     Connected to                     \n",
      "==================================================================================================\n",
      "input_3 (InputLayer)            [(None, 600)]        0                                            \n",
      "__________________________________________________________________________________________________\n",
      "embedding_2 (Embedding)         (None, 600, 300)     6000000     input_3[0][0]                    \n",
      "__________________________________________________________________________________________________\n",
      "conv1d_4 (Conv1D)               (None, 598, 128)     115328      embedding_2[0][0]                \n",
      "__________________________________________________________________________________________________\n",
      "conv1d_5 (Conv1D)               (None, 597, 128)     153728      embedding_2[0][0]                \n",
      "__________________________________________________________________________________________________\n",
      "conv1d_6 (Conv1D)               (None, 596, 128)     192128      embedding_2[0][0]                \n",
      "__________________________________________________________________________________________________\n",
      "max_pooling1d_1 (MaxPooling1D)  (None, 119, 128)     0           conv1d_4[0][0]                   \n",
      "__________________________________________________________________________________________________\n",
      "max_pooling1d_2 (MaxPooling1D)  (None, 119, 128)     0           conv1d_5[0][0]                   \n",
      "__________________________________________________________________________________________________\n",
      "max_pooling1d_3 (MaxPooling1D)  (None, 119, 128)     0           conv1d_6[0][0]                   \n",
      "__________________________________________________________________________________________________\n",
      "concatenate (Concatenate)       (None, 357, 128)     0           max_pooling1d_1[0][0]            \n",
      "                                                                 max_pooling1d_2[0][0]            \n",
      "                                                                 max_pooling1d_3[0][0]            \n",
      "__________________________________________________________________________________________________\n",
      "conv1d_7 (Conv1D)               (None, 353, 128)     82048       concatenate[0][0]                \n",
      "__________________________________________________________________________________________________\n",
      "max_pooling1d_4 (MaxPooling1D)  (None, 70, 128)      0           conv1d_7[0][0]                   \n",
      "__________________________________________________________________________________________________\n",
      "conv1d_8 (Conv1D)               (None, 66, 128)      82048       max_pooling1d_4[0][0]            \n",
      "__________________________________________________________________________________________________\n",
      "max_pooling1d_5 (MaxPooling1D)  (None, 2, 128)       0           conv1d_8[0][0]                   \n",
      "__________________________________________________________________________________________________\n",
      "flatten_2 (Flatten)             (None, 256)          0           max_pooling1d_5[0][0]            \n",
      "__________________________________________________________________________________________________\n",
      "dense_4 (Dense)                 (None, 128)          32896       flatten_2[0][0]                  \n",
      "__________________________________________________________________________________________________\n",
      "dense_5 (Dense)                 (None, 1)            129         dense_4[0][0]                    \n",
      "==================================================================================================\n",
      "Total params: 6,658,305\n",
      "Trainable params: 6,658,305\n",
      "Non-trainable params: 0\n",
      "__________________________________________________________________________________________________\n",
      "Epoch 1/3\n",
      "196/196 [==============================] - 259s 1s/step - loss: 0.6787 - accuracy: 0.5269 - val_loss: 0.3261 - val_accuracy: 0.8576\n",
      "Epoch 2/3\n",
      "196/196 [==============================] - 253s 1s/step - loss: 0.2464 - accuracy: 0.9005 - val_loss: 0.3160 - val_accuracy: 0.8661\n",
      "Epoch 3/3\n",
      "196/196 [==============================] - 259s 1s/step - loss: 0.0991 - accuracy: 0.9678 - val_loss: 0.4194 - val_accuracy: 0.8430\n"
     ]
    }
   ],
   "source": [
    "print(\"model fitting - more complex convolutional neural network\")\n",
    "model.summary()\n",
    "history=model.fit(x_train, y_train, validation_data=(x_test, y_test),\n",
    "          epochs=3, batch_size=128)"
   ]
  },
  {
   "cell_type": "code",
   "execution_count": 34,
   "metadata": {},
   "outputs": [
    {
     "data": {
      "image/png": "[encoded data removed]",
      "text/plain": [
       "<Figure size 720x576 with 1 Axes>"
      ]
     },
     "metadata": {
      "filenames": {
       "image/png": "/Users/johannes/gitprojects/mlbook/ml/_build/jupyter_execute/text/02TextClassification_58_0.png"
      },
      "needs_background": "light"
     },
     "output_type": "display_data"
    }
   ],
   "source": [
    "acc = history.history['accuracy']\n",
    "val_acc = history.history['val_accuracy']\n",
    "max_val_acc=np.max(val_acc)\n",
    "\n",
    "epochs = range(1, len(acc) + 1)\n",
    "\n",
    "plt.figure(figsize=(10,8))\n",
    "plt.grid(True)\n",
    "plt.plot(epochs, acc, 'bo-', label='Training accuracy')\n",
    "plt.plot(epochs, val_acc, 'ro-', label='Validation accuracy')\n",
    "plt.title('Training and validation accuracy')\n",
    "plt.xlabel(\"Epoch\")\n",
    "plt.ylabel(\"Accuracy\")\n",
    "plt.legend()\n",
    "plt.show()"
   ]
  },
  {
   "cell_type": "markdown",
   "metadata": {},
   "source": [
    "## LSTM text classification\n",
    "### Define LSTM architecture"
   ]
  },
  {
   "cell_type": "code",
   "execution_count": 17,
   "metadata": {
    "ExecuteTime": {
     "end_time": "2018-03-01T17:12:13.749678Z",
     "start_time": "2018-03-01T17:12:13.217086Z"
    }
   },
   "outputs": [],
   "source": [
    "EMBEDDING_DIM=300"
   ]
  },
  {
   "cell_type": "code",
   "execution_count": 18,
   "metadata": {},
   "outputs": [],
   "source": [
    "embedding_layer = Embedding(MAX_NB_WORDS,\n",
    "                            EMBEDDING_DIM,\n",
    "                            #weights= [embedding_matrix] if USE_PRETRAINED else None,\n",
    "                            input_length=MAX_SEQUENCE_LENGTH,\n",
    "                            trainable=True)"
   ]
  },
  {
   "cell_type": "code",
   "execution_count": 19,
   "metadata": {
    "ExecuteTime": {
     "end_time": "2018-03-01T17:12:13.749678Z",
     "start_time": "2018-03-01T17:12:13.217086Z"
    }
   },
   "outputs": [
    {
     "name": "stdout",
     "output_type": "stream",
     "text": [
      "Number of words in each input:  600\n",
      "Model: \"model\"\n",
      "_________________________________________________________________\n",
      "Layer (type)                 Output Shape              Param #   \n",
      "=================================================================\n",
      "input_2 (InputLayer)         [(None, 600)]             0         \n",
      "_________________________________________________________________\n",
      "embedding (Embedding)        (None, 600, 300)          6000000   \n",
      "_________________________________________________________________\n",
      "lstm (LSTM)                  (None, 32)                42624     \n",
      "_________________________________________________________________\n",
      "dropout (Dropout)            (None, 32)                0         \n",
      "_________________________________________________________________\n",
      "dense (Dense)                (None, 1)                 33        \n",
      "=================================================================\n",
      "Total params: 6,042,657\n",
      "Trainable params: 6,042,657\n",
      "Non-trainable params: 0\n",
      "_________________________________________________________________\n"
     ]
    }
   ],
   "source": [
    "print(\"Number of words in each input: \",MAX_SEQUENCE_LENGTH)\n",
    "# train a 1D convnet with global maxpooling\n",
    "\n",
    "sequence_input = Input(shape=(MAX_SEQUENCE_LENGTH,), dtype='int32')\n",
    "embedded_sequences = embedding_layer(sequence_input)\n",
    "\n",
    "\n",
    "sequence_input = Input(shape=(MAX_SEQUENCE_LENGTH,), dtype='int32')\n",
    "embedded_sequences = embedding_layer(sequence_input)\n",
    "x = LSTM(units=32)(embedded_sequences)\n",
    "x = Dropout(0.3)(x)\n",
    "preds = Dense(1,activation='sigmoid')(x)\n",
    "model = Model(sequence_input, preds)\n",
    "model.summary()"
   ]
  },
  {
   "cell_type": "markdown",
   "metadata": {},
   "source": [
    "### Training"
   ]
  },
  {
   "cell_type": "code",
   "execution_count": 20,
   "metadata": {
    "ExecuteTime": {
     "end_time": "2018-03-01T17:12:17.015732Z",
     "start_time": "2018-03-01T17:12:16.942306Z"
    }
   },
   "outputs": [],
   "source": [
    "model.compile(loss='binary_crossentropy', optimizer='adam', metrics=['accuracy'])"
   ]
  },
  {
   "cell_type": "code",
   "execution_count": 21,
   "metadata": {
    "ExecuteTime": {
     "end_time": "2018-03-01T17:12:50.972853Z",
     "start_time": "2018-03-01T17:12:18.555859Z"
    }
   },
   "outputs": [
    {
     "name": "stdout",
     "output_type": "stream",
     "text": [
      "Epoch 1/3\n",
      "196/196 [==============================] - 114s 578ms/step - loss: 0.4650 - accuracy: 0.7738 - val_loss: 0.4584 - val_accuracy: 0.7820\n",
      "Epoch 2/3\n",
      "196/196 [==============================] - 113s 578ms/step - loss: 0.2274 - accuracy: 0.9160 - val_loss: 0.3440 - val_accuracy: 0.8649\n",
      "Epoch 3/3\n",
      "196/196 [==============================] - 114s 580ms/step - loss: 0.1464 - accuracy: 0.9507 - val_loss: 0.4074 - val_accuracy: 0.8451\n"
     ]
    }
   ],
   "source": [
    "history=model.fit(x_train, y_train,\n",
    "          batch_size=128,\n",
    "          epochs=3,   \n",
    "          validation_data=(x_test, y_test))"
   ]
  },
  {
   "cell_type": "code",
   "execution_count": 22,
   "metadata": {
    "ExecuteTime": {
     "end_time": "2018-03-01T17:12:55.542788Z",
     "start_time": "2018-03-01T17:12:55.422286Z"
    }
   },
   "outputs": [
    {
     "data": {
      "image/png": "[encoded data removed]",
      "text/plain": [
       "<Figure size 720x576 with 1 Axes>"
      ]
     },
     "metadata": {
      "filenames": {
       "image/png": "/Users/johannes/gitprojects/mlbook/ml/_build/jupyter_execute/text/02TextClassification_66_0.png"
      },
      "needs_background": "light"
     },
     "output_type": "display_data"
    }
   ],
   "source": [
    "acc = history.history['accuracy']\n",
    "val_acc = history.history['val_accuracy']\n",
    "max_val_acc=np.max(val_acc)\n",
    "\n",
    "epochs = range(1, len(acc) + 1)\n",
    "\n",
    "plt.figure(figsize=(10,8))\n",
    "plt.grid(True)\n",
    "plt.plot(epochs, acc, 'bo-', label='Training accuracy')\n",
    "plt.plot(epochs, val_acc, 'ro-', label='Validation accuracy')\n",
    "plt.title('Training and validation accuracy')\n",
    "plt.xlabel(\"Epoch\")\n",
    "plt.ylabel(\"Accuracy\")\n",
    "plt.legend()\n",
    "plt.show()"
   ]
  },
  {
   "cell_type": "code",
   "execution_count": 23,
   "metadata": {
    "ExecuteTime": {
     "end_time": "2018-03-01T17:13:03.329453Z",
     "start_time": "2018-03-01T17:13:03.324313Z"
    }
   },
   "outputs": [
    {
     "name": "stdout",
     "output_type": "stream",
     "text": [
      "Maximum accuracy:  0.8649200201034546\n"
     ]
    }
   ],
   "source": [
    "print(\"Maximum accuracy: \",max_val_acc)"
   ]
  },
  {
   "cell_type": "markdown",
   "metadata": {},
   "source": [
    "**Result:**\n",
    "\n",
    "In this task all the Neural Network architectures, which have implemented in this notebook, yield similar accuracy-values. However, in this notebook training has been limited to 3 epochs. Actually the networks should be trained longer. Moreover, no optimisation of hyperparameters (e.g. training-parameters) has been employed here."
   ]
  },
  {
   "cell_type": "markdown",
   "metadata": {},
   "source": [
    "## Appendix: Text Preprocessing with Keras"
   ]
  },
  {
   "cell_type": "markdown",
   "metadata": {},
   "source": [
    "In the example of this notebook text access and preprocessing has been simple, because a corpus from keras in which texts are already presented in a format, which can directly be passed to the input of Keras Neural Networks. \n",
    "\n",
    "In real applications text corpora are usually provided as lists of strings. For example:"
   ]
  },
  {
   "cell_type": "code",
   "execution_count": 24,
   "metadata": {},
   "outputs": [
    {
     "data": {
      "text/plain": [
       "['This is the first document',\n",
       " 'The second document contains this text',\n",
       " 'And here is a third document']"
      ]
     },
     "execution_count": 24,
     "metadata": {},
     "output_type": "execute_result"
    }
   ],
   "source": [
    "textcorpus = [\"This is the first document\",\n",
    "              \"The second document contains this text\",\n",
    "              \"And here is a third document\"]\n",
    "textcorpus"
   ]
  },
  {
   "cell_type": "markdown",
   "metadata": {},
   "source": [
    "As shown above, we need to transform this list of strings into a list of integer-lists, where each integer-list is a sequence indices of the words in the corresponding text. \n",
    "\n",
    "This transformation can efficiently be implemented by the [Tokenizer](https://www.tensorflow.org/api_docs/python/tf/keras/preprocessing/text/Tokenizer)-class of the `tensorflow.keras.preprocessing.text`-module as shown below:"
   ]
  },
  {
   "cell_type": "code",
   "execution_count": 26,
   "metadata": {},
   "outputs": [
    {
     "data": {
      "text/plain": [
       "[[2, 3, 4, 5, 1], [4, 6, 1, 7, 2, 8], [9, 10, 3, 11, 12, 1]]"
      ]
     },
     "execution_count": 26,
     "metadata": {},
     "output_type": "execute_result"
    }
   ],
   "source": [
    "from tensorflow.keras.preprocessing.text import Tokenizer\n",
    "\n",
    "tokenizer = Tokenizer()\n",
    "tokenizer.fit_on_texts(textcorpus)\n",
    "tokenizer.texts_to_sequences(textcorpus)"
   ]
  },
  {
   "cell_type": "markdown",
   "metadata": {},
   "source": [
    "Below other useful attributes and methods, provided by the trained `Tokenizer`-class are demonstrated:"
   ]
  },
  {
   "cell_type": "code",
   "execution_count": 28,
   "metadata": {},
   "outputs": [
    {
     "name": "stdout",
     "output_type": "stream",
     "text": [
      "\n",
      "Term frequencies (How often do the individual terms occur in the corpus?):\n",
      "OrderedDict([('this', 2), ('is', 2), ('the', 2), ('first', 1), ('document', 3), ('second', 1), ('contains', 1), ('text', 1), ('and', 1), ('here', 1), ('a', 1), ('third', 1)])\n",
      "\n",
      "In how much documents do the individual terms occur? :\n",
      "defaultdict(<class 'int'>, {'the': 2, 'this': 2, 'is': 2, 'first': 1, 'document': 3, 'second': 1, 'contains': 1, 'text': 1, 'third': 1, 'here': 1, 'a': 1, 'and': 1})\n",
      "\n",
      "The word index:\n",
      "{'document': 1, 'this': 2, 'is': 3, 'the': 4, 'first': 5, 'second': 6, 'contains': 7, 'text': 8, 'and': 9, 'here': 10, 'a': 11, 'third': 12}\n",
      "\n",
      "How many documents are there?\n",
      "3\n",
      "\n",
      "BoW matrix:\n"
     ]
    },
    {
     "data": {
      "text/plain": [
       "array([[0., 1., 1., 1., 1., 1., 0., 0., 0., 0., 0., 0., 0.],\n",
       "       [0., 1., 1., 0., 1., 0., 1., 1., 1., 0., 0., 0., 0.],\n",
       "       [0., 1., 0., 1., 0., 0., 0., 0., 0., 1., 1., 1., 1.]])"
      ]
     },
     "execution_count": 28,
     "metadata": {},
     "output_type": "execute_result"
    }
   ],
   "source": [
    "# print the attributes for the text and encode the doucment\n",
    "print(\"\\nTerm frequencies (How often do the individual terms occur in the corpus?):\")\n",
    "print(tokenizer.word_counts)\n",
    "print(\"\\nIn how much documents do the individual terms occur? :\")\n",
    "print(tokenizer.word_docs)\n",
    "print(\"\\nThe word index:\")\n",
    "print(tokenizer.word_index)\n",
    "print(\"\\nHow many documents are there?\")\n",
    "print(tokenizer.document_count)\n",
    "print(\"\\nBoW matrix:\")\n",
    "encoded_text = tokenizer.texts_to_matrix(textcorpus)\n",
    "encoded_text"
   ]
  }
 ],
 "metadata": {
  "kernelspec": {
   "display_name": "Python 3",
   "language": "python",
   "name": "python3"
  },
  "language_info": {
   "codemirror_mode": {
    "name": "ipython",
    "version": 3
   },
   "file_extension": ".py",
   "mimetype": "text/x-python",
   "name": "python",
   "nbconvert_exporter": "python",
   "pygments_lexer": "ipython3",
   "version": "3.8.0"
  },
  "nav_menu": {},
  "toc": {
   "base_numbering": 1,
   "nav_menu": {},
   "number_sections": true,
   "sideBar": false,
   "skip_h1_title": false,
   "title_cell": "Table of Contents",
   "title_sidebar": "Contents",
   "toc_cell": false,
   "toc_position": {},
   "toc_section_display": false,
   "toc_window_display": false
  }
 },
 "nbformat": 4,
 "nbformat_minor": 4
}