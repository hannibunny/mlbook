{
 "cells": [
  {
   "cell_type": "markdown",
   "metadata": {},
   "source": [
    "# Graph Neural Networks (GNN)\n",
    "\n",
    "Graph based deep learning is currently one of the hottest topics in Machine Learning Research. In the NeurIPS 2020 conference GNNs constituted the most prominent topic, as can be seen in this [list of conference papers](https://github.com/naganandy/graph-based-deep-learning-literature/blob/master/conference-publications/folders/publications_neurips20/README.md). \n",
    "\n",
    "However, GNNs are not only subject of research. They have already found their way into a wide range of [applications](https://medium.com/criteo-engineering/top-applications-of-graph-neural-networks-2021-c06ec82bfc18).\n",
    "\n",
    "Graph Neural Networks are suitable for Machine Learning tasks on data with structural \n",
    "relation between the individual data-points. Examples are e.g. social and communication networks analysis, traffic prediction, fraud detection, etc. [Graph Representation Learning](https://www.cs.mcgill.ca/~wlh/grl_book/)\n",
    "aims to build and train models for graph datasets to be used for a variety of ML tasks.\n",
    "\n",
    "This lecture shall provide an understanding of the basic concepts of Graph Neural Networks and their application categories."
   ]
  },
  {
   "cell_type": "markdown",
   "metadata": {},
   "source": [
    "## Graph\n",
    "\n",
    "A graph consists of a set of nodes, which are partially connected by edges. **Nodes** can represent things of different categories such as persons, locations, companies, etc. Nodes may also represent things of the same categorie but different subcategories. **Edges** can be directed or undirected. They also may have weights, which somehow define the *strength* of the connection. Edges can also be of different type, e.g. \n",
    "* an edge between a node of type *person* and a node of type *paper* may have the meaning *isAuthorOf* \n",
    "* a directed edge between two nodes of type *paper* may mean that the paper of the source node refers to the paper of the target node. \n",
    "\n",
    "\n",
    "<figure align=\"center\">\n",
    "<img src=\"https://maucher.home.hdm-stuttgart.de/Pics/graph.png\" width=\"500px\" align=\"center\">\n",
    "<figcaption>\n",
    "Figure 1: Example graph with undirected edges (no arrows) and different node types (colours)\n",
    "</figcaption>\n",
    "</figure>"
   ]
  },
  {
   "cell_type": "markdown",
   "metadata": {},
   "source": [
    "## Graph Neural Networks\n",
    "\n",
    "In the context of GNNs each node is described by a set of features (a numeric vector). For example, if the nodes represent papers, then the descriptor vector of the nodes may be the Bag-of-Words vector (BoW) of the paper. \n",
    "\n",
    "<figure align=\"center\">\n",
    "<img src=\"https://maucher.home.hdm-stuttgart.de/Pics/graphNodeDescriptors.png\" width=\"550px\" align=\"center\">\n",
    "<figcaption>\n",
    "Figure 2: To each node a descriptor (numeric vector) is assigned.\n",
    "</figcaption>\n",
    "</figure>\n",
    "\n",
    "\n",
    "The BoW of a paper depends only on the words, which appear in the paper. Information about the neighbouring nodes is totally ignored. On the other hand, in some applications such information from neighbouring nodes may be helpful. For example, it may be easier to determine the subject of a paper, if not only the words in the paper itself are known, but also the contents of the papers in it's immediate neighbourhood. This is actually what GNNs provide: **GNNs calculate node representations (embeddings), which depend not only on the contents of the node itself, but also on the neighbouring nodes.** The definition of *neighbourhood* depends on the task and the context. For example the immediate neighbours of a scientific paper may be all papers, which are referenced in this paper.\n",
    "\n"
   ]
  },
  {
   "cell_type": "markdown",
   "metadata": {},
   "source": [
    "### Message Passing\n",
    "\n",
    "In a GNN the node representation $h_i^k$ of each node $i$ are adapted over many iteration (k indicates the iteration). At the very beginning to each node $i$ an initial vector $h_i^0$ is assigned, e.g. the BoW vector of a document. Then in each iteration $k>0$ these representations are updated by information from the neighbouring nodes. The image below sketches the update of node 0 in iteration $k$. Let $N(i)$ denote the set of direct neighbours of node $i$, then\n",
    "\n",
    "1. For each node $u$ in $N(i)$ pass the current descriptor $h_u^k$ to a Feed Forward Neural Network (for example a single fully connected layer). The output of this FFN is called the message $m_u^k$ from node $u$.\n",
    "\n",
    "2. All messages $m_u^k$ and the current node representation $h_i^{k}$ are **aggregated** by some function. The aggregation function can be a simple sum-, mean-, or max-operation.\n",
    "\n",
    "3. The new representation $h_i^{k+1}$ of node $i$ is calculated from the aggregated messages of the neighbours and the current representation $h_i^{k}$. This update can be implemented e.g. by an arbitrary neural layer type as e.g. a fully connected layer or a recurrent layer.   \n",
    "\n",
    "This process is performed, in parallel, on all nodes $i$ in the graph as node-embeddings in iteration $k+1$ depend on embeddings in iteration $k$. In this way in each iteration each node *grabs* more information from it's surrounding nodes. Finally this *better representations* can be applied for different tasks, such as node-classification, node-clustering, sub-graph-identification, sub-graph-clustering etc. Depending on the task, individual node embeddings of type $h_i^{k}$, or representations of sub-graphs or the entire graph may be required. A simple representation of a subgraph or graph can be obtained by just summing up the node-embeddings of all nodes in the graph or subgraph, respectively. \n",
    "\n",
    "\n",
    "\n",
    "<figure align=\"center\">\n",
    "<img src=\"https://maucher.home.hdm-stuttgart.de/Pics/graphMessagePassing.png\" width=\"800px\" align=\"center\">\n",
    "\n",
    "<figcaption>\n",
    "Figure 3: Calculation of new descriptor at node 0.\n",
    "</figcaption>\n",
    "</figure>"
   ]
  },
  {
   "cell_type": "markdown",
   "metadata": {},
   "source": [
    "### Graph Convolutional Network (GCN)\n",
    "\n",
    "Next, we will consider how the concept of message passing, as introduced in the previous subsection, is implemented in Graph Neural Networks (GNNs)? \n",
    "\n",
    "As explained in the previous subsections, in each iteration each node's descriptor vector is updated by the messages from the neighbouring nodes. In a Graph Convolutional Network (GCN) each iteration is implemented by a GCN-layer. I.e. the first update is calculated in the first GCN-layer, the second update is calculated in the second layer and so on. Thus the number of updates and therefore the range of the neighbourhood that is considered in the final node representation is given by the number of GCN layers. Such a stack of GCN-layers is depicted in the right hand side of Figure 4. In this Figure the abbreviation GNN is used for Graph Neural Net (GNN). GNN is more general as GCN, but here we always assume that the GNN is a GCN. The short-cut connections around the GNN layers are necessary, because the new representation of a node is the aggregation of the messages from the neighboring nodes and the old representation of this node.\n",
    "\n",
    "As depicted in the right hand side of Figure 4, the stack of GCN layers is preceeded by one or more preprocessing layers, which calculate the initial node descriptors. The initial node descriptors do not depend on the neighbouring codes. Moreover, the output of the GCN-layer stack is passed to one or more post-processing layers. These post-processing layers depend on the task. E.g. for the task of node-classification, the post-processing layers assign to each node descriptor at the output of the GCN-layer stack the category of the node. \n",
    "\n",
    "In Figure 3, it was assumed, that the message $m_u^k$ coming from node $u$ in iteration $k+1$ is the output of a dense layer (linear layer), whose input is the node descriptor $h_u^k$. In general, as depicted in the left hand-side of the image below, the dense layer can apply Batch-Normalization, Dropout and an arbitrary Activation function.   \n",
    "\n",
    "<figure align=\"center\">\n",
    "<img src=\"https://maucher.home.hdm-stuttgart.de/Pics/GNNDesign.png\" width=\"600px\" align=\"center\">\n",
    "<figcaption>\n",
    "Figure 4: Image Source: <a href=\"https://arxiv.org/abs/2011.08843\">Design Space for Graph Neural Networks</a> \n",
    "</figcaption>\n",
    "</figure>"
   ]
  },
  {
   "cell_type": "markdown",
   "metadata": {},
   "source": [
    "**Where does the name *Graph Convolutional Layer* come from?**\n",
    "\n",
    "For this take a look to the left hand side of Figure 5. In a *Convolutional Layer* at each position a new value is calculated as the scalar-product of the filter coefficients and the receptive field of the current position (neuron). Each position (neuron) can be considered as a node. And each node has an edge to all other nodes (positions), which belong to the local receptive field of the current position (neuron). Actually, at each position not only one value is calculated, but one value for each feature map. \n",
    "\n",
    "With this notion in mind, the difference of a graph convolution layer w.r.t. a convolution layer is that in a GCN each node can have an arbitrary number of neighbouring nodes, whereas in a convolution layer the number of neighbouring nodes is fixed and given by the size of the filter. \n",
    "\n",
    "<figure align=\"center\">\n",
    "<img src=\"https://maucher.home.hdm-stuttgart.de/Pics/gcnVScnn.png\" width=\"600px\" align=\"center\">\n",
    "<figcaption>\n",
    "    Figure 5: Image Source: <a href=\"https://arxiv.org/pdf/1901.00596.pdf\">Wu et al.: A Comprehensive Survey on Graph Neural Networks</a>\n",
    "</figcaption>\n",
    "</figure>\n",
    "\n",
    "### Graph Convolutional Network for Node Classification\n",
    "\n",
    "<figure align=\"center\">\n",
    "<img src=\"https://maucher.home.hdm-stuttgart.de/Pics/gcnNodeClassification.png\" width=\"600px\" align=\"center\">\n",
    "<figcaption>\n",
    "    Image Source: <a href=\"https://arxiv.org/pdf/1901.00596.pdf\">Wu et al.: A Comprehensive Survey on Graph Neural Networks</a>\n",
    "</figcaption>\n",
    "</figure>\n",
    "\n",
    "\n",
    "### Graph Convolutional Network for Graph Classification\n",
    "\n",
    "<figure align=\"center\">\n",
    "<img src=\"https://maucher.home.hdm-stuttgart.de/Pics/gcnGraphClassification.png\" width=\"600px\"align=\"center\">\n",
    "<figcaption>\n",
    "    Image Source: <a href=\"https://arxiv.org/pdf/1901.00596.pdf\">Wu et al.: A Comprehensive Survey on Graph Neural Networks</a>\n",
    "</figcaption>\n",
    "</figure>"
   ]
  },
  {
   "cell_type": "markdown",
   "metadata": {
    "id": "6MuXMnMg0yfv"
   },
   "source": [
    "<a id='intro'></a>\n",
    "# Introductory Example: Node Classification with Graph Neural Networks\n",
    "\n",
    "After learning the basic concepts of Graph Neural Networks, we continue with the implementation of Graph Convolution Networks (GCN). This part is an adaptation of the [Keras tutorial](https://keras.io/examples/graph/gnn_citations/). You don't have to implement the GCN layer and the GCN Network by yourself, but you should study this part carefully, such that you are able \n",
    "* to answer the questions at the end of this section \n",
    "* to implement the GCN network on the task of music genre prediction in the following section.\n"
   ]
  },
  {
   "cell_type": "markdown",
   "metadata": {
    "id": "6qpTxGcH0yfx"
   },
   "source": [
    "## Introduction\n",
    "\n",
    "This example demonstrates a simple implementation of a [Graph Neural Network](https://arxiv.org/pdf/1901.00596.pdf)\n",
    "(GNN) model. The model is used for a node prediction task on the [Cora dataset](https://relational.fit.cvut.cz/dataset/CORA)\n",
    "to predict the subject of a paper given its words and citations network.\n",
    "\n",
    "Note that, **we implement a Graph Convolution Layer from scratch** to provide a better\n",
    "understanding of how they work. However, there is a number of specialized TensorFlow-based\n",
    "libraries that provide rich GNN APIs, such as [Spectral](https://graphneural.network/),\n",
    "[StellarGraph](https://stellargraph.readthedocs.io/en/stable/README.html), and\n",
    "[GraphNets](https://github.com/deepmind/graph_nets)."
   ]
  },
  {
   "cell_type": "markdown",
   "metadata": {
    "id": "YP1etqbC0yfy"
   },
   "source": [
    "## Setup"
   ]
  },
  {
   "cell_type": "code",
   "execution_count": 48,
   "metadata": {
    "id": "L4dr9CHy0yfy"
   },
   "outputs": [],
   "source": [
    "import os\n",
    "import pandas as pd\n",
    "import numpy as np\n",
    "import networkx as nx\n",
    "import matplotlib.pyplot as plt\n",
    "import tensorflow as tf\n",
    "from tensorflow import keras\n",
    "from tensorflow.keras import layers"
   ]
  },
  {
   "cell_type": "code",
   "execution_count": 49,
   "metadata": {},
   "outputs": [],
   "source": [
    "np.set_printoptions(suppress=True)"
   ]
  },
  {
   "cell_type": "markdown",
   "metadata": {
    "id": "QjmH9FFR0yfz"
   },
   "source": [
    "## Prepare the Dataset\n",
    "\n",
    "The Cora dataset consists of 2,708 scientific papers classified into one of seven classes.\n",
    "The citation network consists of 5,429 links. Each paper has a binary word vector of size\n",
    "1,433, indicating the presence of a corresponding word.\n",
    "\n",
    "### Download the dataset\n",
    "\n",
    "The dataset has two tap-separated files: `cora.cites` and `cora.content`.\n",
    "\n",
    "1. The `cora.cites` includes the citation records with two columns:\n",
    "`cited_paper_id` (target) and `citing_paper_id` (source).\n",
    "2. The `cora.content` includes the paper content records with 1,435 columns:\n",
    "`paper_id`, `subject`, and 1,433 binary features."
   ]
  },
  {
   "cell_type": "markdown",
   "metadata": {},
   "source": [
    "First the Cora-dataset is downloaded and extracted:"
   ]
  },
  {
   "cell_type": "code",
   "execution_count": 50,
   "metadata": {
    "id": "9zrhW6sX0yfz"
   },
   "outputs": [],
   "source": [
    "zip_file = keras.utils.get_file(\n",
    "    fname=\"cora.tgz\",\n",
    "    origin=\"https://linqs-data.soe.ucsc.edu/public/lbc/cora.tgz\",\n",
    "    extract=True,\n",
    ")\n",
    "data_dir = os.path.join(os.path.dirname(zip_file), \"cora\")"
   ]
  },
  {
   "cell_type": "code",
   "execution_count": 51,
   "metadata": {},
   "outputs": [
    {
     "data": {
      "text/plain": [
       "'/Users/johannes/.keras/datasets/cora.tgz'"
      ]
     },
     "execution_count": 51,
     "metadata": {},
     "output_type": "execute_result"
    }
   ],
   "source": [
    "zip_file"
   ]
  },
  {
   "cell_type": "markdown",
   "metadata": {
    "id": "tByuiXwp0yf0"
   },
   "source": [
    "### Process and visualize the dataset\n",
    "\n",
    "Then we load the citations data into a Pandas DataFrame."
   ]
  },
  {
   "cell_type": "code",
   "execution_count": 52,
   "metadata": {
    "id": "RGD3qcBg0yf0"
   },
   "outputs": [
    {
     "name": "stdout",
     "output_type": "stream",
     "text": [
      "Citations shape: (5429, 2)\n"
     ]
    }
   ],
   "source": [
    "citations = pd.read_csv(\n",
    "    os.path.join(data_dir, \"cora.cites\"),\n",
    "    sep=\"\\t\",\n",
    "    header=None,\n",
    "    names=[\"target\", \"source\"],\n",
    ")\n",
    "print(\"Citations shape:\", citations.shape)"
   ]
  },
  {
   "cell_type": "markdown",
   "metadata": {
    "id": "Uzgi2u3R0yf0"
   },
   "source": [
    "Now we display a sample of the `citations` DataFrame.\n",
    "The `target` column includes the paper ids cited by the paper ids in the `source` column."
   ]
  },
  {
   "cell_type": "code",
   "execution_count": 53,
   "metadata": {
    "id": "MfpTbQ_40yf0"
   },
   "outputs": [
    {
     "data": {
      "text/html": [
       "<div>\n",
       "<style scoped>\n",
       "    .dataframe tbody tr th:only-of-type {\n",
       "        vertical-align: middle;\n",
       "    }\n",
       "\n",
       "    .dataframe tbody tr th {\n",
       "        vertical-align: top;\n",
       "    }\n",
       "\n",
       "    .dataframe thead th {\n",
       "        text-align: right;\n",
       "    }\n",
       "</style>\n",
       "<table border=\"1\" class=\"dataframe\">\n",
       "  <thead>\n",
       "    <tr style=\"text-align: right;\">\n",
       "      <th></th>\n",
       "      <th>target</th>\n",
       "      <th>source</th>\n",
       "    </tr>\n",
       "  </thead>\n",
       "  <tbody>\n",
       "    <tr>\n",
       "      <th>0</th>\n",
       "      <td>35</td>\n",
       "      <td>1033</td>\n",
       "    </tr>\n",
       "    <tr>\n",
       "      <th>1</th>\n",
       "      <td>35</td>\n",
       "      <td>103482</td>\n",
       "    </tr>\n",
       "    <tr>\n",
       "      <th>2</th>\n",
       "      <td>35</td>\n",
       "      <td>103515</td>\n",
       "    </tr>\n",
       "    <tr>\n",
       "      <th>3</th>\n",
       "      <td>35</td>\n",
       "      <td>1050679</td>\n",
       "    </tr>\n",
       "    <tr>\n",
       "      <th>4</th>\n",
       "      <td>35</td>\n",
       "      <td>1103960</td>\n",
       "    </tr>\n",
       "  </tbody>\n",
       "</table>\n",
       "</div>"
      ],
      "text/plain": [
       "   target   source\n",
       "0      35     1033\n",
       "1      35   103482\n",
       "2      35   103515\n",
       "3      35  1050679\n",
       "4      35  1103960"
      ]
     },
     "execution_count": 53,
     "metadata": {},
     "output_type": "execute_result"
    }
   ],
   "source": [
    "citations.head()"
   ]
  },
  {
   "cell_type": "markdown",
   "metadata": {},
   "source": [
    "As can be seen in the output of the next-code cell, there are some papers (e.g. paper 35), which are referenced by many others. Other papers are referenced only once or even not at all."
   ]
  },
  {
   "cell_type": "code",
   "execution_count": 54,
   "metadata": {},
   "outputs": [
    {
     "data": {
      "text/plain": [
       "35        166\n",
       "6213       76\n",
       "1365       74\n",
       "3229       61\n",
       "114        42\n",
       "         ... \n",
       "264347      1\n",
       "346243      1\n",
       "221302      1\n",
       "143476      1\n",
       "851968      1\n",
       "Name: target, Length: 1565, dtype: int64"
      ]
     },
     "execution_count": 54,
     "metadata": {},
     "output_type": "execute_result"
    }
   ],
   "source": [
    "citations.target.value_counts()"
   ]
  },
  {
   "cell_type": "markdown",
   "metadata": {
    "id": "0F1BLG6E0yf1"
   },
   "source": [
    "Now let's load the papers data into a Pandas DataFrame."
   ]
  },
  {
   "cell_type": "code",
   "execution_count": 55,
   "metadata": {
    "id": "rCxfIPNG0yf1"
   },
   "outputs": [
    {
     "name": "stdout",
     "output_type": "stream",
     "text": [
      "Papers shape: (2708, 1435)\n"
     ]
    }
   ],
   "source": [
    "column_names = [\"paper_id\"] + [f\"term_{idx}\" for idx in range(1433)] + [\"subject\"]\n",
    "papers = pd.read_csv(\n",
    "    os.path.join(data_dir, \"cora.content\"), sep=\"\\t\", header=None, names=column_names,\n",
    ")\n",
    "print(\"Papers shape:\", papers.shape)"
   ]
  },
  {
   "cell_type": "markdown",
   "metadata": {
    "id": "6UOZyaBC0yf1"
   },
   "source": [
    "Now we display a sample of the `papers` DataFrame. The DataFrame includes the `paper_id`\n",
    "and the `subject` columns, as well as 1,433 binary column representing whether a term exists\n",
    "in the paper or not."
   ]
  },
  {
   "cell_type": "code",
   "execution_count": 56,
   "metadata": {
    "id": "dnGjOk910yf1"
   },
   "outputs": [
    {
     "data": {
      "text/html": [
       "<div>\n",
       "<style scoped>\n",
       "    .dataframe tbody tr th:only-of-type {\n",
       "        vertical-align: middle;\n",
       "    }\n",
       "\n",
       "    .dataframe tbody tr th {\n",
       "        vertical-align: top;\n",
       "    }\n",
       "\n",
       "    .dataframe thead th {\n",
       "        text-align: right;\n",
       "    }\n",
       "</style>\n",
       "<table border=\"1\" class=\"dataframe\">\n",
       "  <thead>\n",
       "    <tr style=\"text-align: right;\">\n",
       "      <th></th>\n",
       "      <th>paper_id</th>\n",
       "      <th>term_0</th>\n",
       "      <th>term_1</th>\n",
       "      <th>term_2</th>\n",
       "      <th>term_3</th>\n",
       "      <th>term_4</th>\n",
       "      <th>term_5</th>\n",
       "      <th>term_6</th>\n",
       "      <th>term_7</th>\n",
       "      <th>term_8</th>\n",
       "      <th>...</th>\n",
       "      <th>term_1424</th>\n",
       "      <th>term_1425</th>\n",
       "      <th>term_1426</th>\n",
       "      <th>term_1427</th>\n",
       "      <th>term_1428</th>\n",
       "      <th>term_1429</th>\n",
       "      <th>term_1430</th>\n",
       "      <th>term_1431</th>\n",
       "      <th>term_1432</th>\n",
       "      <th>subject</th>\n",
       "    </tr>\n",
       "  </thead>\n",
       "  <tbody>\n",
       "    <tr>\n",
       "      <th>0</th>\n",
       "      <td>31336</td>\n",
       "      <td>0</td>\n",
       "      <td>0</td>\n",
       "      <td>0</td>\n",
       "      <td>0</td>\n",
       "      <td>0</td>\n",
       "      <td>0</td>\n",
       "      <td>0</td>\n",
       "      <td>0</td>\n",
       "      <td>0</td>\n",
       "      <td>...</td>\n",
       "      <td>0</td>\n",
       "      <td>0</td>\n",
       "      <td>1</td>\n",
       "      <td>0</td>\n",
       "      <td>0</td>\n",
       "      <td>0</td>\n",
       "      <td>0</td>\n",
       "      <td>0</td>\n",
       "      <td>0</td>\n",
       "      <td>Neural_Networks</td>\n",
       "    </tr>\n",
       "    <tr>\n",
       "      <th>1</th>\n",
       "      <td>1061127</td>\n",
       "      <td>0</td>\n",
       "      <td>0</td>\n",
       "      <td>0</td>\n",
       "      <td>0</td>\n",
       "      <td>0</td>\n",
       "      <td>0</td>\n",
       "      <td>0</td>\n",
       "      <td>0</td>\n",
       "      <td>0</td>\n",
       "      <td>...</td>\n",
       "      <td>0</td>\n",
       "      <td>1</td>\n",
       "      <td>0</td>\n",
       "      <td>0</td>\n",
       "      <td>0</td>\n",
       "      <td>0</td>\n",
       "      <td>0</td>\n",
       "      <td>0</td>\n",
       "      <td>0</td>\n",
       "      <td>Rule_Learning</td>\n",
       "    </tr>\n",
       "    <tr>\n",
       "      <th>2</th>\n",
       "      <td>1106406</td>\n",
       "      <td>0</td>\n",
       "      <td>0</td>\n",
       "      <td>0</td>\n",
       "      <td>0</td>\n",
       "      <td>0</td>\n",
       "      <td>0</td>\n",
       "      <td>0</td>\n",
       "      <td>0</td>\n",
       "      <td>0</td>\n",
       "      <td>...</td>\n",
       "      <td>0</td>\n",
       "      <td>0</td>\n",
       "      <td>0</td>\n",
       "      <td>0</td>\n",
       "      <td>0</td>\n",
       "      <td>0</td>\n",
       "      <td>0</td>\n",
       "      <td>0</td>\n",
       "      <td>0</td>\n",
       "      <td>Reinforcement_Learning</td>\n",
       "    </tr>\n",
       "    <tr>\n",
       "      <th>3</th>\n",
       "      <td>13195</td>\n",
       "      <td>0</td>\n",
       "      <td>0</td>\n",
       "      <td>0</td>\n",
       "      <td>0</td>\n",
       "      <td>0</td>\n",
       "      <td>0</td>\n",
       "      <td>0</td>\n",
       "      <td>0</td>\n",
       "      <td>0</td>\n",
       "      <td>...</td>\n",
       "      <td>0</td>\n",
       "      <td>0</td>\n",
       "      <td>0</td>\n",
       "      <td>0</td>\n",
       "      <td>0</td>\n",
       "      <td>0</td>\n",
       "      <td>0</td>\n",
       "      <td>0</td>\n",
       "      <td>0</td>\n",
       "      <td>Reinforcement_Learning</td>\n",
       "    </tr>\n",
       "    <tr>\n",
       "      <th>4</th>\n",
       "      <td>37879</td>\n",
       "      <td>0</td>\n",
       "      <td>0</td>\n",
       "      <td>0</td>\n",
       "      <td>0</td>\n",
       "      <td>0</td>\n",
       "      <td>0</td>\n",
       "      <td>0</td>\n",
       "      <td>0</td>\n",
       "      <td>0</td>\n",
       "      <td>...</td>\n",
       "      <td>0</td>\n",
       "      <td>0</td>\n",
       "      <td>0</td>\n",
       "      <td>0</td>\n",
       "      <td>0</td>\n",
       "      <td>0</td>\n",
       "      <td>0</td>\n",
       "      <td>0</td>\n",
       "      <td>0</td>\n",
       "      <td>Probabilistic_Methods</td>\n",
       "    </tr>\n",
       "  </tbody>\n",
       "</table>\n",
       "<p>5 rows × 1435 columns</p>\n",
       "</div>"
      ],
      "text/plain": [
       "   paper_id  term_0  term_1  term_2  term_3  term_4  term_5  term_6  term_7  \\\n",
       "0     31336       0       0       0       0       0       0       0       0   \n",
       "1   1061127       0       0       0       0       0       0       0       0   \n",
       "2   1106406       0       0       0       0       0       0       0       0   \n",
       "3     13195       0       0       0       0       0       0       0       0   \n",
       "4     37879       0       0       0       0       0       0       0       0   \n",
       "\n",
       "   term_8  ...  term_1424  term_1425  term_1426  term_1427  term_1428  \\\n",
       "0       0  ...          0          0          1          0          0   \n",
       "1       0  ...          0          1          0          0          0   \n",
       "2       0  ...          0          0          0          0          0   \n",
       "3       0  ...          0          0          0          0          0   \n",
       "4       0  ...          0          0          0          0          0   \n",
       "\n",
       "   term_1429  term_1430  term_1431  term_1432                 subject  \n",
       "0          0          0          0          0         Neural_Networks  \n",
       "1          0          0          0          0           Rule_Learning  \n",
       "2          0          0          0          0  Reinforcement_Learning  \n",
       "3          0          0          0          0  Reinforcement_Learning  \n",
       "4          0          0          0          0   Probabilistic_Methods  \n",
       "\n",
       "[5 rows x 1435 columns]"
      ]
     },
     "execution_count": 56,
     "metadata": {},
     "output_type": "execute_result"
    }
   ],
   "source": [
    "papers.head()"
   ]
  },
  {
   "cell_type": "markdown",
   "metadata": {
    "id": "cXabLm7S0yf2"
   },
   "source": [
    "Let's display the count of the papers in each subject."
   ]
  },
  {
   "cell_type": "code",
   "execution_count": 57,
   "metadata": {
    "id": "6p-xpn5v0yf2"
   },
   "outputs": [
    {
     "name": "stdout",
     "output_type": "stream",
     "text": [
      "Neural_Networks           818\n",
      "Probabilistic_Methods     426\n",
      "Genetic_Algorithms        418\n",
      "Theory                    351\n",
      "Case_Based                298\n",
      "Reinforcement_Learning    217\n",
      "Rule_Learning             180\n",
      "Name: subject, dtype: int64\n"
     ]
    }
   ],
   "source": [
    "print(papers.subject.value_counts())"
   ]
  },
  {
   "cell_type": "markdown",
   "metadata": {
    "id": "9M9MhA-c0yf2"
   },
   "source": [
    "We convert the paper ids and the subjects into zero-based indices."
   ]
  },
  {
   "cell_type": "code",
   "execution_count": 58,
   "metadata": {},
   "outputs": [],
   "source": [
    "class_values = sorted(papers[\"subject\"].unique())\n",
    "class_idx = {name: id for id, name in enumerate(class_values)}\n",
    "paper_idx = {name: idx for idx, name in enumerate(sorted(papers[\"paper_id\"].unique()))}"
   ]
  },
  {
   "cell_type": "code",
   "execution_count": 59,
   "metadata": {},
   "outputs": [],
   "source": [
    "papers[\"paper_id\"] = papers[\"paper_id\"].apply(lambda name: paper_idx[name])\n",
    "citations[\"source\"] = citations[\"source\"].apply(lambda name: paper_idx[name])\n",
    "citations[\"target\"] = citations[\"target\"].apply(lambda name: paper_idx[name])\n",
    "papers[\"subject\"] = papers[\"subject\"].apply(lambda value: class_idx[value])"
   ]
  },
  {
   "cell_type": "code",
   "execution_count": 60,
   "metadata": {
    "id": "62ORV2590yf3"
   },
   "outputs": [
    {
     "data": {
      "text/html": [
       "<div>\n",
       "<style scoped>\n",
       "    .dataframe tbody tr th:only-of-type {\n",
       "        vertical-align: middle;\n",
       "    }\n",
       "\n",
       "    .dataframe tbody tr th {\n",
       "        vertical-align: top;\n",
       "    }\n",
       "\n",
       "    .dataframe thead th {\n",
       "        text-align: right;\n",
       "    }\n",
       "</style>\n",
       "<table border=\"1\" class=\"dataframe\">\n",
       "  <thead>\n",
       "    <tr style=\"text-align: right;\">\n",
       "      <th></th>\n",
       "      <th>paper_id</th>\n",
       "      <th>term_0</th>\n",
       "      <th>term_1</th>\n",
       "      <th>term_2</th>\n",
       "      <th>term_3</th>\n",
       "      <th>term_4</th>\n",
       "      <th>term_5</th>\n",
       "      <th>term_6</th>\n",
       "      <th>term_7</th>\n",
       "      <th>term_8</th>\n",
       "      <th>...</th>\n",
       "      <th>term_1424</th>\n",
       "      <th>term_1425</th>\n",
       "      <th>term_1426</th>\n",
       "      <th>term_1427</th>\n",
       "      <th>term_1428</th>\n",
       "      <th>term_1429</th>\n",
       "      <th>term_1430</th>\n",
       "      <th>term_1431</th>\n",
       "      <th>term_1432</th>\n",
       "      <th>subject</th>\n",
       "    </tr>\n",
       "  </thead>\n",
       "  <tbody>\n",
       "    <tr>\n",
       "      <th>0</th>\n",
       "      <td>462</td>\n",
       "      <td>0</td>\n",
       "      <td>0</td>\n",
       "      <td>0</td>\n",
       "      <td>0</td>\n",
       "      <td>0</td>\n",
       "      <td>0</td>\n",
       "      <td>0</td>\n",
       "      <td>0</td>\n",
       "      <td>0</td>\n",
       "      <td>...</td>\n",
       "      <td>0</td>\n",
       "      <td>0</td>\n",
       "      <td>1</td>\n",
       "      <td>0</td>\n",
       "      <td>0</td>\n",
       "      <td>0</td>\n",
       "      <td>0</td>\n",
       "      <td>0</td>\n",
       "      <td>0</td>\n",
       "      <td>2</td>\n",
       "    </tr>\n",
       "    <tr>\n",
       "      <th>1</th>\n",
       "      <td>1911</td>\n",
       "      <td>0</td>\n",
       "      <td>0</td>\n",
       "      <td>0</td>\n",
       "      <td>0</td>\n",
       "      <td>0</td>\n",
       "      <td>0</td>\n",
       "      <td>0</td>\n",
       "      <td>0</td>\n",
       "      <td>0</td>\n",
       "      <td>...</td>\n",
       "      <td>0</td>\n",
       "      <td>1</td>\n",
       "      <td>0</td>\n",
       "      <td>0</td>\n",
       "      <td>0</td>\n",
       "      <td>0</td>\n",
       "      <td>0</td>\n",
       "      <td>0</td>\n",
       "      <td>0</td>\n",
       "      <td>5</td>\n",
       "    </tr>\n",
       "    <tr>\n",
       "      <th>2</th>\n",
       "      <td>2002</td>\n",
       "      <td>0</td>\n",
       "      <td>0</td>\n",
       "      <td>0</td>\n",
       "      <td>0</td>\n",
       "      <td>0</td>\n",
       "      <td>0</td>\n",
       "      <td>0</td>\n",
       "      <td>0</td>\n",
       "      <td>0</td>\n",
       "      <td>...</td>\n",
       "      <td>0</td>\n",
       "      <td>0</td>\n",
       "      <td>0</td>\n",
       "      <td>0</td>\n",
       "      <td>0</td>\n",
       "      <td>0</td>\n",
       "      <td>0</td>\n",
       "      <td>0</td>\n",
       "      <td>0</td>\n",
       "      <td>4</td>\n",
       "    </tr>\n",
       "    <tr>\n",
       "      <th>3</th>\n",
       "      <td>248</td>\n",
       "      <td>0</td>\n",
       "      <td>0</td>\n",
       "      <td>0</td>\n",
       "      <td>0</td>\n",
       "      <td>0</td>\n",
       "      <td>0</td>\n",
       "      <td>0</td>\n",
       "      <td>0</td>\n",
       "      <td>0</td>\n",
       "      <td>...</td>\n",
       "      <td>0</td>\n",
       "      <td>0</td>\n",
       "      <td>0</td>\n",
       "      <td>0</td>\n",
       "      <td>0</td>\n",
       "      <td>0</td>\n",
       "      <td>0</td>\n",
       "      <td>0</td>\n",
       "      <td>0</td>\n",
       "      <td>4</td>\n",
       "    </tr>\n",
       "    <tr>\n",
       "      <th>4</th>\n",
       "      <td>519</td>\n",
       "      <td>0</td>\n",
       "      <td>0</td>\n",
       "      <td>0</td>\n",
       "      <td>0</td>\n",
       "      <td>0</td>\n",
       "      <td>0</td>\n",
       "      <td>0</td>\n",
       "      <td>0</td>\n",
       "      <td>0</td>\n",
       "      <td>...</td>\n",
       "      <td>0</td>\n",
       "      <td>0</td>\n",
       "      <td>0</td>\n",
       "      <td>0</td>\n",
       "      <td>0</td>\n",
       "      <td>0</td>\n",
       "      <td>0</td>\n",
       "      <td>0</td>\n",
       "      <td>0</td>\n",
       "      <td>3</td>\n",
       "    </tr>\n",
       "  </tbody>\n",
       "</table>\n",
       "<p>5 rows × 1435 columns</p>\n",
       "</div>"
      ],
      "text/plain": [
       "   paper_id  term_0  term_1  term_2  term_3  term_4  term_5  term_6  term_7  \\\n",
       "0       462       0       0       0       0       0       0       0       0   \n",
       "1      1911       0       0       0       0       0       0       0       0   \n",
       "2      2002       0       0       0       0       0       0       0       0   \n",
       "3       248       0       0       0       0       0       0       0       0   \n",
       "4       519       0       0       0       0       0       0       0       0   \n",
       "\n",
       "   term_8  ...  term_1424  term_1425  term_1426  term_1427  term_1428  \\\n",
       "0       0  ...          0          0          1          0          0   \n",
       "1       0  ...          0          1          0          0          0   \n",
       "2       0  ...          0          0          0          0          0   \n",
       "3       0  ...          0          0          0          0          0   \n",
       "4       0  ...          0          0          0          0          0   \n",
       "\n",
       "   term_1429  term_1430  term_1431  term_1432  subject  \n",
       "0          0          0          0          0        2  \n",
       "1          0          0          0          0        5  \n",
       "2          0          0          0          0        4  \n",
       "3          0          0          0          0        4  \n",
       "4          0          0          0          0        3  \n",
       "\n",
       "[5 rows x 1435 columns]"
      ]
     },
     "execution_count": 60,
     "metadata": {},
     "output_type": "execute_result"
    }
   ],
   "source": [
    "papers.head()"
   ]
  },
  {
   "cell_type": "code",
   "execution_count": 61,
   "metadata": {},
   "outputs": [
    {
     "data": {
      "text/plain": [
       "(2708, 1435)"
      ]
     },
     "execution_count": 61,
     "metadata": {},
     "output_type": "execute_result"
    }
   ],
   "source": [
    "papers.shape"
   ]
  },
  {
   "cell_type": "code",
   "execution_count": 62,
   "metadata": {},
   "outputs": [
    {
     "data": {
      "text/html": [
       "<div>\n",
       "<style scoped>\n",
       "    .dataframe tbody tr th:only-of-type {\n",
       "        vertical-align: middle;\n",
       "    }\n",
       "\n",
       "    .dataframe tbody tr th {\n",
       "        vertical-align: top;\n",
       "    }\n",
       "\n",
       "    .dataframe thead th {\n",
       "        text-align: right;\n",
       "    }\n",
       "</style>\n",
       "<table border=\"1\" class=\"dataframe\">\n",
       "  <thead>\n",
       "    <tr style=\"text-align: right;\">\n",
       "      <th></th>\n",
       "      <th>target</th>\n",
       "      <th>source</th>\n",
       "    </tr>\n",
       "  </thead>\n",
       "  <tbody>\n",
       "    <tr>\n",
       "      <th>0</th>\n",
       "      <td>0</td>\n",
       "      <td>21</td>\n",
       "    </tr>\n",
       "    <tr>\n",
       "      <th>1</th>\n",
       "      <td>0</td>\n",
       "      <td>905</td>\n",
       "    </tr>\n",
       "    <tr>\n",
       "      <th>2</th>\n",
       "      <td>0</td>\n",
       "      <td>906</td>\n",
       "    </tr>\n",
       "    <tr>\n",
       "      <th>3</th>\n",
       "      <td>0</td>\n",
       "      <td>1909</td>\n",
       "    </tr>\n",
       "    <tr>\n",
       "      <th>4</th>\n",
       "      <td>0</td>\n",
       "      <td>1940</td>\n",
       "    </tr>\n",
       "  </tbody>\n",
       "</table>\n",
       "</div>"
      ],
      "text/plain": [
       "   target  source\n",
       "0       0      21\n",
       "1       0     905\n",
       "2       0     906\n",
       "3       0    1909\n",
       "4       0    1940"
      ]
     },
     "execution_count": 62,
     "metadata": {},
     "output_type": "execute_result"
    }
   ],
   "source": [
    "citations.head()"
   ]
  },
  {
   "cell_type": "markdown",
   "metadata": {
    "id": "ooZFcY-N0yf3"
   },
   "source": [
    "Now let's visualize the citation graph. Each node in the graph represents a paper,\n",
    "and the color of the node corresponds to its subject. Note that we only show a sample of\n",
    "the papers in the dataset."
   ]
  },
  {
   "cell_type": "code",
   "execution_count": 63,
   "metadata": {
    "id": "5lKC1Ywi0yf3"
   },
   "outputs": [
    {
     "data": {
      "image/png": "[encoded data removed]",
      "text/plain": [
       "<Figure size 720x720 with 1 Axes>"
      ]
     },
     "metadata": {},
     "output_type": "display_data"
    }
   ],
   "source": [
    "plt.figure(figsize=(10, 10))\n",
    "colors = papers[\"subject\"].tolist()\n",
    "cora_graph = nx.from_pandas_edgelist(citations.sample(n=1500))\n",
    "subjects = list(papers[papers[\"paper_id\"].isin(list(cora_graph.nodes))][\"subject\"])\n",
    "nx.draw_spring(cora_graph, node_size=15, node_color=subjects)\n"
   ]
  },
  {
   "cell_type": "markdown",
   "metadata": {
    "id": "M1g8xYkL0yf3"
   },
   "source": [
    "### Split the dataset into stratified train and test sets"
   ]
  },
  {
   "cell_type": "code",
   "execution_count": 64,
   "metadata": {
    "id": "kWLD-sQO0yf4"
   },
   "outputs": [
    {
     "name": "stdout",
     "output_type": "stream",
     "text": [
      "Train data shape: (1322, 1435)\n",
      "Test data shape: (1386, 1435)\n"
     ]
    }
   ],
   "source": [
    "train_data, test_data = [], []\n",
    "\n",
    "for _, group_data in papers.groupby(\"subject\"):\n",
    "    # Select around 85% of the dataset for training and validation, and 15% for test\n",
    "    random_selection = np.random.rand(len(group_data.index)) <= 0.5\n",
    "    train_data.append(group_data[random_selection])\n",
    "    test_data.append(group_data[~random_selection])\n",
    "\n",
    "train_data = pd.concat(train_data).sample(frac=1)\n",
    "test_data = pd.concat(test_data).sample(frac=1)\n",
    "\n",
    "print(\"Train data shape:\", train_data.shape)\n",
    "print(\"Test data shape:\", test_data.shape)"
   ]
  },
  {
   "cell_type": "markdown",
   "metadata": {
    "id": "TUGIkD230yf4"
   },
   "source": [
    "## Implement, Train and Evaluate Experiment"
   ]
  },
  {
   "cell_type": "code",
   "execution_count": 65,
   "metadata": {
    "id": "4s4iJXa00yf4"
   },
   "outputs": [],
   "source": [
    "hidden_units = [32, 32]\n",
    "learning_rate = 0.01\n",
    "dropout_rate = 0.5\n",
    "num_epochs = 300\n",
    "batch_size = 256"
   ]
  },
  {
   "cell_type": "markdown",
   "metadata": {
    "id": "3rbfz0bn0yf4"
   },
   "source": [
    "This function compiles and trains an input model using the given training data."
   ]
  },
  {
   "cell_type": "code",
   "execution_count": 66,
   "metadata": {
    "id": "ixaVA7Mu0yf4"
   },
   "outputs": [],
   "source": [
    "\n",
    "def run_experiment(model, x_train, y_train):\n",
    "    # Compile the model.\n",
    "    model.compile(\n",
    "        optimizer=keras.optimizers.Adam(learning_rate),\n",
    "        loss=keras.losses.SparseCategoricalCrossentropy(from_logits=True),\n",
    "        metrics=[keras.metrics.SparseCategoricalAccuracy(name=\"acc\")],\n",
    "    )\n",
    "    # Create an early stopping callback.\n",
    "    early_stopping = keras.callbacks.EarlyStopping(\n",
    "        monitor=\"val_acc\", patience=50, restore_best_weights=True\n",
    "    )\n",
    "    # Fit the model.\n",
    "    history = model.fit(\n",
    "        x=x_train,\n",
    "        y=y_train,\n",
    "        epochs=num_epochs,\n",
    "        batch_size=batch_size,\n",
    "        validation_split=0.3,\n",
    "        callbacks=[early_stopping],\n",
    "        verbose=False,\n",
    "    )\n",
    "\n",
    "    return history\n"
   ]
  },
  {
   "cell_type": "markdown",
   "metadata": {
    "id": "zoJqeMFB0yf5"
   },
   "source": [
    "This function displays the loss and accuracy curves of the model during training."
   ]
  },
  {
   "cell_type": "code",
   "execution_count": 67,
   "metadata": {
    "id": "RQy0X3ly0yf5"
   },
   "outputs": [],
   "source": [
    "\n",
    "def display_learning_curves(history):\n",
    "    fig, (ax1, ax2) = plt.subplots(1, 2, figsize=(15, 5))\n",
    "\n",
    "    ax1.plot(history.history[\"loss\"])\n",
    "    ax1.plot(history.history[\"val_loss\"])\n",
    "    ax1.legend([\"train\", \"test\"], loc=\"upper right\")\n",
    "    ax1.set_xlabel(\"Epochs\")\n",
    "    ax1.set_ylabel(\"Loss\")\n",
    "\n",
    "    ax2.plot(history.history[\"acc\"])\n",
    "    ax2.plot(history.history[\"val_acc\"])\n",
    "    ax2.legend([\"train\", \"test\"], loc=\"upper right\")\n",
    "    ax2.set_xlabel(\"Epochs\")\n",
    "    ax2.set_ylabel(\"Accuracy\")\n",
    "    plt.show()\n"
   ]
  },
  {
   "cell_type": "markdown",
   "metadata": {
    "id": "ylEdGz9w0yf5"
   },
   "source": [
    "## Implement Feedforward Network (FFN) Module\n",
    "\n",
    "We will use this module in the baseline and the GNN models."
   ]
  },
  {
   "cell_type": "code",
   "execution_count": 68,
   "metadata": {
    "id": "SkrX6Dm10yf6"
   },
   "outputs": [],
   "source": [
    "\n",
    "def create_ffn(hidden_units, dropout_rate, name=None):\n",
    "    fnn_layers = []\n",
    "\n",
    "    for units in hidden_units:\n",
    "        fnn_layers.append(layers.BatchNormalization())\n",
    "        fnn_layers.append(layers.Dropout(dropout_rate))\n",
    "        fnn_layers.append(layers.Dense(units, activation=tf.nn.gelu))\n",
    "\n",
    "    return keras.Sequential(fnn_layers, name=name)\n"
   ]
  },
  {
   "cell_type": "markdown",
   "metadata": {
    "id": "mQMvIJev0yf6"
   },
   "source": [
    "## Build a Baseline Neural Network Model\n",
    "\n",
    "### Prepare the data for the baseline model"
   ]
  },
  {
   "cell_type": "code",
   "execution_count": 69,
   "metadata": {
    "id": "cMMxckAC0yf6"
   },
   "outputs": [],
   "source": [
    "feature_names = set(papers.columns) - {\"paper_id\", \"subject\"}\n",
    "num_features = len(feature_names)\n",
    "num_classes = len(class_idx)\n",
    "\n",
    "# Create train and test features as a numpy array.\n",
    "x_train = train_data[feature_names].to_numpy()\n",
    "x_test = test_data[feature_names].to_numpy()\n",
    "# Create train and test targets as a numpy array.\n",
    "y_train = train_data[\"subject\"]\n",
    "y_test = test_data[\"subject\"]"
   ]
  },
  {
   "cell_type": "code",
   "execution_count": 70,
   "metadata": {},
   "outputs": [
    {
     "data": {
      "text/plain": [
       "7"
      ]
     },
     "execution_count": 70,
     "metadata": {},
     "output_type": "execute_result"
    }
   ],
   "source": [
    "num_classes"
   ]
  },
  {
   "cell_type": "markdown",
   "metadata": {
    "id": "riiSX3vH0yf7"
   },
   "source": [
    "### Implement a baseline classifier\n",
    "\n",
    "We add five FFN blocks with skip connections, so that we generate a baseline model with\n",
    "roughly the same number of parameters as the GNN models to be built later."
   ]
  },
  {
   "cell_type": "code",
   "execution_count": 71,
   "metadata": {
    "id": "AHg3XepD0yf8"
   },
   "outputs": [],
   "source": [
    "def create_baseline_model(hidden_units, num_classes, dropout_rate=0.2):\n",
    "    inputs = layers.Input(shape=(num_features,), name=\"input_features\")\n",
    "    x = create_ffn(hidden_units, dropout_rate, name=f\"ffn_block1\")(inputs)\n",
    "    for block_idx in range(4):\n",
    "        # Create an FFN block.\n",
    "        x1 = create_ffn(hidden_units, dropout_rate, name=f\"ffn_block{block_idx + 2}\")(x)\n",
    "        # Add skip connection.\n",
    "        x = layers.Add(name=f\"skip_connection{block_idx + 2}\")([x, x1])\n",
    "    # Compute logits.\n",
    "    logits = layers.Dense(num_classes, name=\"logits\")(x)\n",
    "    # Create the model.\n",
    "    return keras.Model(inputs=inputs, outputs=logits, name=\"baseline\")"
   ]
  },
  {
   "cell_type": "code",
   "execution_count": 72,
   "metadata": {
    "id": "AHg3XepD0yf8"
   },
   "outputs": [
    {
     "name": "stdout",
     "output_type": "stream",
     "text": [
      "Model: \"baseline\"\n",
      "__________________________________________________________________________________________________\n",
      "Layer (type)                    Output Shape         Param #     Connected to                     \n",
      "==================================================================================================\n",
      "input_features (InputLayer)     [(None, 1433)]       0                                            \n",
      "__________________________________________________________________________________________________\n",
      "ffn_block1 (Sequential)         (None, 32)           52804       input_features[0][0]             \n",
      "__________________________________________________________________________________________________\n",
      "ffn_block2 (Sequential)         (None, 32)           2368        ffn_block1[0][0]                 \n",
      "__________________________________________________________________________________________________\n",
      "skip_connection2 (Add)          (None, 32)           0           ffn_block1[0][0]                 \n",
      "                                                                 ffn_block2[0][0]                 \n",
      "__________________________________________________________________________________________________\n",
      "ffn_block3 (Sequential)         (None, 32)           2368        skip_connection2[0][0]           \n",
      "__________________________________________________________________________________________________\n",
      "skip_connection3 (Add)          (None, 32)           0           skip_connection2[0][0]           \n",
      "                                                                 ffn_block3[0][0]                 \n",
      "__________________________________________________________________________________________________\n",
      "ffn_block4 (Sequential)         (None, 32)           2368        skip_connection3[0][0]           \n",
      "__________________________________________________________________________________________________\n",
      "skip_connection4 (Add)          (None, 32)           0           skip_connection3[0][0]           \n",
      "                                                                 ffn_block4[0][0]                 \n",
      "__________________________________________________________________________________________________\n",
      "ffn_block5 (Sequential)         (None, 32)           2368        skip_connection4[0][0]           \n",
      "__________________________________________________________________________________________________\n",
      "skip_connection5 (Add)          (None, 32)           0           skip_connection4[0][0]           \n",
      "                                                                 ffn_block5[0][0]                 \n",
      "__________________________________________________________________________________________________\n",
      "logits (Dense)                  (None, 7)            231         skip_connection5[0][0]           \n",
      "==================================================================================================\n",
      "Total params: 62,507\n",
      "Trainable params: 59,065\n",
      "Non-trainable params: 3,442\n",
      "__________________________________________________________________________________________________\n"
     ]
    }
   ],
   "source": [
    "baseline_model = create_baseline_model(hidden_units, num_classes, dropout_rate)\n",
    "baseline_model.summary()"
   ]
  },
  {
   "cell_type": "markdown",
   "metadata": {
    "id": "vVsT3I090yf9"
   },
   "source": [
    "### Train the baseline classifier"
   ]
  },
  {
   "cell_type": "code",
   "execution_count": 73,
   "metadata": {
    "id": "QZ9k455Y0yf9",
    "scrolled": true
   },
   "outputs": [],
   "source": [
    "history = run_experiment(baseline_model, x_train, y_train)"
   ]
  },
  {
   "cell_type": "markdown",
   "metadata": {
    "id": "bFiBCw2U0yf-"
   },
   "source": [
    "Let's plot the learning curves."
   ]
  },
  {
   "cell_type": "code",
   "execution_count": 74,
   "metadata": {
    "id": "ZqcW6-ZJ0yf-"
   },
   "outputs": [
    {
     "data": {
      "image/png": "[encoded data removed]",
      "text/plain": [
       "<Figure size 1080x360 with 2 Axes>"
      ]
     },
     "metadata": {
      "needs_background": "light"
     },
     "output_type": "display_data"
    }
   ],
   "source": [
    "display_learning_curves(history)"
   ]
  },
  {
   "cell_type": "markdown",
   "metadata": {
    "id": "MjMKyESL0yf-"
   },
   "source": [
    "Now we evaluate the baseline model on the test data split."
   ]
  },
  {
   "cell_type": "code",
   "execution_count": 75,
   "metadata": {
    "id": "aMPzg7XH0yf-"
   },
   "outputs": [
    {
     "name": "stdout",
     "output_type": "stream",
     "text": [
      "Test accuracy: 73.67%\n"
     ]
    }
   ],
   "source": [
    "_, test_accuracy = baseline_model.evaluate(x=x_test, y=y_test, verbose=0)\n",
    "print(f\"Test accuracy: {round(test_accuracy * 100, 2)}%\")"
   ]
  },
  {
   "cell_type": "markdown",
   "metadata": {
    "id": "Aa5IDV7Z0yf-"
   },
   "source": [
    "### Examine the baseline model predictions\n",
    "\n",
    "Let's create new data instances by randomly generating binary word vectors with respect to\n",
    "the word presence probabilities."
   ]
  },
  {
   "cell_type": "code",
   "execution_count": 76,
   "metadata": {
    "id": "nnO2pLOR0yf_"
   },
   "outputs": [],
   "source": [
    "\n",
    "def generate_random_instances(num_instances):\n",
    "    token_probability = x_train.mean(axis=0)\n",
    "    instances = []\n",
    "    for _ in range(num_instances):\n",
    "        probabilities = np.random.uniform(size=len(token_probability))\n",
    "        instance = (probabilities <= token_probability).astype(int)\n",
    "        instances.append(instance)\n",
    "\n",
    "    return np.array(instances)\n",
    "\n",
    "\n",
    "def display_class_probabilities(probabilities):\n",
    "    for instance_idx, probs in enumerate(probabilities):\n",
    "        print(f\"Instance {instance_idx + 1}:\")\n",
    "        for class_idx, prob in enumerate(probs):\n",
    "            print(f\"- {class_values[class_idx]}: {round(prob * 100, 2)}%\")\n"
   ]
  },
  {
   "cell_type": "markdown",
   "metadata": {
    "id": "HlYCNm4q0yf_"
   },
   "source": [
    "Now we show the baseline model predictions given these randomly generated instances."
   ]
  },
  {
   "cell_type": "code",
   "execution_count": 77,
   "metadata": {
    "id": "zxtfSMdj0yf_"
   },
   "outputs": [
    {
     "name": "stdout",
     "output_type": "stream",
     "text": [
      "Instance 1:\n",
      "- Case_Based: 0.63%\n",
      "- Genetic_Algorithms: 0.08%\n",
      "- Neural_Networks: 90.82%\n",
      "- Probabilistic_Methods: 0.29%\n",
      "- Reinforcement_Learning: 0.03%\n",
      "- Rule_Learning: 0.16%\n",
      "- Theory: 8.0%\n",
      "Instance 2:\n",
      "- Case_Based: 2.74%\n",
      "- Genetic_Algorithms: 0.34%\n",
      "- Neural_Networks: 12.24%\n",
      "- Probabilistic_Methods: 82.45%\n",
      "- Reinforcement_Learning: 0.95%\n",
      "- Rule_Learning: 0.07%\n",
      "- Theory: 1.2%\n",
      "Instance 3:\n",
      "- Case_Based: 0.61%\n",
      "- Genetic_Algorithms: 85.31%\n",
      "- Neural_Networks: 6.04%\n",
      "- Probabilistic_Methods: 4.73%\n",
      "- Reinforcement_Learning: 2.79%\n",
      "- Rule_Learning: 0.07%\n",
      "- Theory: 0.45%\n",
      "Instance 4:\n",
      "- Case_Based: 0.47%\n",
      "- Genetic_Algorithms: 0.38%\n",
      "- Neural_Networks: 94.28%\n",
      "- Probabilistic_Methods: 1.96%\n",
      "- Reinforcement_Learning: 0.05%\n",
      "- Rule_Learning: 0.05%\n",
      "- Theory: 2.81%\n",
      "Instance 5:\n",
      "- Case_Based: 73.4%\n",
      "- Genetic_Algorithms: 8.19%\n",
      "- Neural_Networks: 2.07%\n",
      "- Probabilistic_Methods: 7.09%\n",
      "- Reinforcement_Learning: 6.03%\n",
      "- Rule_Learning: 1.02%\n",
      "- Theory: 2.2%\n",
      "Instance 6:\n",
      "- Case_Based: 4.23%\n",
      "- Genetic_Algorithms: 5.48%\n",
      "- Neural_Networks: 30.19%\n",
      "- Probabilistic_Methods: 46.4%\n",
      "- Reinforcement_Learning: 1.51%\n",
      "- Rule_Learning: 0.51%\n",
      "- Theory: 11.7%\n",
      "Instance 7:\n",
      "- Case_Based: 0.07%\n",
      "- Genetic_Algorithms: 0.05%\n",
      "- Neural_Networks: 0.34%\n",
      "- Probabilistic_Methods: 0.02%\n",
      "- Reinforcement_Learning: 99.32%\n",
      "- Rule_Learning: 0.05%\n",
      "- Theory: 0.15%\n"
     ]
    }
   ],
   "source": [
    "new_instances = generate_random_instances(num_classes)\n",
    "logits = baseline_model.predict(new_instances)\n",
    "probabilities = keras.activations.softmax(tf.convert_to_tensor(logits)).numpy()\n",
    "display_class_probabilities(probabilities)"
   ]
  },
  {
   "cell_type": "markdown",
   "metadata": {
    "id": "hRkkdAAV0ygA"
   },
   "source": [
    "## Build a Graph Neural Network Model\n",
    "\n",
    "<a id='graphinfo'></a>\n",
    "### Prepare the data for the graph model\n",
    "\n",
    "Preparing and loading the graphs data into the model for training is the most challenging\n",
    "part in GNN models, which is addressed in different ways by the specialised libraries.\n",
    "In this example, we show a simple approach for preparing and using graph data that is suitable\n",
    "if your dataset consists of a single graph that fits entirely in memory.\n",
    "\n",
    "The graph data is represented by the `graph_info` tuple, which consists of the following\n",
    "three elements:\n",
    "\n",
    "1. `node_features`: This is a `[num_nodes, num_features]` NumPy array that includes the\n",
    "node features. In this dataset, the nodes are the papers, and the `node_features` are the\n",
    "word-presence binary vectors of each paper.\n",
    "2. `edges`:  This is a `[2, num_edges]` NumPy array. The first column contains the id of the source-node and the second column contains the id of the target node of an edge. However, in this application we do not consider directed edges, i.e. it does matter which of the two nodes is the target and the source, respectively.\n",
    "3. `edge_weights` (optional): This is a `[num_edges]` NumPy array that includes the edge weights, which *quantify*\n",
    "the relationships between nodes in the graph. In this example, there are no weights for the paper citations."
   ]
  },
  {
   "cell_type": "code",
   "execution_count": 78,
   "metadata": {
    "id": "3VTqqCj70ygA"
   },
   "outputs": [
    {
     "name": "stdout",
     "output_type": "stream",
     "text": [
      "Edges shape: (2, 5429)\n",
      "Edge-Weight shape: (5429,)\n",
      "Nodes shape: (2708, 1433)\n"
     ]
    }
   ],
   "source": [
    "# Create an edges array (sparse adjacency matrix) of shape [2, num_edges].\n",
    "edges = citations[[\"source\", \"target\"]].values.T\n",
    "# Create an edge weights array of ones.\n",
    "edge_weights = tf.ones(shape=edges.shape[1])\n",
    "# Create a node features array of shape [num_nodes, num_features].\n",
    "node_features = tf.cast(\n",
    "    papers.sort_values(\"paper_id\")[feature_names].values, dtype=tf.dtypes.float32\n",
    ")\n",
    "# Create graph info tuple with node_features, edges, and edge_weights.\n",
    "graph_info = (node_features, edges, edge_weights)\n",
    "\n",
    "print(\"Edges shape:\", edges.shape)\n",
    "print(\"Edge-Weight shape:\", edge_weights.shape)\n",
    "print(\"Nodes shape:\", node_features.shape)"
   ]
  },
  {
   "cell_type": "code",
   "execution_count": 79,
   "metadata": {},
   "outputs": [
    {
     "data": {
      "text/plain": [
       "array([[  21,  905,  906, ..., 2586, 1874, 2707],\n",
       "       [   0,    0,    0, ..., 1874, 1876, 1897]])"
      ]
     },
     "execution_count": 79,
     "metadata": {},
     "output_type": "execute_result"
    }
   ],
   "source": [
    "edges"
   ]
  },
  {
   "cell_type": "code",
   "execution_count": 80,
   "metadata": {},
   "outputs": [
    {
     "data": {
      "text/plain": [
       "<tf.Tensor: shape=(5429,), dtype=float32, numpy=array([1., 1., 1., ..., 1., 1., 1.], dtype=float32)>"
      ]
     },
     "execution_count": 80,
     "metadata": {},
     "output_type": "execute_result"
    }
   ],
   "source": [
    "edge_weights"
   ]
  },
  {
   "cell_type": "markdown",
   "metadata": {
    "id": "wreaVpPa0ygA"
   },
   "source": [
    "### Implement a graph convolution layer\n",
    "\n",
    "We implement a graph convolution module as a [Keras Layer](https://www.tensorflow.org/api_docs/python/tf/keras/layers/Layer?version=nightly).\n",
    "Our `GraphConvLayer` performs the following steps:\n",
    "\n",
    "1. **Prepare**: The input node representations are processed using a FFN to produce a *message*. You can simplify\n",
    "the processing by only applying linear transformation to the representations.\n",
    "2. **Aggregate**: The messages of the neighbours of each node are aggregated with\n",
    "respect to the `edge_weights` using a *permutation invariant* pooling operation, such as *sum*, *mean*, and *max*,\n",
    "to prepare a single aggregated message for each node. See, for example, [tf.math.unsorted_segment_sum](https://www.tensorflow.org/api_docs/python/tf/math/unsorted_segment_sum)\n",
    "APIs used to aggregate neighbour messages.\n",
    "3. **Update**: The `node_repesentations` and `aggregated_messages`—both of shape `[num_nodes, representation_dim]`—\n",
    "are combined and processed to produce the new state of the node representations (node embeddings).\n",
    "If `combination_type` is `gru`, the `node_repesentations` and `aggregated_messages` are stacked to create a sequence,\n",
    "then processed by a GRU layer. Otherwise, the `node_repesentations` and `aggregated_messages` are added\n",
    "or concatenated, then processed using a FFN.\n",
    "\n",
    "\n",
    "The technique implemented use ideas from [Graph Convolutional Networks](https://arxiv.org/abs/1609.02907),\n",
    "[GraphSage](https://arxiv.org/abs/1706.02216), [Graph Isomorphism Network](https://arxiv.org/abs/1810.00826),\n",
    "[Simple Graph Networks](https://arxiv.org/abs/1902.07153), and\n",
    "[Gated Graph Sequence Neural Networks](https://arxiv.org/abs/1511.05493).\n",
    "Two other key techniques that are not covered are [Graph Attention Networks](https://arxiv.org/abs/1710.10903)\n",
    "and [Message Passing Neural Networks](https://arxiv.org/abs/1704.01212)."
   ]
  },
  {
   "cell_type": "code",
   "execution_count": 81,
   "metadata": {
    "id": "JJWuQdkq0ygA"
   },
   "outputs": [],
   "source": [
    "\n",
    "class GraphConvLayer(layers.Layer):\n",
    "    def __init__(\n",
    "        self,\n",
    "        hidden_units,\n",
    "        dropout_rate=0.2,\n",
    "        aggregation_type=\"mean\",\n",
    "        combination_type=\"concat\",\n",
    "        normalize=False,\n",
    "        *args,\n",
    "        **kwargs,\n",
    "    ):\n",
    "        super(GraphConvLayer, self).__init__(*args, **kwargs)\n",
    "\n",
    "        self.aggregation_type = aggregation_type\n",
    "        self.combination_type = combination_type\n",
    "        self.normalize = normalize\n",
    "\n",
    "        self.ffn_prepare = create_ffn(hidden_units, dropout_rate)\n",
    "        if self.combination_type == \"gated\":\n",
    "            self.update_fn = layers.GRU(\n",
    "                units=hidden_units,\n",
    "                activation=\"tanh\",\n",
    "                recurrent_activation=\"sigmoid\",\n",
    "                dropout=dropout_rate,\n",
    "                return_state=True,\n",
    "                recurrent_dropout=dropout_rate,\n",
    "            )\n",
    "        else:\n",
    "            self.update_fn = create_ffn(hidden_units, dropout_rate)\n",
    "\n",
    "    def prepare(self, node_repesentations, weights=None):\n",
    "        # node_repesentations shape is [num_edges, embedding_dim].\n",
    "        messages = self.ffn_prepare(node_repesentations)\n",
    "        if weights is not None:\n",
    "            messages = messages * tf.expand_dims(weights, -1)\n",
    "        return messages\n",
    "\n",
    "    def aggregate(self, node_indices, neighbour_messages):\n",
    "        # node_indices shape is [num_edges].\n",
    "        # neighbour_messages shape: [num_edges, representation_dim].\n",
    "        num_nodes = tf.math.reduce_max(node_indices) + 1\n",
    "        if self.aggregation_type == \"sum\":\n",
    "            aggregated_message = tf.math.unsorted_segment_sum(\n",
    "                neighbour_messages, node_indices, num_segments=num_nodes\n",
    "            )\n",
    "        elif self.aggregation_type == \"mean\":\n",
    "            aggregated_message = tf.math.unsorted_segment_mean(\n",
    "                neighbour_messages, node_indices, num_segments=num_nodes\n",
    "            )\n",
    "        elif self.aggregation_type == \"max\":\n",
    "            aggregated_message = tf.math.unsorted_segment_max(\n",
    "                neighbour_messages, node_indices, num_segments=num_nodes\n",
    "            )\n",
    "        else:\n",
    "            raise ValueError(f\"Invalid aggregation type: {self.aggregation_type}.\")\n",
    "\n",
    "        return aggregated_message\n",
    "\n",
    "    def update(self, node_repesentations, aggregated_messages):\n",
    "        # node_repesentations shape is [num_nodes, representation_dim].\n",
    "        # aggregated_messages shape is [num_nodes, representation_dim].\n",
    "        if self.combination_type == \"gru\":\n",
    "            # Create a sequence of two elements for the GRU layer.\n",
    "            h = tf.stack([node_repesentations, aggregated_messages], axis=1)\n",
    "        elif self.combination_type == \"concat\":\n",
    "            # Concatenate the node_repesentations and aggregated_messages.\n",
    "            h = tf.concat([node_repesentations, aggregated_messages], axis=1)\n",
    "        elif self.combination_type == \"add\":\n",
    "            # Add node_repesentations and aggregated_messages.\n",
    "            h = node_repesentations + aggregated_messages\n",
    "        else:\n",
    "            raise ValueError(f\"Invalid combination type: {self.combination_type}.\")\n",
    "\n",
    "        # Apply the processing function.\n",
    "        node_embeddings = self.update_fn(h)\n",
    "        if self.combination_type == \"gru\":\n",
    "            node_embeddings = tf.unstack(node_embeddings, axis=1)[-1]\n",
    "\n",
    "        if self.normalize:\n",
    "            node_embeddings = tf.nn.l2_normalize(node_embeddings, axis=-1)\n",
    "        return node_embeddings\n",
    "\n",
    "    def call(self, inputs):\n",
    "        \"\"\"Process the inputs to produce the node_embeddings.\n",
    "\n",
    "        inputs: a tuple of three elements: node_repesentations, edges, edge_weights.\n",
    "        Returns: node_embeddings of shape [num_nodes, representation_dim].\n",
    "        \"\"\"\n",
    "\n",
    "        node_repesentations, edges, edge_weights = inputs\n",
    "        # Get node_indices (source) and neighbour_indices (target) from edges.\n",
    "        node_indices, neighbour_indices = edges[0], edges[1]\n",
    "        # neighbour_repesentations shape is [num_edges, representation_dim].\n",
    "        neighbour_repesentations = tf.gather(node_repesentations, neighbour_indices)\n",
    "\n",
    "        # Prepare the messages of the neighbours.\n",
    "        neighbour_messages = self.prepare(neighbour_repesentations, edge_weights)\n",
    "        # Aggregate the neighbour messages.\n",
    "        aggregated_messages = self.aggregate(node_indices, neighbour_messages)\n",
    "        # Update the node embedding with the neighbour messages.\n",
    "        return self.update(node_repesentations, aggregated_messages)\n"
   ]
  },
  {
   "cell_type": "markdown",
   "metadata": {
    "id": "mFkelrFS0ygB"
   },
   "source": [
    "### Implement a graph neural network node classifier\n",
    "\n",
    "The GNN classification model follows the [Design Space for Graph Neural Networks](https://arxiv.org/abs/2011.08843) approach,\n",
    "as follows:\n",
    "\n",
    "1. Apply preprocessing using FFN to the node features to generate initial node representations.\n",
    "2. Apply one or more graph convolutional layer, with skip connections,  to the node representation\n",
    "to produce node embeddings.\n",
    "3. Apply post-processing using FFN to the node embeddings to generate the final node embeddings.\n",
    "4. Feed the node embeddings in a Softmax layer to predict the node class.\n",
    "\n",
    "<figure align=\"center\">\n",
    "<img src=\"https://maucher.home.hdm-stuttgart.de/Pics/GNNDesign.png\" width=\"600px\" align=\"center\">\n",
    "<figcaption>\n",
    "Image Source: <a href=\"https://arxiv.org/abs/2011.08843\">Design Space for Graph Neural Networks</a> \n",
    "</figcaption>\n",
    "</figure>\n",
    "\n",
    "Each graph convolutional layer added captures information from a further level of neighbours.\n",
    "However, adding many graph convolutional layer can cause oversmoothing, where the model\n",
    "produces similar embeddings for all the nodes.\n",
    "\n",
    "Note that the `graph_info` passed to the constructor of the Keras model, and used as a *property*\n",
    "of the Keras model object, rather than input data for training or prediction.\n",
    "The model will accept a **batch** of `node_indices`, which are used to lookup the\n",
    "node features and neighbours from the `graph_info`."
   ]
  },
  {
   "cell_type": "code",
   "execution_count": 82,
   "metadata": {
    "id": "L7kXaQVf0ygB"
   },
   "outputs": [],
   "source": [
    "\n",
    "class GNNNodeClassifier(tf.keras.Model):\n",
    "    def __init__(\n",
    "        self,\n",
    "        graph_info,\n",
    "        num_classes,\n",
    "        hidden_units,\n",
    "        aggregation_type=\"sum\",\n",
    "        combination_type=\"concat\",\n",
    "        dropout_rate=0.2,\n",
    "        normalize=True,\n",
    "        *args,\n",
    "        **kwargs,\n",
    "    ):\n",
    "        super(GNNNodeClassifier, self).__init__(*args, **kwargs)\n",
    "\n",
    "        # Unpack graph_info to three elements: node_features, edges, and edge_weight.\n",
    "        node_features, edges, edge_weights = graph_info\n",
    "        self.node_features = node_features\n",
    "        self.edges = edges\n",
    "        self.edge_weights = edge_weights\n",
    "        # Set edge_weights to ones if not provided.\n",
    "        if self.edge_weights is None:\n",
    "            self.edge_weights = tf.ones(shape=edges.shape[1])\n",
    "        # Scale edge_weights to sum to 1.\n",
    "        self.edge_weights = self.edge_weights / tf.math.reduce_sum(self.edge_weights)\n",
    "\n",
    "        # Create a process layer.\n",
    "        self.preprocess = create_ffn(hidden_units, dropout_rate, name=\"preprocess\")\n",
    "        # Create the first GraphConv layer.\n",
    "        self.conv1 = GraphConvLayer(\n",
    "            hidden_units,\n",
    "            dropout_rate,\n",
    "            aggregation_type,\n",
    "            combination_type,\n",
    "            normalize,\n",
    "            name=\"graph_conv1\",\n",
    "        )\n",
    "        # Create the second GraphConv layer.\n",
    "        self.conv2 = GraphConvLayer(\n",
    "            hidden_units,\n",
    "            dropout_rate,\n",
    "            aggregation_type,\n",
    "            combination_type,\n",
    "            normalize,\n",
    "            name=\"graph_conv2\",\n",
    "        )\n",
    "        # Create a postprocess layer.\n",
    "        self.postprocess = create_ffn(hidden_units, dropout_rate, name=\"postprocess\")\n",
    "        # Create a compute logits layer.\n",
    "        self.compute_logits = layers.Dense(units=num_classes, name=\"logits\")\n",
    "\n",
    "    def call(self, input_node_indices):\n",
    "        # Preprocess the node_features to produce node representations.\n",
    "        x = self.preprocess(self.node_features)\n",
    "        # Apply the first graph conv layer.\n",
    "        x1 = self.conv1((x, self.edges, self.edge_weights))\n",
    "        # Skip connection.\n",
    "        x = x1 + x\n",
    "        # Apply the second graph conv layer.\n",
    "        x2 = self.conv2((x, self.edges, self.edge_weights))\n",
    "        # Skip connection.\n",
    "        x = x2 + x\n",
    "        # Postprocess node embedding.\n",
    "        x = self.postprocess(x)\n",
    "        # Fetch node embeddings for the input node_indices.\n",
    "        node_embeddings = tf.squeeze(tf.gather(x, input_node_indices))\n",
    "        # Compute logits\n",
    "        return self.compute_logits(node_embeddings)\n"
   ]
  },
  {
   "cell_type": "markdown",
   "metadata": {
    "id": "9_q5CVO40ygB"
   },
   "source": [
    "Let's test instantiating and calling the GNN model.\n",
    "Notice that if you provide `N` node indices, the output will be a tensor of shape `[N, num_classes]`,\n",
    "regardless of the size of the graph."
   ]
  },
  {
   "cell_type": "code",
   "execution_count": 83,
   "metadata": {},
   "outputs": [],
   "source": [
    "def create_ffn(hidden_units, dropout_rate, name=None):\n",
    "    fnn_layers = []\n",
    "\n",
    "    for units in hidden_units:\n",
    "        fnn_layers.append(layers.BatchNormalization())\n",
    "        fnn_layers.append(layers.Dropout(dropout_rate))\n",
    "        fnn_layers.append(layers.Dense(units, activation=tf.nn.gelu))\n",
    "\n",
    "    return keras.Sequential(fnn_layers, name=name)"
   ]
  },
  {
   "cell_type": "code",
   "execution_count": 84,
   "metadata": {
    "id": "XFZR4Bc80ygB"
   },
   "outputs": [
    {
     "name": "stdout",
     "output_type": "stream",
     "text": [
      "GNN output shape: tf.Tensor(\n",
      "[[ 0.09489781 -0.13171248  0.07057946 -0.00091081 -0.00611768 -0.06186762\n",
      "  -0.0872837 ]\n",
      " [ 0.0284081   0.0716852   0.06900616 -0.00205153  0.12006313  0.07707085\n",
      "   0.0928875 ]\n",
      " [ 0.01449234  0.11557137  0.02314884  0.05024857 -0.07092346  0.10359368\n",
      "   0.02685509]], shape=(3, 7), dtype=float32)\n",
      "Model: \"gnn_model\"\n",
      "_________________________________________________________________\n",
      "Layer (type)                 Output Shape              Param #   \n",
      "=================================================================\n",
      "preprocess (Sequential)      (2708, 32)                52804     \n",
      "_________________________________________________________________\n",
      "graph_conv1 (GraphConvLayer) multiple                  5888      \n",
      "_________________________________________________________________\n",
      "graph_conv2 (GraphConvLayer) multiple                  5888      \n",
      "_________________________________________________________________\n",
      "postprocess (Sequential)     (2708, 32)                2368      \n",
      "_________________________________________________________________\n",
      "logits (Dense)               multiple                  231       \n",
      "=================================================================\n",
      "Total params: 67,179\n",
      "Trainable params: 63,481\n",
      "Non-trainable params: 3,698\n",
      "_________________________________________________________________\n"
     ]
    }
   ],
   "source": [
    "gnn_model = GNNNodeClassifier(\n",
    "    graph_info=graph_info,\n",
    "    num_classes=num_classes,\n",
    "    hidden_units=hidden_units,\n",
    "    dropout_rate=dropout_rate,\n",
    "    name=\"gnn_model\",\n",
    ")\n",
    "\n",
    "print(\"GNN output shape:\", gnn_model([1, 10, 100]))\n",
    "\n",
    "gnn_model.summary()"
   ]
  },
  {
   "cell_type": "markdown",
   "metadata": {
    "id": "BazApp610ygB"
   },
   "source": [
    "### Train the GNN model\n",
    "\n",
    "Note that we use the standard *supervised* cross-entropy loss to train the model.\n",
    "However, we can add another *self-supervised* loss term for the generated node embeddings\n",
    "that makes sure that neighbouring nodes in graph have similar representations, while faraway\n",
    "nodes have dissimilar representations."
   ]
  },
  {
   "cell_type": "code",
   "execution_count": 85,
   "metadata": {
    "id": "BAKOgtEz0ygC"
   },
   "outputs": [],
   "source": [
    "x_train = train_data.paper_id.to_numpy()\n",
    "#print(x_train.shape)\n",
    "history = run_experiment(gnn_model, x_train, y_train)"
   ]
  },
  {
   "cell_type": "markdown",
   "metadata": {
    "id": "gTsNDlXM0ygC"
   },
   "source": [
    "Let's plot the learning curves"
   ]
  },
  {
   "cell_type": "code",
   "execution_count": 86,
   "metadata": {
    "id": "vYLWnPjS0ygC"
   },
   "outputs": [
    {
     "data": {
      "image/png": "[encoded data removed]",
      "text/plain": [
       "<Figure size 1080x360 with 2 Axes>"
      ]
     },
     "metadata": {
      "needs_background": "light"
     },
     "output_type": "display_data"
    }
   ],
   "source": [
    "display_learning_curves(history)"
   ]
  },
  {
   "cell_type": "markdown",
   "metadata": {
    "id": "5dZKVzDy0ygC"
   },
   "source": [
    "Now we evaluate the GNN model on the test data split.\n",
    "The results may vary depending on the training sample, however the GNN model always outperforms\n",
    "the baseline model in terms of the test accuracy."
   ]
  },
  {
   "cell_type": "code",
   "execution_count": 87,
   "metadata": {
    "id": "euoCHHpt0ygC"
   },
   "outputs": [
    {
     "name": "stdout",
     "output_type": "stream",
     "text": [
      "Test accuracy: 77.85%\n"
     ]
    }
   ],
   "source": [
    "x_test = test_data.paper_id.to_numpy()\n",
    "_, test_accuracy = gnn_model.evaluate(x=x_test, y=y_test, verbose=0)\n",
    "print(f\"Test accuracy: {round(test_accuracy * 100, 2)}%\")"
   ]
  },
  {
   "cell_type": "markdown",
   "metadata": {
    "id": "Cg0r3fwo0ygC"
   },
   "source": [
    "### Examine the GNN model predictions\n",
    "\n",
    "Let's add the new instances as nodes to the `node_features`, and generate links\n",
    "(citations) to existing nodes."
   ]
  },
  {
   "cell_type": "code",
   "execution_count": 88,
   "metadata": {
    "id": "Hh0ZliBa0ygC"
   },
   "outputs": [],
   "source": [
    "# First we add the N new_instances as nodes to the graph\n",
    "# by appending the new_instance to node_features.\n",
    "num_nodes = node_features.shape[0]\n",
    "new_node_features = np.concatenate([node_features, new_instances])\n",
    "# Second we add the M edges (citations) from each new node to a set\n",
    "# of existing nodes in a particular subject\n",
    "new_node_indices = [i + num_nodes for i in range(num_classes)]\n",
    "new_citations = []\n",
    "for subject_idx, group in papers.groupby(\"subject\"):\n",
    "    subject_papers = list(group.paper_id)\n",
    "    # Select random x papers specific subject.\n",
    "    selected_paper_indices1 = np.random.choice(subject_papers, 5)\n",
    "    # Select random y papers from any subject (where y < x).\n",
    "    selected_paper_indices2 = np.random.choice(list(papers.paper_id), 2)\n",
    "    # Merge the selected paper indices.\n",
    "    selected_paper_indices = np.concatenate(\n",
    "        [selected_paper_indices1, selected_paper_indices2], axis=0\n",
    "    )\n",
    "    # Create edges between a citing paper idx and the selected cited papers.\n",
    "    citing_paper_indx = new_node_indices[subject_idx]\n",
    "    for cited_paper_idx in selected_paper_indices:\n",
    "        new_citations.append([citing_paper_indx, cited_paper_idx])\n",
    "\n",
    "new_citations = np.array(new_citations).T\n",
    "new_edges = np.concatenate([edges, new_citations], axis=1)"
   ]
  },
  {
   "cell_type": "markdown",
   "metadata": {
    "id": "eA6hetLS0ygC"
   },
   "source": [
    "Now let's update the `node_features` and the `edges` in the GNN model."
   ]
  },
  {
   "cell_type": "code",
   "execution_count": 89,
   "metadata": {
    "id": "YHUrMvs30ygC"
   },
   "outputs": [
    {
     "name": "stdout",
     "output_type": "stream",
     "text": [
      "Original node_features shape: (2708, 1433)\n",
      "Original edges shape: (2, 5429)\n",
      "New node_features shape: (2715, 1433)\n",
      "New edges shape: (2, 5478)\n",
      "Instance 1:\n",
      "- Case_Based: 0.95%\n",
      "- Genetic_Algorithms: 6.9%\n",
      "- Neural_Networks: 79.31%\n",
      "- Probabilistic_Methods: 1.83%\n",
      "- Reinforcement_Learning: 2.3%\n",
      "- Rule_Learning: 1.73%\n",
      "- Theory: 6.98%\n",
      "Instance 2:\n",
      "- Case_Based: 2.32%\n",
      "- Genetic_Algorithms: 74.62%\n",
      "- Neural_Networks: 9.23%\n",
      "- Probabilistic_Methods: 9.13%\n",
      "- Reinforcement_Learning: 4.04%\n",
      "- Rule_Learning: 0.13%\n",
      "- Theory: 0.53%\n",
      "Instance 3:\n",
      "- Case_Based: 0.05%\n",
      "- Genetic_Algorithms: 86.75%\n",
      "- Neural_Networks: 10.79%\n",
      "- Probabilistic_Methods: 1.5%\n",
      "- Reinforcement_Learning: 0.75%\n",
      "- Rule_Learning: 0.01%\n",
      "- Theory: 0.15%\n",
      "Instance 4:\n",
      "- Case_Based: 0.03%\n",
      "- Genetic_Algorithms: 0.06%\n",
      "- Neural_Networks: 97.93%\n",
      "- Probabilistic_Methods: 1.15%\n",
      "- Reinforcement_Learning: 0.04%\n",
      "- Rule_Learning: 0.02%\n",
      "- Theory: 0.78%\n",
      "Instance 5:\n",
      "- Case_Based: 0.13%\n",
      "- Genetic_Algorithms: 97.04%\n",
      "- Neural_Networks: 0.44%\n",
      "- Probabilistic_Methods: 0.3%\n",
      "- Reinforcement_Learning: 2.0%\n",
      "- Rule_Learning: 0.02%\n",
      "- Theory: 0.06%\n",
      "Instance 6:\n",
      "- Case_Based: 1.26%\n",
      "- Genetic_Algorithms: 70.2%\n",
      "- Neural_Networks: 8.54%\n",
      "- Probabilistic_Methods: 1.8%\n",
      "- Reinforcement_Learning: 12.06%\n",
      "- Rule_Learning: 1.68%\n",
      "- Theory: 4.46%\n",
      "Instance 7:\n",
      "- Case_Based: 3.97%\n",
      "- Genetic_Algorithms: 0.91%\n",
      "- Neural_Networks: 0.46%\n",
      "- Probabilistic_Methods: 1.52%\n",
      "- Reinforcement_Learning: 76.0%\n",
      "- Rule_Learning: 6.93%\n",
      "- Theory: 10.21%\n"
     ]
    }
   ],
   "source": [
    "print(\"Original node_features shape:\", gnn_model.node_features.shape)\n",
    "print(\"Original edges shape:\", gnn_model.edges.shape)\n",
    "gnn_model.node_features = new_node_features\n",
    "gnn_model.edges = new_edges\n",
    "gnn_model.edge_weights = tf.ones(shape=new_edges.shape[1])\n",
    "print(\"New node_features shape:\", gnn_model.node_features.shape)\n",
    "print(\"New edges shape:\", gnn_model.edges.shape)\n",
    "\n",
    "logits = gnn_model.predict(tf.convert_to_tensor(new_node_indices))\n",
    "probabilities = keras.activations.softmax(tf.convert_to_tensor(logits)).numpy()\n",
    "display_class_probabilities(probabilities)"
   ]
  },
  {
   "cell_type": "markdown",
   "metadata": {
    "id": "1PeWswlL0ygC"
   },
   "source": [
    "Notice that the probabilities of the expected subjects\n",
    "(to which several citations are added) are higher compared to the baseline model."
   ]
  }
 ],
 "metadata": {
  "colab": {
   "collapsed_sections": [],
   "name": "gnn_citations",
   "provenance": [],
   "toc_visible": true
  },
  "kernelspec": {
   "display_name": "Python 3",
   "language": "python",
   "name": "python3"
  },
  "language_info": {
   "codemirror_mode": {
    "name": "ipython",
    "version": 3
   },
   "file_extension": ".py",
   "mimetype": "text/x-python",
   "name": "python",
   "nbconvert_exporter": "python",
   "pygments_lexer": "ipython3",
   "version": "3.8.5"
  },
  "toc": {
   "base_numbering": 1,
   "nav_menu": {},
   "number_sections": true,
   "sideBar": true,
   "skip_h1_title": false,
   "title_cell": "Table of Contents",
   "title_sidebar": "Contents",
   "toc_cell": false,
   "toc_position": {},
   "toc_section_display": true,
   "toc_window_display": false
  }
 },
 "nbformat": 4,
 "nbformat_minor": 1
}
